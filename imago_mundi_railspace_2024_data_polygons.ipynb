{
 "cells": [
  {
   "cell_type": "markdown",
   "metadata": {},
   "source": [
    "# Railspace Text + Patch Data Exploration"
   ]
  },
  {
   "cell_type": "markdown",
   "metadata": {},
   "source": [
    "This notebook provides some examples of how to load and visualise the text outputs of MapReader. \n",
    "\n",
    "We focus on the geography of railspace and labels describing railspace on maps.\n",
    "\n",
    "----"
   ]
  },
  {
   "cell_type": "code",
   "execution_count": 1,
   "metadata": {},
   "outputs": [],
   "source": [
    "import pandas as pd\n",
    "import geopandas as gpd\n",
    "import plotly.express as px\n",
    "from collections import Counter\n",
    "from tqdm import tqdm\n",
    "from shapely import from_wkt, to_wkt"
   ]
  },
  {
   "cell_type": "markdown",
   "metadata": {},
   "source": [
    "# 1. Load data"
   ]
  },
  {
   "cell_type": "code",
   "execution_count": 2,
   "metadata": {},
   "outputs": [
    {
     "data": {
      "text/html": [
       "<div>\n",
       "<style scoped>\n",
       "    .dataframe tbody tr th:only-of-type {\n",
       "        vertical-align: middle;\n",
       "    }\n",
       "\n",
       "    .dataframe tbody tr th {\n",
       "        vertical-align: top;\n",
       "    }\n",
       "\n",
       "    .dataframe thead th {\n",
       "        text-align: right;\n",
       "    }\n",
       "</style>\n",
       "<table border=\"1\" class=\"dataframe\">\n",
       "  <thead>\n",
       "    <tr style=\"text-align: right;\">\n",
       "      <th></th>\n",
       "      <th>parent_id</th>\n",
       "      <th>image_path</th>\n",
       "      <th>shape</th>\n",
       "      <th>pixel_bounds</th>\n",
       "      <th>coordinates</th>\n",
       "      <th>crs</th>\n",
       "      <th>geometry</th>\n",
       "      <th>predicted_label</th>\n",
       "      <th>pred</th>\n",
       "      <th>conf</th>\n",
       "      <th>min_x</th>\n",
       "      <th>min_y</th>\n",
       "      <th>max_x</th>\n",
       "      <th>max_y</th>\n",
       "      <th>new_predicted_label</th>\n",
       "      <th>new_pred</th>\n",
       "    </tr>\n",
       "    <tr>\n",
       "      <th>image_id</th>\n",
       "      <th></th>\n",
       "      <th></th>\n",
       "      <th></th>\n",
       "      <th></th>\n",
       "      <th></th>\n",
       "      <th></th>\n",
       "      <th></th>\n",
       "      <th></th>\n",
       "      <th></th>\n",
       "      <th></th>\n",
       "      <th></th>\n",
       "      <th></th>\n",
       "      <th></th>\n",
       "      <th></th>\n",
       "      <th></th>\n",
       "      <th></th>\n",
       "    </tr>\n",
       "  </thead>\n",
       "  <tbody>\n",
       "    <tr>\n",
       "      <th>patch-0-0-134-134-#map_95470395.png#.png</th>\n",
       "      <td>map_95470395.png</td>\n",
       "      <td>/bask/projects/v/vjgo8416-dataculture/mapreade...</td>\n",
       "      <td>(134, 134, 4)</td>\n",
       "      <td>(0, 0, 134, 134)</td>\n",
       "      <td>(-0.230712890625, 51.49416936411413, -0.229275...</td>\n",
       "      <td>EPSG:4326</td>\n",
       "      <td>POLYGON ((-0.22928 51.49417, -0.22928 51.49506...</td>\n",
       "      <td>no</td>\n",
       "      <td>0</td>\n",
       "      <td>0.962000</td>\n",
       "      <td>0</td>\n",
       "      <td>0</td>\n",
       "      <td>134</td>\n",
       "      <td>134</td>\n",
       "      <td>no</td>\n",
       "      <td>0.0</td>\n",
       "    </tr>\n",
       "    <tr>\n",
       "      <th>patch-0-134-134-268-#map_95470395.png#.png</th>\n",
       "      <td>map_95470395.png</td>\n",
       "      <td>/bask/projects/v/vjgo8416-dataculture/mapreade...</td>\n",
       "      <td>(134, 134, 4)</td>\n",
       "      <td>(0, 134, 134, 268)</td>\n",
       "      <td>(-0.230712890625, 51.49327399808456, -0.229275...</td>\n",
       "      <td>EPSG:4326</td>\n",
       "      <td>POLYGON ((-0.22928 51.49327, -0.22928 51.49417...</td>\n",
       "      <td>railspace</td>\n",
       "      <td>1</td>\n",
       "      <td>0.999944</td>\n",
       "      <td>0</td>\n",
       "      <td>134</td>\n",
       "      <td>134</td>\n",
       "      <td>268</td>\n",
       "      <td>railspace</td>\n",
       "      <td>1.0</td>\n",
       "    </tr>\n",
       "    <tr>\n",
       "      <th>patch-0-268-134-402-#map_95470395.png#.png</th>\n",
       "      <td>map_95470395.png</td>\n",
       "      <td>/bask/projects/v/vjgo8416-dataculture/mapreade...</td>\n",
       "      <td>(134, 134, 4)</td>\n",
       "      <td>(0, 268, 134, 402)</td>\n",
       "      <td>(-0.230712890625, 51.492378632055, -0.22927522...</td>\n",
       "      <td>EPSG:4326</td>\n",
       "      <td>POLYGON ((-0.22928 51.49238, -0.22928 51.49327...</td>\n",
       "      <td>no</td>\n",
       "      <td>0</td>\n",
       "      <td>0.999654</td>\n",
       "      <td>0</td>\n",
       "      <td>268</td>\n",
       "      <td>134</td>\n",
       "      <td>402</td>\n",
       "      <td>no</td>\n",
       "      <td>0.0</td>\n",
       "    </tr>\n",
       "  </tbody>\n",
       "</table>\n",
       "</div>"
      ],
      "text/plain": [
       "                                                   parent_id  \\\n",
       "image_id                                                       \n",
       "patch-0-0-134-134-#map_95470395.png#.png    map_95470395.png   \n",
       "patch-0-134-134-268-#map_95470395.png#.png  map_95470395.png   \n",
       "patch-0-268-134-402-#map_95470395.png#.png  map_95470395.png   \n",
       "\n",
       "                                                                                   image_path  \\\n",
       "image_id                                                                                        \n",
       "patch-0-0-134-134-#map_95470395.png#.png    /bask/projects/v/vjgo8416-dataculture/mapreade...   \n",
       "patch-0-134-134-268-#map_95470395.png#.png  /bask/projects/v/vjgo8416-dataculture/mapreade...   \n",
       "patch-0-268-134-402-#map_95470395.png#.png  /bask/projects/v/vjgo8416-dataculture/mapreade...   \n",
       "\n",
       "                                                    shape        pixel_bounds  \\\n",
       "image_id                                                                        \n",
       "patch-0-0-134-134-#map_95470395.png#.png    (134, 134, 4)    (0, 0, 134, 134)   \n",
       "patch-0-134-134-268-#map_95470395.png#.png  (134, 134, 4)  (0, 134, 134, 268)   \n",
       "patch-0-268-134-402-#map_95470395.png#.png  (134, 134, 4)  (0, 268, 134, 402)   \n",
       "\n",
       "                                                                                  coordinates  \\\n",
       "image_id                                                                                        \n",
       "patch-0-0-134-134-#map_95470395.png#.png    (-0.230712890625, 51.49416936411413, -0.229275...   \n",
       "patch-0-134-134-268-#map_95470395.png#.png  (-0.230712890625, 51.49327399808456, -0.229275...   \n",
       "patch-0-268-134-402-#map_95470395.png#.png  (-0.230712890625, 51.492378632055, -0.22927522...   \n",
       "\n",
       "                                                  crs  \\\n",
       "image_id                                                \n",
       "patch-0-0-134-134-#map_95470395.png#.png    EPSG:4326   \n",
       "patch-0-134-134-268-#map_95470395.png#.png  EPSG:4326   \n",
       "patch-0-268-134-402-#map_95470395.png#.png  EPSG:4326   \n",
       "\n",
       "                                                                                     geometry  \\\n",
       "image_id                                                                                        \n",
       "patch-0-0-134-134-#map_95470395.png#.png    POLYGON ((-0.22928 51.49417, -0.22928 51.49506...   \n",
       "patch-0-134-134-268-#map_95470395.png#.png  POLYGON ((-0.22928 51.49327, -0.22928 51.49417...   \n",
       "patch-0-268-134-402-#map_95470395.png#.png  POLYGON ((-0.22928 51.49238, -0.22928 51.49327...   \n",
       "\n",
       "                                           predicted_label  pred      conf  \\\n",
       "image_id                                                                     \n",
       "patch-0-0-134-134-#map_95470395.png#.png                no     0  0.962000   \n",
       "patch-0-134-134-268-#map_95470395.png#.png       railspace     1  0.999944   \n",
       "patch-0-268-134-402-#map_95470395.png#.png              no     0  0.999654   \n",
       "\n",
       "                                            min_x  min_y  max_x  max_y  \\\n",
       "image_id                                                                 \n",
       "patch-0-0-134-134-#map_95470395.png#.png        0      0    134    134   \n",
       "patch-0-134-134-268-#map_95470395.png#.png      0    134    134    268   \n",
       "patch-0-268-134-402-#map_95470395.png#.png      0    268    134    402   \n",
       "\n",
       "                                           new_predicted_label  new_pred  \n",
       "image_id                                                                  \n",
       "patch-0-0-134-134-#map_95470395.png#.png                    no       0.0  \n",
       "patch-0-134-134-268-#map_95470395.png#.png           railspace       1.0  \n",
       "patch-0-268-134-402-#map_95470395.png#.png                  no       0.0  "
      ]
     },
     "execution_count": 2,
     "metadata": {},
     "output_type": "execute_result"
    }
   ],
   "source": [
    "# 1.1 Load the patch labels (i.e. railspace/no) for railspace model\n",
    "\n",
    "patch_labels = pd.read_csv(\"../post_processed_railspace_predictions_patch_df.csv\", index_col=0)\n",
    "patch_labels[\"geometry\"] = patch_labels[\"geometry\"].apply(from_wkt) # convert the geometry column to shapely objects\n",
    "patch_labels = gpd.GeoDataFrame(patch_labels, geometry=\"geometry\", crs=\"EPSG:4326\")\n",
    "\n",
    "patch_labels.head(3)"
   ]
  },
  {
   "cell_type": "code",
   "execution_count": 4,
   "metadata": {},
   "outputs": [
    {
     "data": {
      "text/html": [
       "<div>\n",
       "<style scoped>\n",
       "    .dataframe tbody tr th:only-of-type {\n",
       "        vertical-align: middle;\n",
       "    }\n",
       "\n",
       "    .dataframe tbody tr th {\n",
       "        vertical-align: top;\n",
       "    }\n",
       "\n",
       "    .dataframe thead th {\n",
       "        text-align: right;\n",
       "    }\n",
       "</style>\n",
       "<table border=\"1\" class=\"dataframe\">\n",
       "  <thead>\n",
       "    <tr style=\"text-align: right;\">\n",
       "      <th></th>\n",
       "      <th>parent_id</th>\n",
       "      <th>image_path</th>\n",
       "      <th>shape</th>\n",
       "      <th>pixel_bounds</th>\n",
       "      <th>coordinates</th>\n",
       "      <th>crs</th>\n",
       "      <th>geometry</th>\n",
       "      <th>mean_pixel</th>\n",
       "      <th>mean_pixel_R</th>\n",
       "      <th>mean_pixel_G</th>\n",
       "      <th>mean_pixel_B</th>\n",
       "      <th>mean_pixel_A</th>\n",
       "      <th>std_pixel</th>\n",
       "      <th>std_pixel_R</th>\n",
       "      <th>std_pixel_G</th>\n",
       "      <th>std_pixel_B</th>\n",
       "      <th>std_pixel_A</th>\n",
       "    </tr>\n",
       "    <tr>\n",
       "      <th>image_id</th>\n",
       "      <th></th>\n",
       "      <th></th>\n",
       "      <th></th>\n",
       "      <th></th>\n",
       "      <th></th>\n",
       "      <th></th>\n",
       "      <th></th>\n",
       "      <th></th>\n",
       "      <th></th>\n",
       "      <th></th>\n",
       "      <th></th>\n",
       "      <th></th>\n",
       "      <th></th>\n",
       "      <th></th>\n",
       "      <th></th>\n",
       "      <th></th>\n",
       "      <th></th>\n",
       "    </tr>\n",
       "  </thead>\n",
       "  <tbody>\n",
       "    <tr>\n",
       "      <th>patch-0-0-134-134-#map_95470395.png#.png</th>\n",
       "      <td>map_95470395.png</td>\n",
       "      <td>/bask/projects/v/vjgo8416-dataculture/mapreade...</td>\n",
       "      <td>(134, 134, 4)</td>\n",
       "      <td>(0, 0, 134, 134)</td>\n",
       "      <td>(-0.230712890625, 51.49416936411413, -0.229275...</td>\n",
       "      <td>EPSG:4326</td>\n",
       "      <td>POLYGON ((-0.2292752265930176 51.4941693641141...</td>\n",
       "      <td>0.783453</td>\n",
       "      <td>0.729448</td>\n",
       "      <td>0.724836</td>\n",
       "      <td>0.679528</td>\n",
       "      <td>1.0</td>\n",
       "      <td>0.177837</td>\n",
       "      <td>0.241924</td>\n",
       "      <td>0.240780</td>\n",
       "      <td>0.228645</td>\n",
       "      <td>0.0</td>\n",
       "    </tr>\n",
       "    <tr>\n",
       "      <th>patch-0-134-134-268-#map_95470395.png#.png</th>\n",
       "      <td>map_95470395.png</td>\n",
       "      <td>/bask/projects/v/vjgo8416-dataculture/mapreade...</td>\n",
       "      <td>(134, 134, 4)</td>\n",
       "      <td>(0, 134, 134, 268)</td>\n",
       "      <td>(-0.230712890625, 51.49327399808456, -0.229275...</td>\n",
       "      <td>EPSG:4326</td>\n",
       "      <td>POLYGON ((-0.2292752265930176 51.4932739980845...</td>\n",
       "      <td>0.767837</td>\n",
       "      <td>0.707346</td>\n",
       "      <td>0.705179</td>\n",
       "      <td>0.658822</td>\n",
       "      <td>1.0</td>\n",
       "      <td>0.139691</td>\n",
       "      <td>0.189260</td>\n",
       "      <td>0.188089</td>\n",
       "      <td>0.181415</td>\n",
       "      <td>0.0</td>\n",
       "    </tr>\n",
       "    <tr>\n",
       "      <th>patch-0-268-134-402-#map_95470395.png#.png</th>\n",
       "      <td>map_95470395.png</td>\n",
       "      <td>/bask/projects/v/vjgo8416-dataculture/mapreade...</td>\n",
       "      <td>(134, 134, 4)</td>\n",
       "      <td>(0, 268, 134, 402)</td>\n",
       "      <td>(-0.230712890625, 51.492378632055, -0.22927522...</td>\n",
       "      <td>EPSG:4326</td>\n",
       "      <td>POLYGON ((-0.2292752265930176 51.492378632055,...</td>\n",
       "      <td>0.783654</td>\n",
       "      <td>0.729539</td>\n",
       "      <td>0.727180</td>\n",
       "      <td>0.677897</td>\n",
       "      <td>1.0</td>\n",
       "      <td>0.139936</td>\n",
       "      <td>0.190090</td>\n",
       "      <td>0.188499</td>\n",
       "      <td>0.181156</td>\n",
       "      <td>0.0</td>\n",
       "    </tr>\n",
       "    <tr>\n",
       "      <th>patch-0-402-134-536-#map_95470395.png#.png</th>\n",
       "      <td>map_95470395.png</td>\n",
       "      <td>/bask/projects/v/vjgo8416-dataculture/mapreade...</td>\n",
       "      <td>(134, 134, 4)</td>\n",
       "      <td>(0, 402, 134, 536)</td>\n",
       "      <td>(-0.230712890625, 51.49148326602543, -0.229275...</td>\n",
       "      <td>EPSG:4326</td>\n",
       "      <td>POLYGON ((-0.2292752265930176 51.4914832660254...</td>\n",
       "      <td>0.818651</td>\n",
       "      <td>0.778711</td>\n",
       "      <td>0.774625</td>\n",
       "      <td>0.721267</td>\n",
       "      <td>1.0</td>\n",
       "      <td>0.129195</td>\n",
       "      <td>0.176301</td>\n",
       "      <td>0.174155</td>\n",
       "      <td>0.166325</td>\n",
       "      <td>0.0</td>\n",
       "    </tr>\n",
       "    <tr>\n",
       "      <th>patch-0-536-134-670-#map_95470395.png#.png</th>\n",
       "      <td>map_95470395.png</td>\n",
       "      <td>/bask/projects/v/vjgo8416-dataculture/mapreade...</td>\n",
       "      <td>(134, 134, 4)</td>\n",
       "      <td>(0, 536, 134, 670)</td>\n",
       "      <td>(-0.230712890625, 51.49058789999587, -0.229275...</td>\n",
       "      <td>EPSG:4326</td>\n",
       "      <td>POLYGON ((-0.2292752265930176 51.4905878999958...</td>\n",
       "      <td>0.794962</td>\n",
       "      <td>0.745092</td>\n",
       "      <td>0.742249</td>\n",
       "      <td>0.692508</td>\n",
       "      <td>1.0</td>\n",
       "      <td>0.137823</td>\n",
       "      <td>0.187255</td>\n",
       "      <td>0.185817</td>\n",
       "      <td>0.178218</td>\n",
       "      <td>0.0</td>\n",
       "    </tr>\n",
       "  </tbody>\n",
       "</table>\n",
       "</div>"
      ],
      "text/plain": [
       "                                                   parent_id  \\\n",
       "image_id                                                       \n",
       "patch-0-0-134-134-#map_95470395.png#.png    map_95470395.png   \n",
       "patch-0-134-134-268-#map_95470395.png#.png  map_95470395.png   \n",
       "patch-0-268-134-402-#map_95470395.png#.png  map_95470395.png   \n",
       "patch-0-402-134-536-#map_95470395.png#.png  map_95470395.png   \n",
       "patch-0-536-134-670-#map_95470395.png#.png  map_95470395.png   \n",
       "\n",
       "                                                                                   image_path  \\\n",
       "image_id                                                                                        \n",
       "patch-0-0-134-134-#map_95470395.png#.png    /bask/projects/v/vjgo8416-dataculture/mapreade...   \n",
       "patch-0-134-134-268-#map_95470395.png#.png  /bask/projects/v/vjgo8416-dataculture/mapreade...   \n",
       "patch-0-268-134-402-#map_95470395.png#.png  /bask/projects/v/vjgo8416-dataculture/mapreade...   \n",
       "patch-0-402-134-536-#map_95470395.png#.png  /bask/projects/v/vjgo8416-dataculture/mapreade...   \n",
       "patch-0-536-134-670-#map_95470395.png#.png  /bask/projects/v/vjgo8416-dataculture/mapreade...   \n",
       "\n",
       "                                                    shape        pixel_bounds  \\\n",
       "image_id                                                                        \n",
       "patch-0-0-134-134-#map_95470395.png#.png    (134, 134, 4)    (0, 0, 134, 134)   \n",
       "patch-0-134-134-268-#map_95470395.png#.png  (134, 134, 4)  (0, 134, 134, 268)   \n",
       "patch-0-268-134-402-#map_95470395.png#.png  (134, 134, 4)  (0, 268, 134, 402)   \n",
       "patch-0-402-134-536-#map_95470395.png#.png  (134, 134, 4)  (0, 402, 134, 536)   \n",
       "patch-0-536-134-670-#map_95470395.png#.png  (134, 134, 4)  (0, 536, 134, 670)   \n",
       "\n",
       "                                                                                  coordinates  \\\n",
       "image_id                                                                                        \n",
       "patch-0-0-134-134-#map_95470395.png#.png    (-0.230712890625, 51.49416936411413, -0.229275...   \n",
       "patch-0-134-134-268-#map_95470395.png#.png  (-0.230712890625, 51.49327399808456, -0.229275...   \n",
       "patch-0-268-134-402-#map_95470395.png#.png  (-0.230712890625, 51.492378632055, -0.22927522...   \n",
       "patch-0-402-134-536-#map_95470395.png#.png  (-0.230712890625, 51.49148326602543, -0.229275...   \n",
       "patch-0-536-134-670-#map_95470395.png#.png  (-0.230712890625, 51.49058789999587, -0.229275...   \n",
       "\n",
       "                                                  crs  \\\n",
       "image_id                                                \n",
       "patch-0-0-134-134-#map_95470395.png#.png    EPSG:4326   \n",
       "patch-0-134-134-268-#map_95470395.png#.png  EPSG:4326   \n",
       "patch-0-268-134-402-#map_95470395.png#.png  EPSG:4326   \n",
       "patch-0-402-134-536-#map_95470395.png#.png  EPSG:4326   \n",
       "patch-0-536-134-670-#map_95470395.png#.png  EPSG:4326   \n",
       "\n",
       "                                                                                     geometry  \\\n",
       "image_id                                                                                        \n",
       "patch-0-0-134-134-#map_95470395.png#.png    POLYGON ((-0.2292752265930176 51.4941693641141...   \n",
       "patch-0-134-134-268-#map_95470395.png#.png  POLYGON ((-0.2292752265930176 51.4932739980845...   \n",
       "patch-0-268-134-402-#map_95470395.png#.png  POLYGON ((-0.2292752265930176 51.492378632055,...   \n",
       "patch-0-402-134-536-#map_95470395.png#.png  POLYGON ((-0.2292752265930176 51.4914832660254...   \n",
       "patch-0-536-134-670-#map_95470395.png#.png  POLYGON ((-0.2292752265930176 51.4905878999958...   \n",
       "\n",
       "                                            mean_pixel  mean_pixel_R  \\\n",
       "image_id                                                               \n",
       "patch-0-0-134-134-#map_95470395.png#.png      0.783453      0.729448   \n",
       "patch-0-134-134-268-#map_95470395.png#.png    0.767837      0.707346   \n",
       "patch-0-268-134-402-#map_95470395.png#.png    0.783654      0.729539   \n",
       "patch-0-402-134-536-#map_95470395.png#.png    0.818651      0.778711   \n",
       "patch-0-536-134-670-#map_95470395.png#.png    0.794962      0.745092   \n",
       "\n",
       "                                            mean_pixel_G  mean_pixel_B  \\\n",
       "image_id                                                                 \n",
       "patch-0-0-134-134-#map_95470395.png#.png        0.724836      0.679528   \n",
       "patch-0-134-134-268-#map_95470395.png#.png      0.705179      0.658822   \n",
       "patch-0-268-134-402-#map_95470395.png#.png      0.727180      0.677897   \n",
       "patch-0-402-134-536-#map_95470395.png#.png      0.774625      0.721267   \n",
       "patch-0-536-134-670-#map_95470395.png#.png      0.742249      0.692508   \n",
       "\n",
       "                                            mean_pixel_A  std_pixel  \\\n",
       "image_id                                                              \n",
       "patch-0-0-134-134-#map_95470395.png#.png             1.0   0.177837   \n",
       "patch-0-134-134-268-#map_95470395.png#.png           1.0   0.139691   \n",
       "patch-0-268-134-402-#map_95470395.png#.png           1.0   0.139936   \n",
       "patch-0-402-134-536-#map_95470395.png#.png           1.0   0.129195   \n",
       "patch-0-536-134-670-#map_95470395.png#.png           1.0   0.137823   \n",
       "\n",
       "                                            std_pixel_R  std_pixel_G  \\\n",
       "image_id                                                               \n",
       "patch-0-0-134-134-#map_95470395.png#.png       0.241924     0.240780   \n",
       "patch-0-134-134-268-#map_95470395.png#.png     0.189260     0.188089   \n",
       "patch-0-268-134-402-#map_95470395.png#.png     0.190090     0.188499   \n",
       "patch-0-402-134-536-#map_95470395.png#.png     0.176301     0.174155   \n",
       "patch-0-536-134-670-#map_95470395.png#.png     0.187255     0.185817   \n",
       "\n",
       "                                            std_pixel_B  std_pixel_A  \n",
       "image_id                                                              \n",
       "patch-0-0-134-134-#map_95470395.png#.png       0.228645          0.0  \n",
       "patch-0-134-134-268-#map_95470395.png#.png     0.181415          0.0  \n",
       "patch-0-268-134-402-#map_95470395.png#.png     0.181156          0.0  \n",
       "patch-0-402-134-536-#map_95470395.png#.png     0.166325          0.0  \n",
       "patch-0-536-134-670-#map_95470395.png#.png     0.178218          0.0  "
      ]
     },
     "execution_count": 4,
     "metadata": {},
     "output_type": "execute_result"
    }
   ],
   "source": [
    "## Load the patch stats for the 100m patches\n",
    "patch_df = pd.read_csv(\"./100meter_patch_df.csv\", index_col=0)\n",
    "patch_df.head()"
   ]
  },
  {
   "cell_type": "code",
   "execution_count": 4,
   "metadata": {},
   "outputs": [],
   "source": [
    "# Join the patch_df to the labels dataframe, adding pixel stats\n",
    "patch_labels = patch_labels.join(\n",
    "    patch_df[['mean_pixel', 'mean_pixel_R', 'mean_pixel_G', 'mean_pixel_B', 'mean_pixel_A', 'std_pixel', 'std_pixel_R', 'std_pixel_G', 'std_pixel_B', 'std_pixel_A']]\n",
    "    ) "
   ]
  },
  {
   "cell_type": "code",
   "execution_count": 5,
   "metadata": {},
   "outputs": [],
   "source": [
    "# filter for only railspace patches\n",
    "railspace_patches = patch_labels[patch_labels[\"new_predicted_label\"]==\"railspace\"].copy(deep=True)\n",
    "railspace_patches.reset_index(drop=False, inplace=True) # add image_id as column instead of index"
   ]
  },
  {
   "cell_type": "code",
   "execution_count": 6,
   "metadata": {},
   "outputs": [],
   "source": [
    "# convert the projection of our patch data to British National Grid\n",
    "railspace_patches.to_crs(epsg=27700, inplace=True)"
   ]
  },
  {
   "cell_type": "code",
   "execution_count": 7,
   "metadata": {},
   "outputs": [
    {
     "data": {
      "text/plain": [
       "(463769, 7)"
      ]
     },
     "execution_count": 7,
     "metadata": {},
     "output_type": "execute_result"
    }
   ],
   "source": [
    "# 1.2 load the geojson with spotted text\n",
    "\n",
    "# we use the file that has been converted to point data\n",
    "recognised_text = gpd.read_file(\"../geo_predictions_deduplicated_point.json\")\n",
    "recognised_text.to_crs(epsg=27700, inplace=True)\n",
    "recognised_text.shape\n"
   ]
  },
  {
   "cell_type": "code",
   "execution_count": 8,
   "metadata": {},
   "outputs": [
    {
     "data": {
      "text/html": [
       "<div>\n",
       "<style scoped>\n",
       "    .dataframe tbody tr th:only-of-type {\n",
       "        vertical-align: middle;\n",
       "    }\n",
       "\n",
       "    .dataframe tbody tr th {\n",
       "        vertical-align: top;\n",
       "    }\n",
       "\n",
       "    .dataframe thead th {\n",
       "        text-align: right;\n",
       "    }\n",
       "</style>\n",
       "<table border=\"1\" class=\"dataframe\">\n",
       "  <thead>\n",
       "    <tr style=\"text-align: right;\">\n",
       "      <th></th>\n",
       "      <th>image_id</th>\n",
       "      <th>crs</th>\n",
       "      <th>text</th>\n",
       "      <th>score</th>\n",
       "      <th>patch_id</th>\n",
       "      <th>duplicate</th>\n",
       "      <th>geometry</th>\n",
       "    </tr>\n",
       "  </thead>\n",
       "  <tbody>\n",
       "    <tr>\n",
       "      <th>0</th>\n",
       "      <td>map_95470395.png</td>\n",
       "      <td>EPSG:4326</td>\n",
       "      <td>GARDENS</td>\n",
       "      <td>0.97</td>\n",
       "      <td>patch-0-0-1000-1000-#map_95470395.png#.png</td>\n",
       "      <td>False</td>\n",
       "      <td>POINT (523626.732 178792.734)</td>\n",
       "    </tr>\n",
       "    <tr>\n",
       "      <th>1</th>\n",
       "      <td>map_95470395.png</td>\n",
       "      <td>EPSG:4326</td>\n",
       "      <td>Soh.</td>\n",
       "      <td>0.96</td>\n",
       "      <td>patch-0-0-1000-1000-#map_95470395.png#.png</td>\n",
       "      <td>False</td>\n",
       "      <td>POINT (523628.406 178550.555)</td>\n",
       "    </tr>\n",
       "    <tr>\n",
       "      <th>2</th>\n",
       "      <td>map_95470395.png</td>\n",
       "      <td>EPSG:4326</td>\n",
       "      <td>ROAD</td>\n",
       "      <td>0.98</td>\n",
       "      <td>patch-0-0-1000-1000-#map_95470395.png#.png</td>\n",
       "      <td>False</td>\n",
       "      <td>POINT (523372.540 178126.047)</td>\n",
       "    </tr>\n",
       "    <tr>\n",
       "      <th>3</th>\n",
       "      <td>map_95470395.png</td>\n",
       "      <td>EPSG:4326</td>\n",
       "      <td>STREET</td>\n",
       "      <td>0.97</td>\n",
       "      <td>patch-0-0-1000-1000-#map_95470395.png#.png</td>\n",
       "      <td>False</td>\n",
       "      <td>POINT (523149.799 178569.302)</td>\n",
       "    </tr>\n",
       "    <tr>\n",
       "      <th>4</th>\n",
       "      <td>map_95470395.png</td>\n",
       "      <td>EPSG:4326</td>\n",
       "      <td>BERYL</td>\n",
       "      <td>0.97</td>\n",
       "      <td>patch-0-0-1000-1000-#map_95470395.png#.png</td>\n",
       "      <td>False</td>\n",
       "      <td>POINT (523615.184 178128.549)</td>\n",
       "    </tr>\n",
       "  </tbody>\n",
       "</table>\n",
       "</div>"
      ],
      "text/plain": [
       "           image_id        crs     text score  \\\n",
       "0  map_95470395.png  EPSG:4326  GARDENS  0.97   \n",
       "1  map_95470395.png  EPSG:4326     Soh.  0.96   \n",
       "2  map_95470395.png  EPSG:4326     ROAD  0.98   \n",
       "3  map_95470395.png  EPSG:4326   STREET  0.97   \n",
       "4  map_95470395.png  EPSG:4326    BERYL  0.97   \n",
       "\n",
       "                                     patch_id  duplicate  \\\n",
       "0  patch-0-0-1000-1000-#map_95470395.png#.png      False   \n",
       "1  patch-0-0-1000-1000-#map_95470395.png#.png      False   \n",
       "2  patch-0-0-1000-1000-#map_95470395.png#.png      False   \n",
       "3  patch-0-0-1000-1000-#map_95470395.png#.png      False   \n",
       "4  patch-0-0-1000-1000-#map_95470395.png#.png      False   \n",
       "\n",
       "                        geometry  \n",
       "0  POINT (523626.732 178792.734)  \n",
       "1  POINT (523628.406 178550.555)  \n",
       "2  POINT (523372.540 178126.047)  \n",
       "3  POINT (523149.799 178569.302)  \n",
       "4  POINT (523615.184 178128.549)  "
      ]
     },
     "execution_count": 8,
     "metadata": {},
     "output_type": "execute_result"
    }
   ],
   "source": [
    "#1.3 view recognised_text df\n",
    "\n",
    "recognised_text.head()"
   ]
  },
  {
   "cell_type": "code",
   "execution_count": 9,
   "metadata": {},
   "outputs": [],
   "source": [
    "#1.4 clean recognised_text \n",
    "\n",
    "recognised_text['text_cleaned'] = recognised_text['text'].apply(lambda x: x.lower().strip().replace(\"(\", \"\").replace(\")\", \"\"))"
   ]
  },
  {
   "cell_type": "markdown",
   "metadata": {},
   "source": [
    "## 2. Filter recognised text\n",
    "\n",
    "Here we discard the following texts:\n",
    "- those starting and ending with #\n",
    "- those starting < or ending with >\n",
    "- numbers after stripping the dot\n",
    "\n",
    "The we lowercase all text."
   ]
  },
  {
   "cell_type": "code",
   "execution_count": 10,
   "metadata": {},
   "outputs": [],
   "source": [
    "# 2.1 filter spotted to reduce noisy labels\n",
    "\n",
    "def filter_labels(w):\n",
    "\t\"\"\"Returns `True` if the word is considered noise, `False` otherwise.\"\"\"\n",
    "\treturn (w.endswith('#') or w.startswith('#') or w.endswith('>') or w.startswith('<') or w.strip('.').isdigit())\n",
    "\n",
    "recognised_text_filtered = recognised_text[~recognised_text.apply(lambda x: filter_labels(x['text_cleaned']), axis=1)]"
   ]
  },
  {
   "cell_type": "code",
   "execution_count": 11,
   "metadata": {},
   "outputs": [
    {
     "data": {
      "text/plain": [
       "(210429, 8)"
      ]
     },
     "execution_count": 11,
     "metadata": {},
     "output_type": "execute_result"
    }
   ],
   "source": [
    "# 2.2 remove duplicates\n",
    "\n",
    "recognised_text_filtered = recognised_text_filtered.drop_duplicates(subset=['patch_id','geometry','text']).reset_index(drop=True)\n",
    "recognised_text_filtered.shape"
   ]
  },
  {
   "cell_type": "code",
   "execution_count": 12,
   "metadata": {},
   "outputs": [
    {
     "name": "stdout",
     "output_type": "stream",
     "text": [
      "Railspace predictions shape: (29395, 27)\n",
      "Spotted text original shape: (463769, 8)\n",
      "Spotted text filtered shape: (210429, 8)\n"
     ]
    }
   ],
   "source": [
    "# 2.3 print the shape of the dataframes\n",
    "\n",
    "print(f\"Railspace predictions shape: {railspace_patches.shape}\")\n",
    "print(f\"Spotted text original shape: {recognised_text.shape}\")\n",
    "print(f\"Spotted text filtered shape: {recognised_text_filtered.shape}\")"
   ]
  },
  {
   "cell_type": "markdown",
   "metadata": {},
   "source": [
    "### 2a. View the text data"
   ]
  },
  {
   "cell_type": "markdown",
   "metadata": {},
   "source": [
    "Before filtering noisy labels (#, <, > and digits)"
   ]
  },
  {
   "cell_type": "code",
   "execution_count": 13,
   "metadata": {},
   "outputs": [
    {
     "data": {
      "text/plain": [
       "0.8532585187884485"
      ]
     },
     "execution_count": 13,
     "metadata": {},
     "output_type": "execute_result"
    }
   ],
   "source": [
    "# mean confidence score for spotted text\n",
    "# before filtering\n",
    "recognised_text[\"score\"].astype(float).mean()"
   ]
  },
  {
   "cell_type": "code",
   "execution_count": 14,
   "metadata": {},
   "outputs": [
    {
     "data": {
      "text/plain": [
       "text_cleaned\n",
       "b.      32552\n",
       "m.      25417\n",
       "f.      17955\n",
       "p.      17325\n",
       "road    15138\n",
       "p       14278\n",
       "s.       5857\n",
       "farm     4831\n",
       "w        4309\n",
       "b        4306\n",
       "Name: count, dtype: int64"
      ]
     },
     "execution_count": 14,
     "metadata": {},
     "output_type": "execute_result"
    }
   ],
   "source": [
    "# count text values\n",
    "# before filtering\n",
    "recognised_text.text_cleaned.value_counts().head(10)"
   ]
  },
  {
   "cell_type": "code",
   "execution_count": 15,
   "metadata": {},
   "outputs": [
    {
     "data": {
      "text/plain": [
       "0.9285587428790072"
      ]
     },
     "execution_count": 15,
     "metadata": {},
     "output_type": "execute_result"
    }
   ],
   "source": [
    "# mean confidence score for spotted text excluding words with less than 3 characters or non-alphabetical characters\n",
    "# before filtering\n",
    "recognised_text[\n",
    "    recognised_text[\"text_cleaned\"].apply(lambda x: len(x) > 2)\n",
    "    & recognised_text[\"text_cleaned\"].str.isalpha()\n",
    "][\"score\"].astype(float).mean()"
   ]
  },
  {
   "cell_type": "code",
   "execution_count": 16,
   "metadata": {},
   "outputs": [
    {
     "data": {
      "text/plain": [
       "text_cleaned\n",
       "road      15138\n",
       "farm       4831\n",
       "lodge      4024\n",
       "street     3873\n",
       "wood       3253\n",
       "house      3020\n",
       "lane       2928\n",
       "the        2622\n",
       "pit        2232\n",
       "park       2198\n",
       "Name: count, dtype: int64"
      ]
     },
     "execution_count": 16,
     "metadata": {},
     "output_type": "execute_result"
    }
   ],
   "source": [
    "# count text_cleaned values excluding words with less than 3 characters or non-alphabetical characters\n",
    "# before filtering\n",
    "recognised_text[\n",
    "    recognised_text[\"text_cleaned\"].apply(lambda x: len(x) > 2)\n",
    "    & recognised_text[\"text_cleaned\"].str.isalpha()\n",
    "].text_cleaned.value_counts().head(10)"
   ]
  },
  {
   "cell_type": "markdown",
   "metadata": {},
   "source": [
    "After filtering noisy labels"
   ]
  },
  {
   "cell_type": "code",
   "execution_count": 17,
   "metadata": {},
   "outputs": [
    {
     "data": {
      "text/plain": [
       "0.8618543546754487"
      ]
     },
     "execution_count": 17,
     "metadata": {},
     "output_type": "execute_result"
    }
   ],
   "source": [
    "# mean confidence score for spotted text\n",
    "# after filtering\n",
    "recognised_text_filtered[\"score\"].astype(float).mean()"
   ]
  },
  {
   "cell_type": "code",
   "execution_count": 18,
   "metadata": {},
   "outputs": [
    {
     "data": {
      "text/plain": [
       "text_cleaned\n",
       "b.      18026\n",
       "m.      14030\n",
       "f.       9671\n",
       "p.       9335\n",
       "road     8580\n",
       "p        7805\n",
       "s.       3226\n",
       "farm     2573\n",
       "b        2385\n",
       "w        2271\n",
       "Name: count, dtype: int64"
      ]
     },
     "execution_count": 18,
     "metadata": {},
     "output_type": "execute_result"
    }
   ],
   "source": [
    "# 2.4 count text_cleaned values, including all words\n",
    "# after filtering\n",
    "\n",
    "recognised_text_filtered.text_cleaned.value_counts().head(10)"
   ]
  },
  {
   "cell_type": "code",
   "execution_count": 19,
   "metadata": {},
   "outputs": [
    {
     "data": {
      "text/plain": [
       "0.9284157505612759"
      ]
     },
     "execution_count": 19,
     "metadata": {},
     "output_type": "execute_result"
    }
   ],
   "source": [
    "# mean confidence score for spotted text excluding words with less than 3 characters or non-alphabetical characters\n",
    "# after filtering\n",
    "recognised_text_filtered[\n",
    "    recognised_text_filtered[\"text_cleaned\"].apply(lambda x: len(x) > 2)\n",
    "    & recognised_text_filtered[\"text_cleaned\"].str.isalpha()\n",
    "][\"score\"].astype(float).mean()"
   ]
  },
  {
   "cell_type": "code",
   "execution_count": 20,
   "metadata": {},
   "outputs": [
    {
     "data": {
      "text/plain": [
       "text_cleaned\n",
       "road      8580\n",
       "farm      2573\n",
       "street    2196\n",
       "lodge     2156\n",
       "wood      1717\n",
       "house     1653\n",
       "lane      1574\n",
       "the       1422\n",
       "park      1207\n",
       "pit       1196\n",
       "Name: count, dtype: int64"
      ]
     },
     "execution_count": 20,
     "metadata": {},
     "output_type": "execute_result"
    }
   ],
   "source": [
    "# count text_cleaned values, excluding words with less than 3 characters or non-alphabetical characters\n",
    "# after filtering\n",
    "recognised_text_filtered[\n",
    "    recognised_text_filtered[\"text_cleaned\"].apply(lambda x: len(x) > 2)\n",
    "    & recognised_text_filtered[\"text_cleaned\"].str.isalpha()\n",
    "].text_cleaned.value_counts().head(10)"
   ]
  },
  {
   "cell_type": "code",
   "execution_count": 21,
   "metadata": {},
   "outputs": [
    {
     "name": "stderr",
     "output_type": "stream",
     "text": [
      "100%|██████████| 29395/29395 [09:07<00:00, 53.71it/s]\n"
     ]
    }
   ],
   "source": [
    "# Find text on the railspace patches\n",
    "\n",
    "recognised_text[\"intersects_railspace\"] = False\n",
    "recognised_text_filtered[\"intersects_railspace\"] = False\n",
    "\n",
    "# important this cell takes a while to run\n",
    "tqdm.pandas()\n",
    "\n",
    "for i,row in tqdm(railspace_patches.iterrows(), total=railspace_patches.shape[0]):\n",
    "\t# get indices of text intersecting the patch\n",
    "\tids = recognised_text[recognised_text.intersects(row.geometry)].index.tolist()\n",
    "\trecognised_text.loc[ids, \"intersects_railspace\"] = True\n",
    "\n",
    "\tids_filtered = recognised_text_filtered[recognised_text_filtered.intersects(row.geometry)].index.to_list()\n",
    "\trecognised_text_filtered.loc[ids_filtered, \"intersects_railspace\"] = True"
   ]
  },
  {
   "cell_type": "code",
   "execution_count": 22,
   "metadata": {},
   "outputs": [
    {
     "data": {
      "text/plain": [
       "0.8240588426880903"
      ]
     },
     "execution_count": 22,
     "metadata": {},
     "output_type": "execute_result"
    }
   ],
   "source": [
    "# mean confidence score for spotted text on railspace patches\n",
    "# before filtering\n",
    "recognised_text[recognised_text[\"intersects_railspace\"]][\"score\"].astype(float).mean()"
   ]
  },
  {
   "cell_type": "code",
   "execution_count": 23,
   "metadata": {},
   "outputs": [
    {
     "data": {
      "text/plain": [
       "text_cleaned\n",
       "s.         4729\n",
       "p          3951\n",
       "b.         2897\n",
       "m.         2758\n",
       "road       1657\n",
       "p.          973\n",
       "f.          860\n",
       "&           670\n",
       "station     519\n",
       "r.          487\n",
       "Name: count, dtype: int64"
      ]
     },
     "execution_count": 23,
     "metadata": {},
     "output_type": "execute_result"
    }
   ],
   "source": [
    "# count text values on railspace patches\n",
    "# before filtering\n",
    "recognised_text[recognised_text[\"intersects_railspace\"]].text_cleaned.value_counts().head(10)"
   ]
  },
  {
   "cell_type": "code",
   "execution_count": 24,
   "metadata": {},
   "outputs": [
    {
     "data": {
      "text/plain": [
       "0.9199760351484491"
      ]
     },
     "execution_count": 24,
     "metadata": {},
     "output_type": "execute_result"
    }
   ],
   "source": [
    "# mean confidence score for spotted text on railspace patches excluding words with less than 3 characters or non-alphabetical characters\n",
    "# before filtering\n",
    "recognised_text[\n",
    "    recognised_text[\"intersects_railspace\"]\n",
    "    & recognised_text[\"text_cleaned\"].apply(lambda x: len(x) > 2)\n",
    "    & recognised_text[\"text_cleaned\"].str.isalpha()\n",
    "][\"score\"].astype(float).mean()"
   ]
  },
  {
   "cell_type": "code",
   "execution_count": 25,
   "metadata": {},
   "outputs": [
    {
     "data": {
      "text/plain": [
       "text_cleaned\n",
       "road       1657\n",
       "station     519\n",
       "street      323\n",
       "works       252\n",
       "railway     218\n",
       "line        184\n",
       "london      173\n",
       "branch      146\n",
       "lane        145\n",
       "church      124\n",
       "Name: count, dtype: int64"
      ]
     },
     "execution_count": 25,
     "metadata": {},
     "output_type": "execute_result"
    }
   ],
   "source": [
    "# count text_cleaned values excluding words with less than 3 characters or non-alphabetical characters\n",
    "# before filtering\n",
    "recognised_text[\n",
    "    recognised_text[\"intersects_railspace\"]\n",
    "    & recognised_text[\"text_cleaned\"].apply(lambda x: len(x) > 2)\n",
    "    & recognised_text[\"text_cleaned\"].str.isalpha()\n",
    "].text_cleaned.value_counts().head(10)"
   ]
  },
  {
   "cell_type": "markdown",
   "metadata": {},
   "source": [
    "After filtering noisy labels"
   ]
  },
  {
   "cell_type": "code",
   "execution_count": 26,
   "metadata": {},
   "outputs": [
    {
     "name": "stderr",
     "output_type": "stream",
     "text": [
      "/Users/rwood/miniconda3/envs/mr_py312/lib/python3.12/site-packages/geopandas/geodataframe.py:1459: UserWarning: Boolean Series key will be reindexed to match DataFrame index.\n",
      "  result = super().__getitem__(key)\n"
     ]
    },
    {
     "data": {
      "text/plain": [
       "0.8621577003515332"
      ]
     },
     "execution_count": 26,
     "metadata": {},
     "output_type": "execute_result"
    }
   ],
   "source": [
    "# mean confidence score for spotted text\n",
    "# after filtering\n",
    "recognised_text_filtered[recognised_text[\"intersects_railspace\"]][\"score\"].astype(float).mean()"
   ]
  },
  {
   "cell_type": "code",
   "execution_count": 27,
   "metadata": {},
   "outputs": [
    {
     "name": "stderr",
     "output_type": "stream",
     "text": [
      "/Users/rwood/miniconda3/envs/mr_py312/lib/python3.12/site-packages/geopandas/geodataframe.py:1459: UserWarning: Boolean Series key will be reindexed to match DataFrame index.\n",
      "  result = super().__getitem__(key)\n"
     ]
    },
    {
     "data": {
      "text/plain": [
       "text_cleaned\n",
       "b.        2000\n",
       "m.        1577\n",
       "road      1027\n",
       "f.         989\n",
       "p.         943\n",
       "p          791\n",
       "s.         351\n",
       "b          272\n",
       "farm       253\n",
       "street     247\n",
       "Name: count, dtype: int64"
      ]
     },
     "execution_count": 27,
     "metadata": {},
     "output_type": "execute_result"
    }
   ],
   "source": [
    "# 2.4 count text_cleaned values, including all words\n",
    "# after filtering\n",
    "\n",
    "recognised_text_filtered[recognised_text[\"intersects_railspace\"]].text_cleaned.value_counts().head(10)"
   ]
  },
  {
   "cell_type": "code",
   "execution_count": 28,
   "metadata": {},
   "outputs": [
    {
     "name": "stderr",
     "output_type": "stream",
     "text": [
      "/Users/rwood/miniconda3/envs/mr_py312/lib/python3.12/site-packages/geopandas/geodataframe.py:1459: UserWarning: Boolean Series key will be reindexed to match DataFrame index.\n",
      "  result = super().__getitem__(key)\n"
     ]
    },
    {
     "data": {
      "text/plain": [
       "0.9290302369926451"
      ]
     },
     "execution_count": 28,
     "metadata": {},
     "output_type": "execute_result"
    }
   ],
   "source": [
    "# mean confidence score for spotted text excluding words with less than 3 characters or non-alphabetical characters\n",
    "# after filtering\n",
    "recognised_text_filtered[\n",
    "    recognised_text[\"intersects_railspace\"]\n",
    "    & recognised_text_filtered[\"text_cleaned\"].apply(lambda x: len(x) > 2)\n",
    "    & recognised_text_filtered[\"text_cleaned\"].str.isalpha()\n",
    "][\"score\"].astype(float).mean()"
   ]
  },
  {
   "cell_type": "code",
   "execution_count": 29,
   "metadata": {},
   "outputs": [
    {
     "name": "stderr",
     "output_type": "stream",
     "text": [
      "/Users/rwood/miniconda3/envs/mr_py312/lib/python3.12/site-packages/geopandas/geodataframe.py:1459: UserWarning: Boolean Series key will be reindexed to match DataFrame index.\n",
      "  result = super().__getitem__(key)\n"
     ]
    },
    {
     "data": {
      "text/plain": [
       "text_cleaned\n",
       "road      1027\n",
       "farm       253\n",
       "street     247\n",
       "lodge      218\n",
       "wood       185\n",
       "house      171\n",
       "the        169\n",
       "lane       164\n",
       "park       155\n",
       "old        121\n",
       "Name: count, dtype: int64"
      ]
     },
     "execution_count": 29,
     "metadata": {},
     "output_type": "execute_result"
    }
   ],
   "source": [
    "# count text_cleaned values, excluding words with less than 3 characters or non-alphabetical characters\n",
    "# after filtering\n",
    "recognised_text_filtered[\n",
    "    recognised_text[\"intersects_railspace\"]\n",
    "    & recognised_text_filtered[\"text_cleaned\"].apply(lambda x: len(x) > 2)\n",
    "    & recognised_text_filtered[\"text_cleaned\"].str.isalpha()\n",
    "].text_cleaned.value_counts().head(10)"
   ]
  },
  {
   "cell_type": "markdown",
   "metadata": {},
   "source": [
    "## 3. Process railspace predictions data"
   ]
  },
  {
   "cell_type": "code",
   "execution_count": 30,
   "metadata": {},
   "outputs": [
    {
     "name": "stdout",
     "output_type": "stream",
     "text": [
      "Number of maps: 329\n"
     ]
    }
   ],
   "source": [
    "# 3.1 Check we only have patch predictions for maps that are in the spotted text data\n",
    "\n",
    "text_map_ids = list(recognised_text.image_id.unique())\n",
    "print('Number of maps:', len(text_map_ids))\n",
    "\n",
    "# check the shape is the same after filtering for only maps for which we have spotted text\n",
    "assert railspace_patches[railspace_patches['parent_id'].isin(text_map_ids)].shape == railspace_patches.shape, \"The shape of the filtered railspace patches is not the same as the original\"\n"
   ]
  },
  {
   "cell_type": "code",
   "execution_count": 31,
   "metadata": {},
   "outputs": [],
   "source": [
    "# 3.2 add geometry to the patch predictions\n",
    "\n",
    "railspace_patches[\"polygon\"] = railspace_patches[\"geometry\"]\n",
    "railspace_patches[\"centroid\"] = railspace_patches[\"geometry\"].centroid\n",
    "\n",
    "railspace_patches.reset_index(drop=True, inplace=True) # reset index so the numbering is correct"
   ]
  },
  {
   "cell_type": "code",
   "execution_count": 32,
   "metadata": {},
   "outputs": [
    {
     "data": {
      "text/html": [
       "<div>\n",
       "<style scoped>\n",
       "    .dataframe tbody tr th:only-of-type {\n",
       "        vertical-align: middle;\n",
       "    }\n",
       "\n",
       "    .dataframe tbody tr th {\n",
       "        vertical-align: top;\n",
       "    }\n",
       "\n",
       "    .dataframe thead th {\n",
       "        text-align: right;\n",
       "    }\n",
       "</style>\n",
       "<table border=\"1\" class=\"dataframe\">\n",
       "  <thead>\n",
       "    <tr style=\"text-align: right;\">\n",
       "      <th></th>\n",
       "      <th>image_id</th>\n",
       "      <th>parent_id</th>\n",
       "      <th>image_path</th>\n",
       "      <th>shape</th>\n",
       "      <th>pixel_bounds</th>\n",
       "      <th>coordinates</th>\n",
       "      <th>crs</th>\n",
       "      <th>geometry</th>\n",
       "      <th>predicted_label</th>\n",
       "      <th>pred</th>\n",
       "      <th>...</th>\n",
       "      <th>mean_pixel_G</th>\n",
       "      <th>mean_pixel_B</th>\n",
       "      <th>mean_pixel_A</th>\n",
       "      <th>std_pixel</th>\n",
       "      <th>std_pixel_R</th>\n",
       "      <th>std_pixel_G</th>\n",
       "      <th>std_pixel_B</th>\n",
       "      <th>std_pixel_A</th>\n",
       "      <th>polygon</th>\n",
       "      <th>centroid</th>\n",
       "    </tr>\n",
       "  </thead>\n",
       "  <tbody>\n",
       "    <tr>\n",
       "      <th>0</th>\n",
       "      <td>patch-0-134-134-268-#map_95470395.png#.png</td>\n",
       "      <td>map_95470395.png</td>\n",
       "      <td>/bask/projects/v/vjgo8416-dataculture/mapreade...</td>\n",
       "      <td>(134, 134, 4)</td>\n",
       "      <td>(0, 134, 134, 268)</td>\n",
       "      <td>(-0.230712890625, 51.49327399808456, -0.229275...</td>\n",
       "      <td>EPSG:4326</td>\n",
       "      <td>POLYGON ((523024.806 178633.966, 523022.398 17...</td>\n",
       "      <td>railspace</td>\n",
       "      <td>1</td>\n",
       "      <td>...</td>\n",
       "      <td>0.705179</td>\n",
       "      <td>0.658822</td>\n",
       "      <td>1.0</td>\n",
       "      <td>0.139691</td>\n",
       "      <td>0.189260</td>\n",
       "      <td>0.188089</td>\n",
       "      <td>0.181415</td>\n",
       "      <td>0.0</td>\n",
       "      <td>POLYGON ((523024.806 178633.966, 523022.398 17...</td>\n",
       "      <td>POINT (522973.703 178682.544)</td>\n",
       "    </tr>\n",
       "    <tr>\n",
       "      <th>1</th>\n",
       "      <td>patch-0-4422-134-4556-#map_95470395.png#.png</td>\n",
       "      <td>map_95470395.png</td>\n",
       "      <td>/bask/projects/v/vjgo8416-dataculture/mapreade...</td>\n",
       "      <td>(134, 134, 4)</td>\n",
       "      <td>(0, 4422, 134, 4556)</td>\n",
       "      <td>(-0.230712890625, 51.46462228513854, -0.229275...</td>\n",
       "      <td>EPSG:4326</td>\n",
       "      <td>POLYGON ((523101.859 175447.771, 523099.452 17...</td>\n",
       "      <td>railspace</td>\n",
       "      <td>1</td>\n",
       "      <td>...</td>\n",
       "      <td>0.729916</td>\n",
       "      <td>0.686203</td>\n",
       "      <td>1.0</td>\n",
       "      <td>0.167145</td>\n",
       "      <td>0.226341</td>\n",
       "      <td>0.225251</td>\n",
       "      <td>0.216987</td>\n",
       "      <td>0.0</td>\n",
       "      <td>POLYGON ((523101.859 175447.771, 523099.452 17...</td>\n",
       "      <td>POINT (523050.725 175496.348)</td>\n",
       "    </tr>\n",
       "    <tr>\n",
       "      <th>2</th>\n",
       "      <td>patch-0-4556-134-4608-#map_95470395.png#.png</td>\n",
       "      <td>map_95470395.png</td>\n",
       "      <td>/bask/projects/v/vjgo8416-dataculture/mapreade...</td>\n",
       "      <td>(134, 134, 4)</td>\n",
       "      <td>(0, 4556, 134, 4608)</td>\n",
       "      <td>(-0.230712890625, 51.46427482966438, -0.229275...</td>\n",
       "      <td>EPSG:4326</td>\n",
       "      <td>POLYGON ((523102.793 175409.133, 523101.859 17...</td>\n",
       "      <td>railspace</td>\n",
       "      <td>1</td>\n",
       "      <td>...</td>\n",
       "      <td>0.747641</td>\n",
       "      <td>0.701713</td>\n",
       "      <td>1.0</td>\n",
       "      <td>0.166074</td>\n",
       "      <td>0.225587</td>\n",
       "      <td>0.223942</td>\n",
       "      <td>0.214769</td>\n",
       "      <td>0.0</td>\n",
       "      <td>POLYGON ((523102.793 175409.133, 523101.859 17...</td>\n",
       "      <td>POINT (523052.395 175427.245)</td>\n",
       "    </tr>\n",
       "    <tr>\n",
       "      <th>3</th>\n",
       "      <td>patch-134-134-268-268-#map_95470395.png#.png</td>\n",
       "      <td>map_95470395.png</td>\n",
       "      <td>/bask/projects/v/vjgo8416-dataculture/mapreade...</td>\n",
       "      <td>(134, 134, 4)</td>\n",
       "      <td>(134, 134, 268, 268)</td>\n",
       "      <td>(-0.22927522659301758, 51.49327399808456, -0.2...</td>\n",
       "      <td>EPSG:4326</td>\n",
       "      <td>POLYGON ((523124.605 178636.381, 523122.195 17...</td>\n",
       "      <td>railspace</td>\n",
       "      <td>1</td>\n",
       "      <td>...</td>\n",
       "      <td>0.717194</td>\n",
       "      <td>0.667950</td>\n",
       "      <td>1.0</td>\n",
       "      <td>0.144296</td>\n",
       "      <td>0.195693</td>\n",
       "      <td>0.194597</td>\n",
       "      <td>0.186894</td>\n",
       "      <td>0.0</td>\n",
       "      <td>POLYGON ((523124.605 178636.381, 523122.195 17...</td>\n",
       "      <td>POINT (523073.501 178684.958)</td>\n",
       "    </tr>\n",
       "    <tr>\n",
       "      <th>4</th>\n",
       "      <td>patch-134-4556-268-4608-#map_95470395.png#.png</td>\n",
       "      <td>map_95470395.png</td>\n",
       "      <td>/bask/projects/v/vjgo8416-dataculture/mapreade...</td>\n",
       "      <td>(134, 134, 4)</td>\n",
       "      <td>(134, 4556, 268, 4608)</td>\n",
       "      <td>(-0.22927522659301758, 51.46427482966438, -0.2...</td>\n",
       "      <td>EPSG:4326</td>\n",
       "      <td>POLYGON ((523202.656 175411.548, 523201.721 17...</td>\n",
       "      <td>railspace</td>\n",
       "      <td>1</td>\n",
       "      <td>...</td>\n",
       "      <td>0.641761</td>\n",
       "      <td>0.603449</td>\n",
       "      <td>1.0</td>\n",
       "      <td>0.177653</td>\n",
       "      <td>0.240743</td>\n",
       "      <td>0.239621</td>\n",
       "      <td>0.230249</td>\n",
       "      <td>0.0</td>\n",
       "      <td>POLYGON ((523202.656 175411.548, 523201.721 17...</td>\n",
       "      <td>POINT (523152.257 175429.660)</td>\n",
       "    </tr>\n",
       "  </tbody>\n",
       "</table>\n",
       "<p>5 rows × 29 columns</p>\n",
       "</div>"
      ],
      "text/plain": [
       "                                         image_id         parent_id  \\\n",
       "0      patch-0-134-134-268-#map_95470395.png#.png  map_95470395.png   \n",
       "1    patch-0-4422-134-4556-#map_95470395.png#.png  map_95470395.png   \n",
       "2    patch-0-4556-134-4608-#map_95470395.png#.png  map_95470395.png   \n",
       "3    patch-134-134-268-268-#map_95470395.png#.png  map_95470395.png   \n",
       "4  patch-134-4556-268-4608-#map_95470395.png#.png  map_95470395.png   \n",
       "\n",
       "                                          image_path          shape  \\\n",
       "0  /bask/projects/v/vjgo8416-dataculture/mapreade...  (134, 134, 4)   \n",
       "1  /bask/projects/v/vjgo8416-dataculture/mapreade...  (134, 134, 4)   \n",
       "2  /bask/projects/v/vjgo8416-dataculture/mapreade...  (134, 134, 4)   \n",
       "3  /bask/projects/v/vjgo8416-dataculture/mapreade...  (134, 134, 4)   \n",
       "4  /bask/projects/v/vjgo8416-dataculture/mapreade...  (134, 134, 4)   \n",
       "\n",
       "             pixel_bounds                                        coordinates  \\\n",
       "0      (0, 134, 134, 268)  (-0.230712890625, 51.49327399808456, -0.229275...   \n",
       "1    (0, 4422, 134, 4556)  (-0.230712890625, 51.46462228513854, -0.229275...   \n",
       "2    (0, 4556, 134, 4608)  (-0.230712890625, 51.46427482966438, -0.229275...   \n",
       "3    (134, 134, 268, 268)  (-0.22927522659301758, 51.49327399808456, -0.2...   \n",
       "4  (134, 4556, 268, 4608)  (-0.22927522659301758, 51.46427482966438, -0.2...   \n",
       "\n",
       "         crs                                           geometry  \\\n",
       "0  EPSG:4326  POLYGON ((523024.806 178633.966, 523022.398 17...   \n",
       "1  EPSG:4326  POLYGON ((523101.859 175447.771, 523099.452 17...   \n",
       "2  EPSG:4326  POLYGON ((523102.793 175409.133, 523101.859 17...   \n",
       "3  EPSG:4326  POLYGON ((523124.605 178636.381, 523122.195 17...   \n",
       "4  EPSG:4326  POLYGON ((523202.656 175411.548, 523201.721 17...   \n",
       "\n",
       "  predicted_label  pred  ...  mean_pixel_G  mean_pixel_B  mean_pixel_A  \\\n",
       "0       railspace     1  ...      0.705179      0.658822           1.0   \n",
       "1       railspace     1  ...      0.729916      0.686203           1.0   \n",
       "2       railspace     1  ...      0.747641      0.701713           1.0   \n",
       "3       railspace     1  ...      0.717194      0.667950           1.0   \n",
       "4       railspace     1  ...      0.641761      0.603449           1.0   \n",
       "\n",
       "   std_pixel  std_pixel_R std_pixel_G  std_pixel_B  std_pixel_A  \\\n",
       "0   0.139691     0.189260    0.188089     0.181415          0.0   \n",
       "1   0.167145     0.226341    0.225251     0.216987          0.0   \n",
       "2   0.166074     0.225587    0.223942     0.214769          0.0   \n",
       "3   0.144296     0.195693    0.194597     0.186894          0.0   \n",
       "4   0.177653     0.240743    0.239621     0.230249          0.0   \n",
       "\n",
       "                                             polygon  \\\n",
       "0  POLYGON ((523024.806 178633.966, 523022.398 17...   \n",
       "1  POLYGON ((523101.859 175447.771, 523099.452 17...   \n",
       "2  POLYGON ((523102.793 175409.133, 523101.859 17...   \n",
       "3  POLYGON ((523124.605 178636.381, 523122.195 17...   \n",
       "4  POLYGON ((523202.656 175411.548, 523201.721 17...   \n",
       "\n",
       "                        centroid  \n",
       "0  POINT (522973.703 178682.544)  \n",
       "1  POINT (523050.725 175496.348)  \n",
       "2  POINT (523052.395 175427.245)  \n",
       "3  POINT (523073.501 178684.958)  \n",
       "4  POINT (523152.257 175429.660)  \n",
       "\n",
       "[5 rows x 29 columns]"
      ]
     },
     "execution_count": 32,
     "metadata": {},
     "output_type": "execute_result"
    }
   ],
   "source": [
    "# 3.3 View railspace_patches\n",
    "\n",
    "railspace_patches.head()"
   ]
  },
  {
   "cell_type": "markdown",
   "metadata": {},
   "source": [
    "To get a sense of what some of the abbreviations mean, please go to the NLS website: https://maps.nls.uk/os/abbrev/"
   ]
  },
  {
   "cell_type": "markdown",
   "metadata": {},
   "source": [
    "# 10. Clustering experiments"
   ]
  },
  {
   "cell_type": "code",
   "execution_count": 33,
   "metadata": {},
   "outputs": [],
   "source": [
    "from sklearn.cluster import KMeans\n",
    "import json\n",
    "import numpy as np\n",
    "from shapely import Polygon\n",
    "from sentence_transformers import SentenceTransformer"
   ]
  },
  {
   "cell_type": "code",
   "execution_count": 34,
   "metadata": {},
   "outputs": [],
   "source": [
    "# Import map tiles from NLS tileserver\n",
    "\n",
    "import xyzservices as xyz\n",
    "tiles = xyz.TileProvider(\n",
    "    name=\"OS 2nd Edition - 6 inch\",\n",
    "    url=\"https://api.maptiler.com/tiles/uk-osgb1888/{z}/{x}/{y}?key=5f6FYax2HhTa0Z9RfXsp\",\n",
    "    attribution=\"NLS\",\n",
    ")"
   ]
  },
  {
   "cell_type": "markdown",
   "metadata": {},
   "source": [
    "## 10a Cluster with patch + context text"
   ]
  },
  {
   "cell_type": "markdown",
   "metadata": {},
   "source": [
    "SKIP THIS CELL IF ALREADY RUN"
   ]
  },
  {
   "cell_type": "code",
   "execution_count": 35,
   "metadata": {},
   "outputs": [
    {
     "name": "stderr",
     "output_type": "stream",
     "text": [
      "100%|██████████| 29395/29395 [03:34<00:00, 136.90it/s]\n"
     ]
    }
   ],
   "source": [
    "# 10.1 Create 'sentences' of text in railspace patches\n",
    "\n",
    "# important this cell takes a while to run\n",
    "# you can simply ignore and load the json file I've shared with you\n",
    "tqdm.pandas()\n",
    "near_text_context = [] \n",
    "\n",
    "for i,row in tqdm(railspace_patches.iterrows(), total=railspace_patches.shape[0]):\n",
    "\t# get context polygon\n",
    "\tminx, miny, maxx, maxy = row.geometry.bounds\n",
    "\tcontext_polygon = Polygon.from_bounds(minx-100, miny-100, maxx+100, maxy+100)\n",
    "\t# get text within a certain distance from the patch\n",
    "\t# get the set of text labels\n",
    "\ttext_in_patch_context = list(set(recognised_text_filtered[recognised_text_filtered.intersects(context_polygon)].text_cleaned.tolist()))\n",
    "\t# sort\n",
    "\ttext_in_patch_context = sorted(text_in_patch_context)\n",
    "\t# add the labels as a list sorted alphabetically\n",
    "\tnear_text_context.append(text_in_patch_context)\n",
    "\n",
    "with open('near_text_context.json', 'w') as out_txt:\n",
    "\tjson.dump(near_text_context, out_txt)"
   ]
  },
  {
   "cell_type": "code",
   "execution_count": 36,
   "metadata": {},
   "outputs": [],
   "source": [
    "# load the labels from json\n",
    "with open('near_text_context.json', 'r') as in_txt:\n",
    "    near_text_context = json.load(in_txt)"
   ]
  },
  {
   "cell_type": "code",
   "execution_count": 37,
   "metadata": {},
   "outputs": [],
   "source": [
    "railspace_patches[\"near_text_context\"] = near_text_context"
   ]
  },
  {
   "cell_type": "code",
   "execution_count": 38,
   "metadata": {},
   "outputs": [],
   "source": [
    "# 10.2 filter the list to remove short and non-alphabetic text\n",
    "\n",
    "# this is not ideal as it remove abbreviations and other useful information\n",
    "# especially in the more denser urban areas, however we use it as a simple experiment\n",
    "near_text_filtered_context = [' '.join([w for w in a if (len(w) > 2) and w.isalpha()]) for a in near_text_context]"
   ]
  },
  {
   "cell_type": "code",
   "execution_count": 39,
   "metadata": {},
   "outputs": [
    {
     "data": {
      "text/plain": [
       "21.841367579520327"
      ]
     },
     "execution_count": 39,
     "metadata": {},
     "output_type": "execute_result"
    }
   ],
   "source": [
    "# get the average number of words on a patch and its context\n",
    "np.mean([len(i) for i in near_text_filtered_context])"
   ]
  },
  {
   "cell_type": "code",
   "execution_count": 40,
   "metadata": {},
   "outputs": [],
   "source": [
    "# 10.3 load the embedding model\n",
    "\n",
    "model = SentenceTransformer('distilbert-base-nli-mean-tokens') # Livingwithmachines/bert_1760_1900 | distilbert-base-nli-mean-tokens\n",
    "# encode the railspace \"sentences\", i.e. the list of alphabetically sorted labels\n",
    "\n",
    "# Note to self: avoid 'sentence'. say set of (alphabetically sorted) spotted text on patch. \n",
    "# now, for each set of patchText, we examine how similar they are to each other and organise them into a (pre-determined) number of 'clusters' \n",
    "# e.g. a cluster is a group of sets of patchText that are most like each other\n",
    "\n",
    "railspace_sentence_embeddings_context = model.encode(near_text_filtered_context)"
   ]
  },
  {
   "cell_type": "code",
   "execution_count": 41,
   "metadata": {},
   "outputs": [
    {
     "data": {
      "text/plain": [
       "((29395, 768), (29395, 30))"
      ]
     },
     "execution_count": 41,
     "metadata": {},
     "output_type": "execute_result"
    }
   ],
   "source": [
    "railspace_sentence_embeddings_context.shape, railspace_patches.shape"
   ]
  },
  {
   "cell_type": "code",
   "execution_count": 42,
   "metadata": {},
   "outputs": [
    {
     "name": "stderr",
     "output_type": "stream",
     "text": [
      "huggingface/tokenizers: The current process just got forked, after parallelism has already been used. Disabling parallelism to avoid deadlocks...\n",
      "To disable this warning, you can either:\n",
      "\t- Avoid using `tokenizers` before the fork if possible\n",
      "\t- Explicitly set the environment variable TOKENIZERS_PARALLELISM=(true | false)\n"
     ]
    }
   ],
   "source": [
    "# 10.4 fit the kmeans model to the railspace embeddings\n",
    "\n",
    "# we choose a method of clustering as one approach among many to organise the data, to see patterns in the data\n",
    "# this is connecting what we know about text and what we know about visual features on maps for the first time\n",
    "# we can use the silhouette score to evaluate the quality of the clustering - best is 1, worst is -1\n",
    "\n",
    "from sklearn.metrics import silhouette_score\n",
    "cluster_data_context = {}\n",
    "\n",
    "#for n in tqdm(range(4, 11, 2)):\n",
    "for n in [8]: # for time, run with only 8, CHANGE BACK ON PUBLISHED VERSION\n",
    "\tcluster_data_context[n] = {}\n",
    "\t# fit the kmeans model\n",
    "\tkmeans = KMeans(n_clusters=n, random_state=0, n_init=\"auto\", max_iter=1000).fit(railspace_sentence_embeddings_context)\n",
    "\tcluster_data_context[n][\"kmeans\"] = kmeans\n",
    "\t# get the silhouette score\n",
    "\tsilhouette = silhouette_score(railspace_sentence_embeddings_context, kmeans.labels_, random_state=0)\n",
    "\tcluster_data_context[n][\"silhouette\"] = silhouette\n"
   ]
  },
  {
   "cell_type": "code",
   "execution_count": 43,
   "metadata": {},
   "outputs": [
    {
     "data": {
      "text/html": [
       "<div>\n",
       "<style scoped>\n",
       "    .dataframe tbody tr th:only-of-type {\n",
       "        vertical-align: middle;\n",
       "    }\n",
       "\n",
       "    .dataframe tbody tr th {\n",
       "        vertical-align: top;\n",
       "    }\n",
       "\n",
       "    .dataframe thead th {\n",
       "        text-align: right;\n",
       "    }\n",
       "</style>\n",
       "<table border=\"1\" class=\"dataframe\">\n",
       "  <thead>\n",
       "    <tr style=\"text-align: right;\">\n",
       "      <th></th>\n",
       "      <th>kmeans</th>\n",
       "      <th>silhouette</th>\n",
       "    </tr>\n",
       "  </thead>\n",
       "  <tbody>\n",
       "    <tr>\n",
       "      <th>8</th>\n",
       "      <td>KMeans(max_iter=1000, random_state=0)</td>\n",
       "      <td>0.17627</td>\n",
       "    </tr>\n",
       "  </tbody>\n",
       "</table>\n",
       "</div>"
      ],
      "text/plain": [
       "                                  kmeans silhouette\n",
       "8  KMeans(max_iter=1000, random_state=0)    0.17627"
      ]
     },
     "execution_count": 43,
     "metadata": {},
     "output_type": "execute_result"
    }
   ],
   "source": [
    "sorted_kmeans_context = pd.DataFrame(cluster_data_context).T.sort_values(\"silhouette\", ascending=False)\n",
    "sorted_kmeans_context.head()"
   ]
  },
  {
   "cell_type": "code",
   "execution_count": 44,
   "metadata": {},
   "outputs": [],
   "source": [
    "best_kmeans_context = sorted_kmeans_context.iloc[0][\"kmeans\"]"
   ]
  },
  {
   "cell_type": "code",
   "execution_count": 45,
   "metadata": {},
   "outputs": [],
   "source": [
    "# add labels to the railspace_patches dataframe\n",
    "\n",
    "railspace_patches['cluster_context'] = best_kmeans_context.labels_\n",
    "railspace_patches['near_text_filtered_context'] = near_text_filtered_context"
   ]
  },
  {
   "cell_type": "code",
   "execution_count": 46,
   "metadata": {},
   "outputs": [
    {
     "name": "stdout",
     "output_type": "stream",
     "text": [
      "cluster_context\n",
      "7    5782\n",
      "4    5145\n",
      "1    4181\n",
      "3    3616\n",
      "2    3608\n",
      "5    2438\n",
      "0    2390\n",
      "6    2235\n",
      "Name: count, dtype: int64\n"
     ]
    }
   ],
   "source": [
    "patches_per_cluster = railspace_patches['cluster_context'].value_counts()\n",
    "print(patches_per_cluster)"
   ]
  },
  {
   "cell_type": "code",
   "execution_count": 47,
   "metadata": {},
   "outputs": [],
   "source": [
    "# 10.5 plot the different clusters on the map\n",
    "\n",
    "railspace_patches.explore(column='cluster_context', tiles=tiles, categorical=True, cmap=\"viridis\", popup=['cluster_context', 'near_text_filtered_context']).save(\"clusters_context.html\")"
   ]
  },
  {
   "cell_type": "code",
   "execution_count": 48,
   "metadata": {},
   "outputs": [],
   "source": [
    "import folium \n",
    "\n",
    "x, y = [i[0] for i in railspace_patches.to_crs(\"EPSG:4326\").unary_union.centroid.xy] # get bounds of the map\n",
    "\n",
    "# save each cluster to a separate html file\n",
    "for cluster in railspace_patches[\"cluster_context\"].unique():\n",
    "\tm = folium.Map(location=[y, x], zoom_start=9, tiles=tiles)\n",
    "\trailspace_patches[railspace_patches[\"cluster_context\"] == cluster].explore(color=\"red\", marker_kwargs={\"radius\":1}, style_kwargs={\"weight\":1, \"fill\": \"False\"}, m=m)\n",
    "\n",
    "\tm.save(f\"text_cluster_{cluster}_context.html\")"
   ]
  },
  {
   "cell_type": "code",
   "execution_count": 49,
   "metadata": {},
   "outputs": [],
   "source": [
    "## Save all cluster data to a geojson file and select a random sample of 20 images from each cluster as example images\n",
    "\n",
    "for cluster in railspace_patches[\"cluster_context\"].unique():\n",
    "\t# f = f\"20sample_cluster_{cluster}_mean_pixel_RGB.csv\"\n",
    "\t# cluster_df = railspace_patches[railspace_patches[\"cluster\"] == cluster].sample(20, weights=\"mean_pixel_RGB\", random_state=42)\n",
    "\t# cluster_df[\"image_id\"].to_csv(f)\n",
    "\t\n",
    "\tcluster_df = railspace_patches[railspace_patches[\"cluster_context\"] == cluster].copy(deep=True)\n",
    "\tcluster_df[\"mean_pixel\"] = cluster_df[\"mean_pixel\"].astype(float)\n",
    "\tcluster_df[\"polygon\"] = cluster_df[\"polygon\"].apply(to_wkt)\n",
    "\tcluster_df[\"centroid\"] = cluster_df[\"centroid\"].apply(to_wkt)\n",
    "\tcluster_df.to_file(f\"cluster_{cluster}_context.geojson\", driver=\"GeoJSON\")\n",
    "\n",
    "\twith open(f\"20sample_cluster_{cluster}_context_random.txt\", \"w\") as f:\n",
    "\t\tf.writelines(\"\\n\".join(cluster_df[\"image_id\"].sample(20, random_state=42).to_list()) + \"\\n\")"
   ]
  },
  {
   "cell_type": "markdown",
   "metadata": {},
   "source": [
    "### 10.6 Understanding Clusters\n",
    "\n",
    "The cells below contain different ways of looking at the clusters"
   ]
  },
  {
   "cell_type": "code",
   "execution_count": 50,
   "metadata": {},
   "outputs": [
    {
     "data": {
      "text/html": [
       "<div>\n",
       "<style scoped>\n",
       "    .dataframe tbody tr th:only-of-type {\n",
       "        vertical-align: middle;\n",
       "    }\n",
       "\n",
       "    .dataframe tbody tr th {\n",
       "        vertical-align: top;\n",
       "    }\n",
       "\n",
       "    .dataframe thead th {\n",
       "        text-align: right;\n",
       "    }\n",
       "</style>\n",
       "<table border=\"1\" class=\"dataframe\">\n",
       "  <thead>\n",
       "    <tr style=\"text-align: right;\">\n",
       "      <th></th>\n",
       "      <th>cluster_context</th>\n",
       "      <th>near_text_filtered_context</th>\n",
       "    </tr>\n",
       "  </thead>\n",
       "  <tbody>\n",
       "    <tr>\n",
       "      <th>0</th>\n",
       "      <td>0</td>\n",
       "      <td>[cemetery union, field road, chap elm evelyn g...</td>\n",
       "    </tr>\n",
       "    <tr>\n",
       "      <th>1</th>\n",
       "      <td>1</td>\n",
       "      <td>[cour earks erhibition grounds, cour earks erh...</td>\n",
       "    </tr>\n",
       "    <tr>\n",
       "      <th>2</th>\n",
       "      <td>2</td>\n",
       "      <td>[king road, dryburgh egliston road, dryburgh r...</td>\n",
       "    </tr>\n",
       "    <tr>\n",
       "      <th>3</th>\n",
       "      <td>3</td>\n",
       "      <td>[beadon hammersmith king sta street west, bead...</td>\n",
       "    </tr>\n",
       "    <tr>\n",
       "      <th>4</th>\n",
       "      <td>4</td>\n",
       "      <td>[, , , , , ead, , , , , , line, , , , , , , , ...</td>\n",
       "    </tr>\n",
       "  </tbody>\n",
       "</table>\n",
       "</div>"
      ],
      "text/plain": [
       "   cluster_context                         near_text_filtered_context\n",
       "0                0  [cemetery union, field road, chap elm evelyn g...\n",
       "1                1  [cour earks erhibition grounds, cour earks erh...\n",
       "2                2  [king road, dryburgh egliston road, dryburgh r...\n",
       "3                3  [beadon hammersmith king sta street west, bead...\n",
       "4                4  [, , , , , ead, , , , , , line, , , , , , , , ..."
      ]
     },
     "execution_count": 50,
     "metadata": {},
     "output_type": "execute_result"
    }
   ],
   "source": [
    "# get labels for each cluster in predictions_red\n",
    "\n",
    "cluster_labels_context = railspace_patches.groupby('cluster_context')['near_text_filtered_context'].apply(list).reset_index()\n",
    "cluster_labels_context.head()"
   ]
  },
  {
   "cell_type": "code",
   "execution_count": 51,
   "metadata": {},
   "outputs": [],
   "source": [
    "# count labels per cluster\n",
    "\n",
    "cluster_labels_context['count'] = cluster_labels_context['near_text_filtered_context'].apply(lambda x: len(x))"
   ]
  },
  {
   "cell_type": "code",
   "execution_count": 52,
   "metadata": {},
   "outputs": [],
   "source": [
    "# count unique labels per cluster\n",
    "\n",
    "cluster_labels_context['unique_count'] = cluster_labels_context['near_text_filtered_context'].apply(lambda x: len(set(x)))"
   ]
  },
  {
   "cell_type": "code",
   "execution_count": 53,
   "metadata": {},
   "outputs": [
    {
     "data": {
      "text/html": [
       "<div>\n",
       "<style scoped>\n",
       "    .dataframe tbody tr th:only-of-type {\n",
       "        vertical-align: middle;\n",
       "    }\n",
       "\n",
       "    .dataframe tbody tr th {\n",
       "        vertical-align: top;\n",
       "    }\n",
       "\n",
       "    .dataframe thead th {\n",
       "        text-align: right;\n",
       "    }\n",
       "</style>\n",
       "<table border=\"1\" class=\"dataframe\">\n",
       "  <thead>\n",
       "    <tr style=\"text-align: right;\">\n",
       "      <th></th>\n",
       "      <th>cluster_context</th>\n",
       "      <th>near_text_filtered_context</th>\n",
       "      <th>count</th>\n",
       "      <th>unique_count</th>\n",
       "      <th>count/unique_count</th>\n",
       "      <th>unique_count/count</th>\n",
       "    </tr>\n",
       "  </thead>\n",
       "  <tbody>\n",
       "    <tr>\n",
       "      <th>0</th>\n",
       "      <td>0</td>\n",
       "      <td>[cemetery union, field road, chap elm evelyn g...</td>\n",
       "      <td>2390</td>\n",
       "      <td>1356</td>\n",
       "      <td>1.762537</td>\n",
       "      <td>0.567364</td>\n",
       "    </tr>\n",
       "    <tr>\n",
       "      <th>1</th>\n",
       "      <td>1</td>\n",
       "      <td>[cour earks erhibition grounds, cour earks erh...</td>\n",
       "      <td>4181</td>\n",
       "      <td>1583</td>\n",
       "      <td>2.641188</td>\n",
       "      <td>0.378618</td>\n",
       "    </tr>\n",
       "    <tr>\n",
       "      <th>2</th>\n",
       "      <td>2</td>\n",
       "      <td>[king road, dryburgh egliston road, dryburgh r...</td>\n",
       "      <td>3608</td>\n",
       "      <td>2383</td>\n",
       "      <td>1.514058</td>\n",
       "      <td>0.660477</td>\n",
       "    </tr>\n",
       "    <tr>\n",
       "      <th>3</th>\n",
       "      <td>3</td>\n",
       "      <td>[beadon hammersmith king sta street west, bead...</td>\n",
       "      <td>3616</td>\n",
       "      <td>2075</td>\n",
       "      <td>1.742651</td>\n",
       "      <td>0.573838</td>\n",
       "    </tr>\n",
       "    <tr>\n",
       "      <th>4</th>\n",
       "      <td>4</td>\n",
       "      <td>[, , , , , ead, , , , , , line, , , , , , , , ...</td>\n",
       "      <td>5145</td>\n",
       "      <td>25</td>\n",
       "      <td>205.800000</td>\n",
       "      <td>0.004859</td>\n",
       "    </tr>\n",
       "  </tbody>\n",
       "</table>\n",
       "</div>"
      ],
      "text/plain": [
       "   cluster_context                         near_text_filtered_context  count  \\\n",
       "0                0  [cemetery union, field road, chap elm evelyn g...   2390   \n",
       "1                1  [cour earks erhibition grounds, cour earks erh...   4181   \n",
       "2                2  [king road, dryburgh egliston road, dryburgh r...   3608   \n",
       "3                3  [beadon hammersmith king sta street west, bead...   3616   \n",
       "4                4  [, , , , , ead, , , , , , line, , , , , , , , ...   5145   \n",
       "\n",
       "   unique_count  count/unique_count  unique_count/count  \n",
       "0          1356            1.762537            0.567364  \n",
       "1          1583            2.641188            0.378618  \n",
       "2          2383            1.514058            0.660477  \n",
       "3          2075            1.742651            0.573838  \n",
       "4            25          205.800000            0.004859  "
      ]
     },
     "execution_count": 53,
     "metadata": {},
     "output_type": "execute_result"
    }
   ],
   "source": [
    "cluster_labels_context[\"count/unique_count\"] = cluster_labels_context[\"count\"]/cluster_labels_context[\"unique_count\"]\n",
    "cluster_labels_context[\"unique_count/count\"] = cluster_labels_context[\"unique_count\"]/cluster_labels_context[\"count\"]\n",
    "\n",
    "cluster_labels_context.head()"
   ]
  },
  {
   "cell_type": "code",
   "execution_count": 54,
   "metadata": {},
   "outputs": [
    {
     "data": {
      "text/html": [
       "<div>\n",
       "<style scoped>\n",
       "    .dataframe tbody tr th:only-of-type {\n",
       "        vertical-align: middle;\n",
       "    }\n",
       "\n",
       "    .dataframe tbody tr th {\n",
       "        vertical-align: top;\n",
       "    }\n",
       "\n",
       "    .dataframe thead th {\n",
       "        text-align: right;\n",
       "    }\n",
       "</style>\n",
       "<table border=\"1\" class=\"dataframe\">\n",
       "  <thead>\n",
       "    <tr style=\"text-align: right;\">\n",
       "      <th></th>\n",
       "      <th>cluster_context</th>\n",
       "      <th>near_text_filtered_context</th>\n",
       "      <th>count</th>\n",
       "      <th>unique_count</th>\n",
       "      <th>count/unique_count</th>\n",
       "      <th>unique_count/count</th>\n",
       "      <th>near_text_filtered_context_NONE</th>\n",
       "      <th>words</th>\n",
       "    </tr>\n",
       "  </thead>\n",
       "  <tbody>\n",
       "    <tr>\n",
       "      <th>0</th>\n",
       "      <td>0</td>\n",
       "      <td>[cemetery union, field road, chap elm evelyn g...</td>\n",
       "      <td>2390</td>\n",
       "      <td>1356</td>\n",
       "      <td>1.762537</td>\n",
       "      <td>0.567364</td>\n",
       "      <td>[cemetery union, field road, chap elm evelyn g...</td>\n",
       "      <td>[cemetery, union, field, road, chap, elm, evel...</td>\n",
       "    </tr>\n",
       "    <tr>\n",
       "      <th>1</th>\n",
       "      <td>1</td>\n",
       "      <td>[cour earks erhibition grounds, cour earks erh...</td>\n",
       "      <td>4181</td>\n",
       "      <td>1583</td>\n",
       "      <td>2.641188</td>\n",
       "      <td>0.378618</td>\n",
       "      <td>[cour earks erhibition grounds, cour earks erh...</td>\n",
       "      <td>[cour, earks, erhibition, grounds, cour, earks...</td>\n",
       "    </tr>\n",
       "    <tr>\n",
       "      <th>2</th>\n",
       "      <td>2</td>\n",
       "      <td>[king road, dryburgh egliston road, dryburgh r...</td>\n",
       "      <td>3608</td>\n",
       "      <td>2383</td>\n",
       "      <td>1.514058</td>\n",
       "      <td>0.660477</td>\n",
       "      <td>[king road, dryburgh egliston road, dryburgh r...</td>\n",
       "      <td>[king, road, dryburgh, egliston, road, dryburg...</td>\n",
       "    </tr>\n",
       "    <tr>\n",
       "      <th>3</th>\n",
       "      <td>3</td>\n",
       "      <td>[beadon hammersmith king sta street west, bead...</td>\n",
       "      <td>3616</td>\n",
       "      <td>2075</td>\n",
       "      <td>1.742651</td>\n",
       "      <td>0.573838</td>\n",
       "      <td>[beadon hammersmith king sta street west, bead...</td>\n",
       "      <td>[beadon, hammersmith, king, sta, street, west,...</td>\n",
       "    </tr>\n",
       "    <tr>\n",
       "      <th>4</th>\n",
       "      <td>4</td>\n",
       "      <td>[, , , , , ead, , , , , , line, , , , , , , , ...</td>\n",
       "      <td>5145</td>\n",
       "      <td>25</td>\n",
       "      <td>205.800000</td>\n",
       "      <td>0.004859</td>\n",
       "      <td>[NONE, NONE, NONE, NONE, NONE, ead, NONE, NONE...</td>\n",
       "      <td>[NONE, NONE, NONE, NONE, NONE, ead, NONE, NONE...</td>\n",
       "    </tr>\n",
       "    <tr>\n",
       "      <th>5</th>\n",
       "      <td>5</td>\n",
       "      <td>[floating fulham hurlingham pier wharf wharves...</td>\n",
       "      <td>2438</td>\n",
       "      <td>1403</td>\n",
       "      <td>1.737705</td>\n",
       "      <td>0.575472</td>\n",
       "      <td>[floating fulham hurlingham pier wharf wharves...</td>\n",
       "      <td>[floating, fulham, hurlingham, pier, wharf, wh...</td>\n",
       "    </tr>\n",
       "    <tr>\n",
       "      <th>6</th>\n",
       "      <td>6</td>\n",
       "      <td>[avon coal depot house lisgar more otto road t...</td>\n",
       "      <td>2235</td>\n",
       "      <td>1485</td>\n",
       "      <td>1.505051</td>\n",
       "      <td>0.664430</td>\n",
       "      <td>[avon coal depot house lisgar more otto road t...</td>\n",
       "      <td>[avon, coal, depot, house, lisgar, more, otto,...</td>\n",
       "    </tr>\n",
       "    <tr>\n",
       "      <th>7</th>\n",
       "      <td>7</td>\n",
       "      <td>[broadwway chan hamniersmith school west, broa...</td>\n",
       "      <td>5782</td>\n",
       "      <td>4820</td>\n",
       "      <td>1.199585</td>\n",
       "      <td>0.833622</td>\n",
       "      <td>[broadwway chan hamniersmith school west, broa...</td>\n",
       "      <td>[broadwway, chan, hamniersmith, school, west, ...</td>\n",
       "    </tr>\n",
       "  </tbody>\n",
       "</table>\n",
       "</div>"
      ],
      "text/plain": [
       "   cluster_context                         near_text_filtered_context  count  \\\n",
       "0                0  [cemetery union, field road, chap elm evelyn g...   2390   \n",
       "1                1  [cour earks erhibition grounds, cour earks erh...   4181   \n",
       "2                2  [king road, dryburgh egliston road, dryburgh r...   3608   \n",
       "3                3  [beadon hammersmith king sta street west, bead...   3616   \n",
       "4                4  [, , , , , ead, , , , , , line, , , , , , , , ...   5145   \n",
       "5                5  [floating fulham hurlingham pier wharf wharves...   2438   \n",
       "6                6  [avon coal depot house lisgar more otto road t...   2235   \n",
       "7                7  [broadwway chan hamniersmith school west, broa...   5782   \n",
       "\n",
       "   unique_count  count/unique_count  unique_count/count  \\\n",
       "0          1356            1.762537            0.567364   \n",
       "1          1583            2.641188            0.378618   \n",
       "2          2383            1.514058            0.660477   \n",
       "3          2075            1.742651            0.573838   \n",
       "4            25          205.800000            0.004859   \n",
       "5          1403            1.737705            0.575472   \n",
       "6          1485            1.505051            0.664430   \n",
       "7          4820            1.199585            0.833622   \n",
       "\n",
       "                     near_text_filtered_context_NONE  \\\n",
       "0  [cemetery union, field road, chap elm evelyn g...   \n",
       "1  [cour earks erhibition grounds, cour earks erh...   \n",
       "2  [king road, dryburgh egliston road, dryburgh r...   \n",
       "3  [beadon hammersmith king sta street west, bead...   \n",
       "4  [NONE, NONE, NONE, NONE, NONE, ead, NONE, NONE...   \n",
       "5  [floating fulham hurlingham pier wharf wharves...   \n",
       "6  [avon coal depot house lisgar more otto road t...   \n",
       "7  [broadwway chan hamniersmith school west, broa...   \n",
       "\n",
       "                                               words  \n",
       "0  [cemetery, union, field, road, chap, elm, evel...  \n",
       "1  [cour, earks, erhibition, grounds, cour, earks...  \n",
       "2  [king, road, dryburgh, egliston, road, dryburg...  \n",
       "3  [beadon, hammersmith, king, sta, street, west,...  \n",
       "4  [NONE, NONE, NONE, NONE, NONE, ead, NONE, NONE...  \n",
       "5  [floating, fulham, hurlingham, pier, wharf, wh...  \n",
       "6  [avon, coal, depot, house, lisgar, more, otto,...  \n",
       "7  [broadwway, chan, hamniersmith, school, west, ...  "
      ]
     },
     "execution_count": 54,
     "metadata": {},
     "output_type": "execute_result"
    }
   ],
   "source": [
    "# split the labels into words, using \"NONE\" to represent empty strings\n",
    "\n",
    "cluster_labels_context[\"near_text_filtered_context_NONE\"] = cluster_labels_context[\"near_text_filtered_context\"].apply(lambda x: [word if len(word) else \"NONE\" for word in x])\n",
    "cluster_labels_context[\"words\"] = cluster_labels_context[\"near_text_filtered_context_NONE\"].apply(lambda x: \" \".join(x).split())\n",
    "\n",
    "cluster_labels_context"
   ]
  },
  {
   "cell_type": "code",
   "execution_count": 55,
   "metadata": {},
   "outputs": [
    {
     "name": "stderr",
     "output_type": "stream",
     "text": [
      "/var/folders/fn/j7v8jkl1717c1b6sy_sr0szc0000gr/T/ipykernel_7185/990388813.py:21: UserWarning: FigureCanvasAgg is non-interactive, and thus cannot be shown\n",
      "  fig.show()\n"
     ]
    },
    {
     "data": {
      "image/png": "[encoded data removed]",
      "text/plain": [
       "<Figure size 2200x1000 with 8 Axes>"
      ]
     },
     "metadata": {},
     "output_type": "display_data"
    }
   ],
   "source": [
    "import matplotlib.pyplot as plt\n",
    "\n",
    "fig, ax = plt.subplots(nrows=2, ncols=4, figsize=(22, 10))\n",
    "\n",
    "cluster_dataframes = {}\n",
    "\n",
    "# plot the top 10 words per cluster\n",
    "for cluster in cluster_labels_context.index:\n",
    "\ti, j = divmod(cluster, 4)\n",
    "\n",
    "\tcounts = Counter(cluster_labels_context.iloc[cluster][\"words\"]) # count the words\n",
    "\tdf = pd.DataFrame.from_dict(counts, orient=\"index\", columns=[\"count\"]).reset_index(names=[\"word\"])\n",
    "\tdf[\"count_normalised\"] = df[\"count\"] / df[\"count\"].sum() # normalise the counts by the total number of words in the cluster\n",
    "\tdf.sort_values(\"count_normalised\", inplace=True)\n",
    "\tdf[-10:].plot(kind='barh', x='word', y='count', title=f'Cluster {cluster}', legend=True, ax=ax[i, j], ylabel=\"Count per cluster\") # plot the top 10 words\n",
    "\tcluster_dataframes[cluster] = df\n",
    "\n",
    "fig.suptitle(\"Frequencies of words per cluster of railspace patches\", fontsize=16)\n",
    "fig.tight_layout()\n",
    "fig.savefig(\"word_counts_context.jpg\", dpi=400, format=\"jpg\")\n",
    "fig.show()"
   ]
  },
  {
   "cell_type": "code",
   "execution_count": 56,
   "metadata": {},
   "outputs": [],
   "source": [
    "all_words = [word for words in cluster_labels_context[\"words\"].tolist() for word in words]\n",
    "all_words_count = Counter(all_words)"
   ]
  },
  {
   "cell_type": "code",
   "execution_count": 57,
   "metadata": {},
   "outputs": [
    {
     "name": "stderr",
     "output_type": "stream",
     "text": [
      "/var/folders/fn/j7v8jkl1717c1b6sy_sr0szc0000gr/T/ipykernel_7185/680146119.py:18: UserWarning: FigureCanvasAgg is non-interactive, and thus cannot be shown\n",
      "  fig.show()\n"
     ]
    },
    {
     "data": {
      "image/png": "[encoded data removed]",
      "text/plain": [
       "<Figure size 2000x1000 with 8 Axes>"
      ]
     },
     "metadata": {},
     "output_type": "display_data"
    }
   ],
   "source": [
    "fig, ax = plt.subplots(nrows=2, ncols=4, figsize=(20, 10))\n",
    "\n",
    "cluster_dataframes = {}\n",
    "\n",
    "# plot the top 10 words per cluster, normalised by the total number of times that words appears in the dataset\n",
    "for cluster in cluster_labels_context.index:\n",
    "\ti, j = divmod(cluster, 4)\n",
    "\t\n",
    "\tcounts = Counter(cluster_labels_context.iloc[cluster][\"words\"])\n",
    "\tdf = pd.DataFrame.from_dict(counts, orient=\"index\", columns=[\"count\"]).reset_index(names=[\"word\"])\n",
    "\tdf_red = df[df[\"count\"]>=20].copy(deep=True)\n",
    "\tdf_red[\"count_normalised\"] = df_red.apply(lambda row: row[\"count\"] / all_words_count.get(row[\"word\"]), axis=1)\n",
    "\tdf_red.sort_values(\"count_normalised\", ascending=False, inplace=True)\n",
    "\tdf_red[:10].plot(kind='barh', x='word', y='count_normalised', title=f'Cluster {cluster}', legend=True, ax=ax[i, j], ylabel=\"Normalised count per all words\")\n",
    "\tcluster_dataframes[cluster] = df_red\n",
    "\n",
    "fig.tight_layout()\n",
    "fig.show()"
   ]
  },
  {
   "cell_type": "markdown",
   "metadata": {},
   "source": [
    "## 10b Clustering with just patch text"
   ]
  },
  {
   "cell_type": "markdown",
   "metadata": {},
   "source": [
    "SKIP THIS CELL IF ALREADY RUN"
   ]
  },
  {
   "cell_type": "code",
   "execution_count": 58,
   "metadata": {},
   "outputs": [
    {
     "name": "stderr",
     "output_type": "stream",
     "text": [
      "100%|██████████| 29395/29395 [03:38<00:00, 134.73it/s]\n"
     ]
    }
   ],
   "source": [
    "# 10.1 Create 'sentences' of railspace labels in patches\n",
    "\n",
    "# important this cell takes a while to run\n",
    "# you can simply ignore and load the json file I've shared with you\n",
    "tqdm.pandas()\n",
    "near_text = [] # here we store labels close to the target category, i.e. railspace\n",
    "\n",
    "for i,row in tqdm(railspace_patches.iterrows(), total=railspace_patches.shape[0]):\n",
    "\t# get text intersecting the patch\n",
    "\t# get the set of text labels\n",
    "\ttext_in_patch = list(set(recognised_text_filtered[recognised_text_filtered.intersects(row.geometry)].text_cleaned.tolist()))\n",
    "\t# sort\n",
    "\ttext_in_patch = sorted(text_in_patch)\n",
    "\t# add the labels as a list sorted alphabetically\n",
    "\tnear_text.append(text_in_patch)\n",
    "\n",
    "\n",
    "with open('near_text.json', 'w') as out_txt:\n",
    "\tjson.dump(near_text, out_txt)"
   ]
  },
  {
   "cell_type": "code",
   "execution_count": 59,
   "metadata": {},
   "outputs": [],
   "source": [
    "# load the labels from json\n",
    "with open('near_text.json', 'r') as in_txt:\n",
    "    near_text = json.load(in_txt)"
   ]
  },
  {
   "cell_type": "code",
   "execution_count": 60,
   "metadata": {},
   "outputs": [],
   "source": [
    "railspace_patches[\"near_text\"] = near_text"
   ]
  },
  {
   "cell_type": "code",
   "execution_count": 61,
   "metadata": {},
   "outputs": [],
   "source": [
    "# 10.2 filter the list to remove short and non-alphabetic labels\n",
    "\n",
    "# this is not ideal as it remove abbreviations and other useful information\n",
    "# especially in the more denser urban areas, however we use it as a simple experiment\n",
    "near_text_filtered = [' '.join([w for w in a if (len(w) > 2) and w.isalpha()]) for a in near_text]"
   ]
  },
  {
   "cell_type": "code",
   "execution_count": 62,
   "metadata": {},
   "outputs": [
    {
     "data": {
      "text/plain": [
       "2.0291205987412826"
      ]
     },
     "execution_count": 62,
     "metadata": {},
     "output_type": "execute_result"
    }
   ],
   "source": [
    "# get the average number of words on a patch\n",
    "\n",
    "np.mean([len(i) for i in near_text_filtered])"
   ]
  },
  {
   "cell_type": "code",
   "execution_count": 63,
   "metadata": {},
   "outputs": [],
   "source": [
    "# 10.3 load the embedding model\n",
    "\n",
    "model = SentenceTransformer('distilbert-base-nli-mean-tokens') # Livingwithmachines/bert_1760_1900 | distilbert-base-nli-mean-tokens\n",
    "# encode the railspace \"sentences\", i.e. the list of alphabetically sorted labels\n",
    "\n",
    "# Note to self: avoid 'sentence'. say set of (alphabetically sorted) spotted text on patch. \n",
    "# now, for each set of patchText, we examine how similar they are to each other and organise them into a (pre-determined) number of 'clusters' \n",
    "# e.g. a cluster is a group of sets of patchText that are most like each other\n",
    "\n",
    "railspace_sentence_embeddings = model.encode(near_text_filtered)"
   ]
  },
  {
   "cell_type": "code",
   "execution_count": 64,
   "metadata": {},
   "outputs": [
    {
     "data": {
      "text/plain": [
       "((29395, 768), (29395, 33))"
      ]
     },
     "execution_count": 64,
     "metadata": {},
     "output_type": "execute_result"
    }
   ],
   "source": [
    "railspace_sentence_embeddings.shape, railspace_patches.shape"
   ]
  },
  {
   "cell_type": "code",
   "execution_count": 65,
   "metadata": {},
   "outputs": [],
   "source": [
    "# 10.4 fit the kmeans model to the railspace embeddings\n",
    "\n",
    "# we choose a method of clustering as one approach among many to organise the data, to see patterns in the data\n",
    "# this is connecting what we know about text and what we know about visual features on maps for the first time\n",
    "# we can use the silhouette score to evaluate the quality of the clustering - best is 1, worst is -1\n",
    "\n",
    "from sklearn.metrics import silhouette_score\n",
    "\n",
    "cluster_data = {}\n",
    "\n",
    "for n in [8]:\n",
    "\tcluster_data[n] = {}\n",
    "\t# fit the kmeans model\n",
    "\tkmeans = KMeans(n_clusters=n, random_state=0, n_init=\"auto\", max_iter=1000).fit(railspace_sentence_embeddings)\n",
    "\tcluster_data[n][\"kmeans\"] = kmeans\n",
    "\t# get the silhouette score\n",
    "\tsilhouette = silhouette_score(railspace_sentence_embeddings, kmeans.labels_, random_state=0)\n",
    "\tcluster_data[n][\"silhouette\"] = silhouette\n"
   ]
  },
  {
   "cell_type": "code",
   "execution_count": 66,
   "metadata": {},
   "outputs": [
    {
     "data": {
      "text/html": [
       "<div>\n",
       "<style scoped>\n",
       "    .dataframe tbody tr th:only-of-type {\n",
       "        vertical-align: middle;\n",
       "    }\n",
       "\n",
       "    .dataframe tbody tr th {\n",
       "        vertical-align: top;\n",
       "    }\n",
       "\n",
       "    .dataframe thead th {\n",
       "        text-align: right;\n",
       "    }\n",
       "</style>\n",
       "<table border=\"1\" class=\"dataframe\">\n",
       "  <thead>\n",
       "    <tr style=\"text-align: right;\">\n",
       "      <th></th>\n",
       "      <th>kmeans</th>\n",
       "      <th>silhouette</th>\n",
       "    </tr>\n",
       "  </thead>\n",
       "  <tbody>\n",
       "    <tr>\n",
       "      <th>8</th>\n",
       "      <td>KMeans(max_iter=1000, random_state=0)</td>\n",
       "      <td>0.744606</td>\n",
       "    </tr>\n",
       "  </tbody>\n",
       "</table>\n",
       "</div>"
      ],
      "text/plain": [
       "                                  kmeans silhouette\n",
       "8  KMeans(max_iter=1000, random_state=0)   0.744606"
      ]
     },
     "execution_count": 66,
     "metadata": {},
     "output_type": "execute_result"
    }
   ],
   "source": [
    "# sort the clusters by silhouette score, best first\n",
    "# best is 1, worst is -1\n",
    "\n",
    "sorted_kmeans = pd.DataFrame(cluster_data).T.sort_values(\"silhouette\", ascending=False)\n",
    "sorted_kmeans.head()"
   ]
  },
  {
   "cell_type": "code",
   "execution_count": 67,
   "metadata": {},
   "outputs": [],
   "source": [
    "# choose the number of clusters with best silhouette score\n",
    "best_kmeans = sorted_kmeans.iloc[0][\"kmeans\"]"
   ]
  },
  {
   "cell_type": "code",
   "execution_count": 68,
   "metadata": {},
   "outputs": [],
   "source": [
    "# add labels to the railspace_patches dataframe\n",
    "\n",
    "railspace_patches['cluster'] = best_kmeans.labels_\n",
    "railspace_patches['near_text_filtered'] = near_text_filtered"
   ]
  },
  {
   "cell_type": "code",
   "execution_count": null,
   "metadata": {},
   "outputs": [],
   "source": [
    "# 10.5 plot the different clusters on the map\n",
    "\n",
    "railspace_patches.explore(column='cluster', tiles=tiles, categorical=True, cmap=\"viridis\", popup=['cluster', 'near_text_filtered'])"
   ]
  },
  {
   "cell_type": "markdown",
   "metadata": {},
   "source": [
    "10.6 Understanding Clusters\n",
    "\n",
    "The cells below contain different ways of looking at the clusters"
   ]
  },
  {
   "cell_type": "code",
   "execution_count": 70,
   "metadata": {},
   "outputs": [
    {
     "data": {
      "text/html": [
       "<div>\n",
       "<style scoped>\n",
       "    .dataframe tbody tr th:only-of-type {\n",
       "        vertical-align: middle;\n",
       "    }\n",
       "\n",
       "    .dataframe tbody tr th {\n",
       "        vertical-align: top;\n",
       "    }\n",
       "\n",
       "    .dataframe thead th {\n",
       "        text-align: right;\n",
       "    }\n",
       "</style>\n",
       "<table border=\"1\" class=\"dataframe\">\n",
       "  <thead>\n",
       "    <tr style=\"text-align: right;\">\n",
       "      <th></th>\n",
       "      <th>cluster</th>\n",
       "      <th>near_text_filtered</th>\n",
       "    </tr>\n",
       "  </thead>\n",
       "  <tbody>\n",
       "    <tr>\n",
       "      <th>0</th>\n",
       "      <td>0</td>\n",
       "      <td>[, , , , , , , , , , , , , , , , , , , , , , ,...</td>\n",
       "    </tr>\n",
       "    <tr>\n",
       "      <th>1</th>\n",
       "      <td>1</td>\n",
       "      <td>[beadon hammersmith, great rednall ter, redgra...</td>\n",
       "    </tr>\n",
       "    <tr>\n",
       "      <th>2</th>\n",
       "      <td>2</td>\n",
       "      <td>[dryburgh, crookham dancer mimosa, ham, sandge...</td>\n",
       "    </tr>\n",
       "    <tr>\n",
       "      <th>3</th>\n",
       "      <td>3</td>\n",
       "      <td>[road, road, road, road, road, road, car depot...</td>\n",
       "    </tr>\n",
       "    <tr>\n",
       "      <th>4</th>\n",
       "      <td>4</td>\n",
       "      <td>[nursery, gardens, gardens, green, gardens, ga...</td>\n",
       "    </tr>\n",
       "  </tbody>\n",
       "</table>\n",
       "</div>"
      ],
      "text/plain": [
       "   cluster                                 near_text_filtered\n",
       "0        0  [, , , , , , , , , , , , , , , , , , , , , , ,...\n",
       "1        1  [beadon hammersmith, great rednall ter, redgra...\n",
       "2        2  [dryburgh, crookham dancer mimosa, ham, sandge...\n",
       "3        3  [road, road, road, road, road, road, car depot...\n",
       "4        4  [nursery, gardens, gardens, green, gardens, ga..."
      ]
     },
     "execution_count": 70,
     "metadata": {},
     "output_type": "execute_result"
    }
   ],
   "source": [
    "# get labels for each cluster in railspace_patches\n",
    "cluster_labels = railspace_patches.groupby('cluster')['near_text_filtered'].apply(list).reset_index()\n",
    "cluster_labels.head()"
   ]
  },
  {
   "cell_type": "code",
   "execution_count": 71,
   "metadata": {},
   "outputs": [],
   "source": [
    "# count labels per cluster\n",
    "cluster_labels['count'] = cluster_labels['near_text_filtered'].apply(lambda x: len(x))"
   ]
  },
  {
   "cell_type": "code",
   "execution_count": 72,
   "metadata": {},
   "outputs": [],
   "source": [
    "# count unique labels per cluster\n",
    "cluster_labels['unique_count'] = cluster_labels['near_text_filtered'].apply(lambda x: len(set(x)))"
   ]
  },
  {
   "cell_type": "code",
   "execution_count": 73,
   "metadata": {},
   "outputs": [
    {
     "data": {
      "text/html": [
       "<div>\n",
       "<style scoped>\n",
       "    .dataframe tbody tr th:only-of-type {\n",
       "        vertical-align: middle;\n",
       "    }\n",
       "\n",
       "    .dataframe tbody tr th {\n",
       "        vertical-align: top;\n",
       "    }\n",
       "\n",
       "    .dataframe thead th {\n",
       "        text-align: right;\n",
       "    }\n",
       "</style>\n",
       "<table border=\"1\" class=\"dataframe\">\n",
       "  <thead>\n",
       "    <tr style=\"text-align: right;\">\n",
       "      <th></th>\n",
       "      <th>cluster</th>\n",
       "      <th>near_text_filtered</th>\n",
       "      <th>count</th>\n",
       "      <th>unique_count</th>\n",
       "      <th>count/unique_count</th>\n",
       "      <th>unique_count/count</th>\n",
       "    </tr>\n",
       "  </thead>\n",
       "  <tbody>\n",
       "    <tr>\n",
       "      <th>0</th>\n",
       "      <td>0</td>\n",
       "      <td>[, , , , , , , , , , , , , , , , , , , , , , ,...</td>\n",
       "      <td>21714</td>\n",
       "      <td>12</td>\n",
       "      <td>1809.500000</td>\n",
       "      <td>0.000553</td>\n",
       "    </tr>\n",
       "    <tr>\n",
       "      <th>1</th>\n",
       "      <td>1</td>\n",
       "      <td>[beadon hammersmith, great rednall ter, redgra...</td>\n",
       "      <td>1655</td>\n",
       "      <td>885</td>\n",
       "      <td>1.870056</td>\n",
       "      <td>0.534743</td>\n",
       "    </tr>\n",
       "    <tr>\n",
       "      <th>2</th>\n",
       "      <td>2</td>\n",
       "      <td>[dryburgh, crookham dancer mimosa, ham, sandge...</td>\n",
       "      <td>680</td>\n",
       "      <td>285</td>\n",
       "      <td>2.385965</td>\n",
       "      <td>0.419118</td>\n",
       "    </tr>\n",
       "    <tr>\n",
       "      <th>3</th>\n",
       "      <td>3</td>\n",
       "      <td>[road, road, road, road, road, road, car depot...</td>\n",
       "      <td>738</td>\n",
       "      <td>94</td>\n",
       "      <td>7.851064</td>\n",
       "      <td>0.127371</td>\n",
       "    </tr>\n",
       "    <tr>\n",
       "      <th>4</th>\n",
       "      <td>4</td>\n",
       "      <td>[nursery, gardens, gardens, green, gardens, ga...</td>\n",
       "      <td>542</td>\n",
       "      <td>240</td>\n",
       "      <td>2.258333</td>\n",
       "      <td>0.442804</td>\n",
       "    </tr>\n",
       "  </tbody>\n",
       "</table>\n",
       "</div>"
      ],
      "text/plain": [
       "   cluster                                 near_text_filtered  count  \\\n",
       "0        0  [, , , , , , , , , , , , , , , , , , , , , , ,...  21714   \n",
       "1        1  [beadon hammersmith, great rednall ter, redgra...   1655   \n",
       "2        2  [dryburgh, crookham dancer mimosa, ham, sandge...    680   \n",
       "3        3  [road, road, road, road, road, road, car depot...    738   \n",
       "4        4  [nursery, gardens, gardens, green, gardens, ga...    542   \n",
       "\n",
       "   unique_count  count/unique_count  unique_count/count  \n",
       "0            12         1809.500000            0.000553  \n",
       "1           885            1.870056            0.534743  \n",
       "2           285            2.385965            0.419118  \n",
       "3            94            7.851064            0.127371  \n",
       "4           240            2.258333            0.442804  "
      ]
     },
     "execution_count": 73,
     "metadata": {},
     "output_type": "execute_result"
    }
   ],
   "source": [
    "cluster_labels[\"count/unique_count\"] = cluster_labels[\"count\"]/cluster_labels[\"unique_count\"]\n",
    "cluster_labels[\"unique_count/count\"] = cluster_labels[\"unique_count\"]/cluster_labels[\"count\"]\n",
    "cluster_labels.head()"
   ]
  },
  {
   "cell_type": "code",
   "execution_count": 74,
   "metadata": {},
   "outputs": [
    {
     "data": {
      "text/html": [
       "<div>\n",
       "<style scoped>\n",
       "    .dataframe tbody tr th:only-of-type {\n",
       "        vertical-align: middle;\n",
       "    }\n",
       "\n",
       "    .dataframe tbody tr th {\n",
       "        vertical-align: top;\n",
       "    }\n",
       "\n",
       "    .dataframe thead th {\n",
       "        text-align: right;\n",
       "    }\n",
       "</style>\n",
       "<table border=\"1\" class=\"dataframe\">\n",
       "  <thead>\n",
       "    <tr style=\"text-align: right;\">\n",
       "      <th></th>\n",
       "      <th>cluster</th>\n",
       "      <th>near_text_filtered</th>\n",
       "      <th>count</th>\n",
       "      <th>unique_count</th>\n",
       "      <th>count/unique_count</th>\n",
       "      <th>unique_count/count</th>\n",
       "      <th>near_text_filtered_NONE</th>\n",
       "      <th>words</th>\n",
       "    </tr>\n",
       "  </thead>\n",
       "  <tbody>\n",
       "    <tr>\n",
       "      <th>0</th>\n",
       "      <td>0</td>\n",
       "      <td>[, , , , , , , , , , , , , , , , , , , , , , ,...</td>\n",
       "      <td>21714</td>\n",
       "      <td>12</td>\n",
       "      <td>1809.500000</td>\n",
       "      <td>0.000553</td>\n",
       "      <td>[NONE, NONE, NONE, NONE, NONE, NONE, NONE, NON...</td>\n",
       "      <td>[NONE, NONE, NONE, NONE, NONE, NONE, NONE, NON...</td>\n",
       "    </tr>\n",
       "    <tr>\n",
       "      <th>1</th>\n",
       "      <td>1</td>\n",
       "      <td>[beadon hammersmith, great rednall ter, redgra...</td>\n",
       "      <td>1655</td>\n",
       "      <td>885</td>\n",
       "      <td>1.870056</td>\n",
       "      <td>0.534743</td>\n",
       "      <td>[beadon hammersmith, great rednall ter, redgra...</td>\n",
       "      <td>[beadon, hammersmith, great, rednall, ter, red...</td>\n",
       "    </tr>\n",
       "    <tr>\n",
       "      <th>2</th>\n",
       "      <td>2</td>\n",
       "      <td>[dryburgh, crookham dancer mimosa, ham, sandge...</td>\n",
       "      <td>680</td>\n",
       "      <td>285</td>\n",
       "      <td>2.385965</td>\n",
       "      <td>0.419118</td>\n",
       "      <td>[dryburgh, crookham dancer mimosa, ham, sandge...</td>\n",
       "      <td>[dryburgh, crookham, dancer, mimosa, ham, sand...</td>\n",
       "    </tr>\n",
       "    <tr>\n",
       "      <th>3</th>\n",
       "      <td>3</td>\n",
       "      <td>[road, road, road, road, road, road, car depot...</td>\n",
       "      <td>738</td>\n",
       "      <td>94</td>\n",
       "      <td>7.851064</td>\n",
       "      <td>0.127371</td>\n",
       "      <td>[road, road, road, road, road, road, car depot...</td>\n",
       "      <td>[road, road, road, road, road, road, car, depo...</td>\n",
       "    </tr>\n",
       "    <tr>\n",
       "      <th>4</th>\n",
       "      <td>4</td>\n",
       "      <td>[nursery, gardens, gardens, green, gardens, ga...</td>\n",
       "      <td>542</td>\n",
       "      <td>240</td>\n",
       "      <td>2.258333</td>\n",
       "      <td>0.442804</td>\n",
       "      <td>[nursery, gardens, gardens, green, gardens, ga...</td>\n",
       "      <td>[nursery, gardens, gardens, green, gardens, ga...</td>\n",
       "    </tr>\n",
       "    <tr>\n",
       "      <th>5</th>\n",
       "      <td>5</td>\n",
       "      <td>[pier, floating, laundry, goods, hospital, che...</td>\n",
       "      <td>888</td>\n",
       "      <td>255</td>\n",
       "      <td>3.482353</td>\n",
       "      <td>0.287162</td>\n",
       "      <td>[pier, floating, laundry, goods, hospital, che...</td>\n",
       "      <td>[pier, floating, laundry, goods, hospital, che...</td>\n",
       "    </tr>\n",
       "    <tr>\n",
       "      <th>6</th>\n",
       "      <td>6</td>\n",
       "      <td>[electric station, tramway, railway sil street...</td>\n",
       "      <td>589</td>\n",
       "      <td>145</td>\n",
       "      <td>4.062069</td>\n",
       "      <td>0.246180</td>\n",
       "      <td>[electric station, tramway, railway sil street...</td>\n",
       "      <td>[electric, station, tramway, railway, sil, str...</td>\n",
       "    </tr>\n",
       "    <tr>\n",
       "      <th>7</th>\n",
       "      <td>7</td>\n",
       "      <td>[sta, broadwway, talgarth, putney, ewald, hilm...</td>\n",
       "      <td>2589</td>\n",
       "      <td>1012</td>\n",
       "      <td>2.558300</td>\n",
       "      <td>0.390885</td>\n",
       "      <td>[sta, broadwway, talgarth, putney, ewald, hilm...</td>\n",
       "      <td>[sta, broadwway, talgarth, putney, ewald, hilm...</td>\n",
       "    </tr>\n",
       "  </tbody>\n",
       "</table>\n",
       "</div>"
      ],
      "text/plain": [
       "   cluster                                 near_text_filtered  count  \\\n",
       "0        0  [, , , , , , , , , , , , , , , , , , , , , , ,...  21714   \n",
       "1        1  [beadon hammersmith, great rednall ter, redgra...   1655   \n",
       "2        2  [dryburgh, crookham dancer mimosa, ham, sandge...    680   \n",
       "3        3  [road, road, road, road, road, road, car depot...    738   \n",
       "4        4  [nursery, gardens, gardens, green, gardens, ga...    542   \n",
       "5        5  [pier, floating, laundry, goods, hospital, che...    888   \n",
       "6        6  [electric station, tramway, railway sil street...    589   \n",
       "7        7  [sta, broadwway, talgarth, putney, ewald, hilm...   2589   \n",
       "\n",
       "   unique_count  count/unique_count  unique_count/count  \\\n",
       "0            12         1809.500000            0.000553   \n",
       "1           885            1.870056            0.534743   \n",
       "2           285            2.385965            0.419118   \n",
       "3            94            7.851064            0.127371   \n",
       "4           240            2.258333            0.442804   \n",
       "5           255            3.482353            0.287162   \n",
       "6           145            4.062069            0.246180   \n",
       "7          1012            2.558300            0.390885   \n",
       "\n",
       "                             near_text_filtered_NONE  \\\n",
       "0  [NONE, NONE, NONE, NONE, NONE, NONE, NONE, NON...   \n",
       "1  [beadon hammersmith, great rednall ter, redgra...   \n",
       "2  [dryburgh, crookham dancer mimosa, ham, sandge...   \n",
       "3  [road, road, road, road, road, road, car depot...   \n",
       "4  [nursery, gardens, gardens, green, gardens, ga...   \n",
       "5  [pier, floating, laundry, goods, hospital, che...   \n",
       "6  [electric station, tramway, railway sil street...   \n",
       "7  [sta, broadwway, talgarth, putney, ewald, hilm...   \n",
       "\n",
       "                                               words  \n",
       "0  [NONE, NONE, NONE, NONE, NONE, NONE, NONE, NON...  \n",
       "1  [beadon, hammersmith, great, rednall, ter, red...  \n",
       "2  [dryburgh, crookham, dancer, mimosa, ham, sand...  \n",
       "3  [road, road, road, road, road, road, car, depo...  \n",
       "4  [nursery, gardens, gardens, green, gardens, ga...  \n",
       "5  [pier, floating, laundry, goods, hospital, che...  \n",
       "6  [electric, station, tramway, railway, sil, str...  \n",
       "7  [sta, broadwway, talgarth, putney, ewald, hilm...  "
      ]
     },
     "execution_count": 74,
     "metadata": {},
     "output_type": "execute_result"
    }
   ],
   "source": [
    "# split the labels into words, using \"NONE\" to represent empty strings\n",
    "cluster_labels[\"near_text_filtered_NONE\"] = cluster_labels[\"near_text_filtered\"].apply(lambda x: [word if len(word) else \"NONE\" for word in x])\n",
    "cluster_labels[\"words\"] = cluster_labels[\"near_text_filtered_NONE\"].apply(lambda x: \" \".join(x).split())\n",
    "cluster_labels"
   ]
  },
  {
   "cell_type": "code",
   "execution_count": 75,
   "metadata": {},
   "outputs": [
    {
     "name": "stderr",
     "output_type": "stream",
     "text": [
      "/var/folders/fn/j7v8jkl1717c1b6sy_sr0szc0000gr/T/ipykernel_7185/4093109037.py:21: UserWarning: FigureCanvasAgg is non-interactive, and thus cannot be shown\n",
      "  fig.show()\n"
     ]
    },
    {
     "data": {
      "image/png": "[encoded data removed]",
      "text/plain": [
       "<Figure size 2200x1000 with 8 Axes>"
      ]
     },
     "metadata": {},
     "output_type": "display_data"
    }
   ],
   "source": [
    "import matplotlib.pyplot as plt\n",
    "\n",
    "fig, ax = plt.subplots(nrows=2, ncols=4, figsize=(22, 10))\n",
    "\n",
    "cluster_dataframes = {}\n",
    "\n",
    "# plot the top 10 words per cluster\n",
    "for cluster in cluster_labels.index:\n",
    "\ti, j = divmod(cluster, 4)\n",
    "\n",
    "\tcounts = Counter(cluster_labels.iloc[cluster][\"words\"]) # count the words\n",
    "\tdf = pd.DataFrame.from_dict(counts, orient=\"index\", columns=[\"count\"]).reset_index(names=[\"word\"])\n",
    "\tdf[\"count_normalised\"] = df[\"count\"] / df[\"count\"].sum() # normalise the counts by the total number of words in the cluster\n",
    "\tdf.sort_values(\"count_normalised\", inplace=True)\n",
    "\tdf[-10:].plot(kind='barh', x='word', y='count', title=f'Cluster {cluster}', legend=True, ax=ax[i, j], ylabel=\"Count per cluster\")\n",
    "\tcluster_dataframes[cluster] = df\n",
    "\n",
    "fig.suptitle(\"Frequencies of words per cluster of railspace patches\", fontsize=16)\n",
    "fig.tight_layout()\n",
    "# fig.savefig(\"word_counts.jpg\", dpi=400, format=\"jpg\")\n",
    "fig.show()"
   ]
  },
  {
   "cell_type": "code",
   "execution_count": 76,
   "metadata": {},
   "outputs": [
    {
     "name": "stdout",
     "output_type": "stream",
     "text": [
      "cluster\n",
      "0    21714\n",
      "7     2589\n",
      "1     1655\n",
      "5      888\n",
      "3      738\n",
      "2      680\n",
      "6      589\n",
      "4      542\n",
      "Name: count, dtype: int64\n"
     ]
    }
   ],
   "source": [
    "patches_per_cluster = railspace_patches['cluster'].value_counts()\n",
    "print(patches_per_cluster)"
   ]
  },
  {
   "cell_type": "markdown",
   "metadata": {},
   "source": [
    "# Fin."
   ]
  },
  {
   "cell_type": "markdown",
   "metadata": {},
   "source": []
  }
 ],
 "metadata": {
  "kernelspec": {
   "display_name": "mr_py312",
   "language": "python",
   "name": "python3"
  },
  "language_info": {
   "codemirror_mode": {
    "name": "ipython",
    "version": 3
   },
   "file_extension": ".py",
   "mimetype": "text/x-python",
   "name": "python",
   "nbconvert_exporter": "python",
   "pygments_lexer": "ipython3",
   "version": "3.12.2"
  }
 },
 "nbformat": 4,
 "nbformat_minor": 2
}
