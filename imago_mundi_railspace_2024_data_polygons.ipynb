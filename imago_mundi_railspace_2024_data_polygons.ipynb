{
 "cells": [
  {
   "cell_type": "markdown",
   "metadata": {},
   "source": [
    "# Railspace Text + Patch Data Exploration"
   ]
  },
  {
   "cell_type": "markdown",
   "metadata": {},
   "source": [
    "This notebook provides some examples of how to load and visualise the text outputs of MapReader. \n",
    "\n",
    "We focus on the geography of railspace and labels describing railspace on maps.\n",
    "\n",
    "----"
   ]
  },
  {
   "cell_type": "code",
   "execution_count": 1,
   "metadata": {},
   "outputs": [],
   "source": [
    "import pandas as pd\n",
    "import geopandas as gpd\n",
    "import plotly.express as px\n",
    "from collections import Counter\n",
    "from tqdm import tqdm\n",
    "from shapely import from_wkt, to_wkt"
   ]
  },
  {
   "cell_type": "markdown",
   "metadata": {},
   "source": [
    "# 1. Load data"
   ]
  },
  {
   "cell_type": "code",
   "execution_count": 2,
   "metadata": {},
   "outputs": [
    {
     "data": {
      "text/html": [
       "<div>\n",
       "<style scoped>\n",
       "    .dataframe tbody tr th:only-of-type {\n",
       "        vertical-align: middle;\n",
       "    }\n",
       "\n",
       "    .dataframe tbody tr th {\n",
       "        vertical-align: top;\n",
       "    }\n",
       "\n",
       "    .dataframe thead th {\n",
       "        text-align: right;\n",
       "    }\n",
       "</style>\n",
       "<table border=\"1\" class=\"dataframe\">\n",
       "  <thead>\n",
       "    <tr style=\"text-align: right;\">\n",
       "      <th></th>\n",
       "      <th>parent_id</th>\n",
       "      <th>image_path</th>\n",
       "      <th>shape</th>\n",
       "      <th>pixel_bounds</th>\n",
       "      <th>coordinates</th>\n",
       "      <th>crs</th>\n",
       "      <th>geometry</th>\n",
       "      <th>predicted_label</th>\n",
       "      <th>pred</th>\n",
       "      <th>conf</th>\n",
       "      <th>min_x</th>\n",
       "      <th>min_y</th>\n",
       "      <th>max_x</th>\n",
       "      <th>max_y</th>\n",
       "      <th>new_predicted_label</th>\n",
       "      <th>new_pred</th>\n",
       "    </tr>\n",
       "    <tr>\n",
       "      <th>image_id</th>\n",
       "      <th></th>\n",
       "      <th></th>\n",
       "      <th></th>\n",
       "      <th></th>\n",
       "      <th></th>\n",
       "      <th></th>\n",
       "      <th></th>\n",
       "      <th></th>\n",
       "      <th></th>\n",
       "      <th></th>\n",
       "      <th></th>\n",
       "      <th></th>\n",
       "      <th></th>\n",
       "      <th></th>\n",
       "      <th></th>\n",
       "      <th></th>\n",
       "    </tr>\n",
       "  </thead>\n",
       "  <tbody>\n",
       "    <tr>\n",
       "      <th>patch-0-0-134-134-#map_95470395.png#.png</th>\n",
       "      <td>map_95470395.png</td>\n",
       "      <td>/bask/projects/v/vjgo8416-dataculture/mapreade...</td>\n",
       "      <td>(134, 134, 4)</td>\n",
       "      <td>(0, 0, 134, 134)</td>\n",
       "      <td>(-0.230712890625, 51.49416936411413, -0.229275...</td>\n",
       "      <td>EPSG:4326</td>\n",
       "      <td>POLYGON ((-0.22928 51.49417, -0.22928 51.49506...</td>\n",
       "      <td>no</td>\n",
       "      <td>0</td>\n",
       "      <td>0.962000</td>\n",
       "      <td>0</td>\n",
       "      <td>0</td>\n",
       "      <td>134</td>\n",
       "      <td>134</td>\n",
       "      <td>no</td>\n",
       "      <td>0.0</td>\n",
       "    </tr>\n",
       "    <tr>\n",
       "      <th>patch-0-134-134-268-#map_95470395.png#.png</th>\n",
       "      <td>map_95470395.png</td>\n",
       "      <td>/bask/projects/v/vjgo8416-dataculture/mapreade...</td>\n",
       "      <td>(134, 134, 4)</td>\n",
       "      <td>(0, 134, 134, 268)</td>\n",
       "      <td>(-0.230712890625, 51.49327399808456, -0.229275...</td>\n",
       "      <td>EPSG:4326</td>\n",
       "      <td>POLYGON ((-0.22928 51.49327, -0.22928 51.49417...</td>\n",
       "      <td>railspace</td>\n",
       "      <td>1</td>\n",
       "      <td>0.999944</td>\n",
       "      <td>0</td>\n",
       "      <td>134</td>\n",
       "      <td>134</td>\n",
       "      <td>268</td>\n",
       "      <td>railspace</td>\n",
       "      <td>1.0</td>\n",
       "    </tr>\n",
       "    <tr>\n",
       "      <th>patch-0-268-134-402-#map_95470395.png#.png</th>\n",
       "      <td>map_95470395.png</td>\n",
       "      <td>/bask/projects/v/vjgo8416-dataculture/mapreade...</td>\n",
       "      <td>(134, 134, 4)</td>\n",
       "      <td>(0, 268, 134, 402)</td>\n",
       "      <td>(-0.230712890625, 51.492378632055, -0.22927522...</td>\n",
       "      <td>EPSG:4326</td>\n",
       "      <td>POLYGON ((-0.22928 51.49238, -0.22928 51.49327...</td>\n",
       "      <td>no</td>\n",
       "      <td>0</td>\n",
       "      <td>0.999654</td>\n",
       "      <td>0</td>\n",
       "      <td>268</td>\n",
       "      <td>134</td>\n",
       "      <td>402</td>\n",
       "      <td>no</td>\n",
       "      <td>0.0</td>\n",
       "    </tr>\n",
       "  </tbody>\n",
       "</table>\n",
       "</div>"
      ],
      "text/plain": [
       "                                                   parent_id  \\\n",
       "image_id                                                       \n",
       "patch-0-0-134-134-#map_95470395.png#.png    map_95470395.png   \n",
       "patch-0-134-134-268-#map_95470395.png#.png  map_95470395.png   \n",
       "patch-0-268-134-402-#map_95470395.png#.png  map_95470395.png   \n",
       "\n",
       "                                                                                   image_path  \\\n",
       "image_id                                                                                        \n",
       "patch-0-0-134-134-#map_95470395.png#.png    /bask/projects/v/vjgo8416-dataculture/mapreade...   \n",
       "patch-0-134-134-268-#map_95470395.png#.png  /bask/projects/v/vjgo8416-dataculture/mapreade...   \n",
       "patch-0-268-134-402-#map_95470395.png#.png  /bask/projects/v/vjgo8416-dataculture/mapreade...   \n",
       "\n",
       "                                                    shape        pixel_bounds  \\\n",
       "image_id                                                                        \n",
       "patch-0-0-134-134-#map_95470395.png#.png    (134, 134, 4)    (0, 0, 134, 134)   \n",
       "patch-0-134-134-268-#map_95470395.png#.png  (134, 134, 4)  (0, 134, 134, 268)   \n",
       "patch-0-268-134-402-#map_95470395.png#.png  (134, 134, 4)  (0, 268, 134, 402)   \n",
       "\n",
       "                                                                                  coordinates  \\\n",
       "image_id                                                                                        \n",
       "patch-0-0-134-134-#map_95470395.png#.png    (-0.230712890625, 51.49416936411413, -0.229275...   \n",
       "patch-0-134-134-268-#map_95470395.png#.png  (-0.230712890625, 51.49327399808456, -0.229275...   \n",
       "patch-0-268-134-402-#map_95470395.png#.png  (-0.230712890625, 51.492378632055, -0.22927522...   \n",
       "\n",
       "                                                  crs  \\\n",
       "image_id                                                \n",
       "patch-0-0-134-134-#map_95470395.png#.png    EPSG:4326   \n",
       "patch-0-134-134-268-#map_95470395.png#.png  EPSG:4326   \n",
       "patch-0-268-134-402-#map_95470395.png#.png  EPSG:4326   \n",
       "\n",
       "                                                                                     geometry  \\\n",
       "image_id                                                                                        \n",
       "patch-0-0-134-134-#map_95470395.png#.png    POLYGON ((-0.22928 51.49417, -0.22928 51.49506...   \n",
       "patch-0-134-134-268-#map_95470395.png#.png  POLYGON ((-0.22928 51.49327, -0.22928 51.49417...   \n",
       "patch-0-268-134-402-#map_95470395.png#.png  POLYGON ((-0.22928 51.49238, -0.22928 51.49327...   \n",
       "\n",
       "                                           predicted_label  pred      conf  \\\n",
       "image_id                                                                     \n",
       "patch-0-0-134-134-#map_95470395.png#.png                no     0  0.962000   \n",
       "patch-0-134-134-268-#map_95470395.png#.png       railspace     1  0.999944   \n",
       "patch-0-268-134-402-#map_95470395.png#.png              no     0  0.999654   \n",
       "\n",
       "                                            min_x  min_y  max_x  max_y  \\\n",
       "image_id                                                                 \n",
       "patch-0-0-134-134-#map_95470395.png#.png        0      0    134    134   \n",
       "patch-0-134-134-268-#map_95470395.png#.png      0    134    134    268   \n",
       "patch-0-268-134-402-#map_95470395.png#.png      0    268    134    402   \n",
       "\n",
       "                                           new_predicted_label  new_pred  \n",
       "image_id                                                                  \n",
       "patch-0-0-134-134-#map_95470395.png#.png                    no       0.0  \n",
       "patch-0-134-134-268-#map_95470395.png#.png           railspace       1.0  \n",
       "patch-0-268-134-402-#map_95470395.png#.png                  no       0.0  "
      ]
     },
     "execution_count": 2,
     "metadata": {},
     "output_type": "execute_result"
    }
   ],
   "source": [
    "# 1.1 Load the patch predictions for railspace model\n",
    "\n",
    "predictions = pd.read_csv(\"../post_processed_railspace_predictions_patch_df.csv\", index_col=0)\n",
    "predictions[\"geometry\"] = predictions[\"geometry\"].apply(from_wkt)\n",
    "predictions = gpd.GeoDataFrame(predictions, geometry=\"geometry\", crs=\"EPSG:4326\")\n",
    "\n",
    "predictions.head(3)"
   ]
  },
  {
   "cell_type": "code",
   "execution_count": 3,
   "metadata": {},
   "outputs": [],
   "source": [
    "# filter for only railspace predictions\n",
    "predictions = predictions[predictions[\"new_predicted_label\"]==\"railspace\"]"
   ]
  },
  {
   "cell_type": "code",
   "execution_count": 4,
   "metadata": {},
   "outputs": [
    {
     "data": {
      "text/plain": [
       "(463769, 7)"
      ]
     },
     "execution_count": 4,
     "metadata": {},
     "output_type": "execute_result"
    }
   ],
   "source": [
    "# 1.2 load the geojson with spotted text\n",
    "\n",
    "# we use the file that has been converted to point data\n",
    "spotted_text = gpd.read_file(\"../geo_predictions_deduplicated_point.json\")\n",
    "spotted_text.to_crs(epsg=27700, inplace=True)\n",
    "spotted_text.shape\n"
   ]
  },
  {
   "cell_type": "code",
   "execution_count": 5,
   "metadata": {},
   "outputs": [
    {
     "data": {
      "text/html": [
       "<div>\n",
       "<style scoped>\n",
       "    .dataframe tbody tr th:only-of-type {\n",
       "        vertical-align: middle;\n",
       "    }\n",
       "\n",
       "    .dataframe tbody tr th {\n",
       "        vertical-align: top;\n",
       "    }\n",
       "\n",
       "    .dataframe thead th {\n",
       "        text-align: right;\n",
       "    }\n",
       "</style>\n",
       "<table border=\"1\" class=\"dataframe\">\n",
       "  <thead>\n",
       "    <tr style=\"text-align: right;\">\n",
       "      <th></th>\n",
       "      <th>image_id</th>\n",
       "      <th>crs</th>\n",
       "      <th>text</th>\n",
       "      <th>score</th>\n",
       "      <th>patch_id</th>\n",
       "      <th>duplicate</th>\n",
       "      <th>geometry</th>\n",
       "    </tr>\n",
       "  </thead>\n",
       "  <tbody>\n",
       "    <tr>\n",
       "      <th>0</th>\n",
       "      <td>map_95470395.png</td>\n",
       "      <td>EPSG:4326</td>\n",
       "      <td>GARDENS</td>\n",
       "      <td>0.97</td>\n",
       "      <td>patch-0-0-1000-1000-#map_95470395.png#.png</td>\n",
       "      <td>False</td>\n",
       "      <td>POINT (523626.732 178792.734)</td>\n",
       "    </tr>\n",
       "    <tr>\n",
       "      <th>1</th>\n",
       "      <td>map_95470395.png</td>\n",
       "      <td>EPSG:4326</td>\n",
       "      <td>Soh.</td>\n",
       "      <td>0.96</td>\n",
       "      <td>patch-0-0-1000-1000-#map_95470395.png#.png</td>\n",
       "      <td>False</td>\n",
       "      <td>POINT (523628.406 178550.555)</td>\n",
       "    </tr>\n",
       "    <tr>\n",
       "      <th>2</th>\n",
       "      <td>map_95470395.png</td>\n",
       "      <td>EPSG:4326</td>\n",
       "      <td>ROAD</td>\n",
       "      <td>0.98</td>\n",
       "      <td>patch-0-0-1000-1000-#map_95470395.png#.png</td>\n",
       "      <td>False</td>\n",
       "      <td>POINT (523372.540 178126.047)</td>\n",
       "    </tr>\n",
       "  </tbody>\n",
       "</table>\n",
       "</div>"
      ],
      "text/plain": [
       "           image_id        crs     text score  \\\n",
       "0  map_95470395.png  EPSG:4326  GARDENS  0.97   \n",
       "1  map_95470395.png  EPSG:4326     Soh.  0.96   \n",
       "2  map_95470395.png  EPSG:4326     ROAD  0.98   \n",
       "\n",
       "                                     patch_id  duplicate  \\\n",
       "0  patch-0-0-1000-1000-#map_95470395.png#.png      False   \n",
       "1  patch-0-0-1000-1000-#map_95470395.png#.png      False   \n",
       "2  patch-0-0-1000-1000-#map_95470395.png#.png      False   \n",
       "\n",
       "                        geometry  \n",
       "0  POINT (523626.732 178792.734)  \n",
       "1  POINT (523628.406 178550.555)  \n",
       "2  POINT (523372.540 178126.047)  "
      ]
     },
     "execution_count": 5,
     "metadata": {},
     "output_type": "execute_result"
    }
   ],
   "source": [
    "#1.3 view spotted_text df\n",
    "\n",
    "spotted_text.head(3)"
   ]
  },
  {
   "cell_type": "code",
   "execution_count": 6,
   "metadata": {},
   "outputs": [],
   "source": [
    "#1.4 clean spotted_text \n",
    "\n",
    "spotted_text['text_cleaned'] = spotted_text['text'].apply(lambda x: x.lower().strip().replace(\"(\", \"\").replace(\")\", \"\"))"
   ]
  },
  {
   "cell_type": "markdown",
   "metadata": {},
   "source": [
    "## 2. Filter labels\n",
    "\n",
    "Here we discard the following labels\n",
    "- those starting and ending with #\n",
    "- those starting < or ending with >\n",
    "- numbers after stripping the dot\n",
    "\n",
    "The we lowercase all labels."
   ]
  },
  {
   "cell_type": "code",
   "execution_count": 7,
   "metadata": {},
   "outputs": [],
   "source": [
    "# 2.1 filter spotted to reduce noise labels\n",
    "\n",
    "def filter_labels(w):\n",
    "\treturn (w.endswith('#') or w.startswith('#') or w.endswith('>') or w.startswith('<') or w.strip('.').isdigit())\n",
    "\n",
    "spotted_text_filtered = spotted_text[~spotted_text.apply(lambda x: filter_labels(x['text_cleaned']), axis=1)]"
   ]
  },
  {
   "cell_type": "code",
   "execution_count": 8,
   "metadata": {},
   "outputs": [
    {
     "data": {
      "text/plain": [
       "(210429, 8)"
      ]
     },
     "execution_count": 8,
     "metadata": {},
     "output_type": "execute_result"
    }
   ],
   "source": [
    "# 2.2 remove duplicates\n",
    "\n",
    "spotted_text_filtered = spotted_text_filtered.drop_duplicates(subset=['patch_id','geometry','text']).reset_index(drop=True)\n",
    "spotted_text_filtered.shape"
   ]
  },
  {
   "cell_type": "code",
   "execution_count": 9,
   "metadata": {},
   "outputs": [
    {
     "name": "stdout",
     "output_type": "stream",
     "text": [
      "Railspace predictions shape: (29395, 16)\n",
      "Spotted text original shape: (463769, 8) filtered (210429, 8)\n"
     ]
    }
   ],
   "source": [
    "# 2.3 print the shape of the dataframes\n",
    "\n",
    "print(f\"Railspace predictions shape: {predictions.shape}\")\n",
    "print(f\"Spotted text original shape: {spotted_text.shape} filtered {spotted_text_filtered.shape}\")"
   ]
  },
  {
   "cell_type": "code",
   "execution_count": 10,
   "metadata": {},
   "outputs": [
    {
     "data": {
      "text/plain": [
       "text_cleaned\n",
       "b.      18026\n",
       "m.      14030\n",
       "f.       9671\n",
       "p.       9335\n",
       "road     8580\n",
       "p        7805\n",
       "s.       3226\n",
       "farm     2573\n",
       "b        2385\n",
       "w        2271\n",
       "Name: count, dtype: int64"
      ]
     },
     "execution_count": 10,
     "metadata": {},
     "output_type": "execute_result"
    }
   ],
   "source": [
    "# 2.4 count text_cleaned values\n",
    "\n",
    "spotted_text_filtered.text_cleaned.value_counts().head(10)"
   ]
  },
  {
   "cell_type": "markdown",
   "metadata": {},
   "source": [
    "## 3. Filter patches"
   ]
  },
  {
   "cell_type": "code",
   "execution_count": 11,
   "metadata": {},
   "outputs": [
    {
     "name": "stdout",
     "output_type": "stream",
     "text": [
      "number of maps 329\n"
     ]
    },
    {
     "data": {
      "text/plain": [
       "((29395, 16), (29395, 16))"
      ]
     },
     "execution_count": 11,
     "metadata": {},
     "output_type": "execute_result"
    }
   ],
   "source": [
    "# 3.1 Retain patch predictions for maps that are in the spotted text data\n",
    "\n",
    "text_map_ids = list(spotted_text.image_id.unique())\n",
    "print('number of maps', len(text_map_ids))\n",
    "\n",
    "# filter to those maps for which we have spotted text\n",
    "predictions_red = predictions[predictions['parent_id'].isin(text_map_ids)]\n",
    "predictions_red.shape,predictions.shape\n"
   ]
  },
  {
   "cell_type": "code",
   "execution_count": 12,
   "metadata": {},
   "outputs": [],
   "source": [
    "# 3.4 convert the projection to the same as the spotted text\n",
    "\n",
    "predictions_red.to_crs(epsg=27700, inplace=True) # 27700, British National Grid\n"
   ]
  },
  {
   "cell_type": "code",
   "execution_count": 13,
   "metadata": {},
   "outputs": [],
   "source": [
    "predictions_red.reset_index(inplace=True)"
   ]
  },
  {
   "cell_type": "code",
   "execution_count": 14,
   "metadata": {},
   "outputs": [],
   "source": [
    "# 3.2 add geometry to the patch predictions\n",
    "\n",
    "predictions_red[\"polygon\"] = predictions_red[\"geometry\"]\n",
    "predictions_red[\"centroid\"] = predictions_red[\"geometry\"].centroid\n",
    "\n",
    "predictions_red.reset_index(drop=True, inplace=True)"
   ]
  },
  {
   "cell_type": "code",
   "execution_count": 15,
   "metadata": {},
   "outputs": [
    {
     "data": {
      "text/html": [
       "<div>\n",
       "<style scoped>\n",
       "    .dataframe tbody tr th:only-of-type {\n",
       "        vertical-align: middle;\n",
       "    }\n",
       "\n",
       "    .dataframe tbody tr th {\n",
       "        vertical-align: top;\n",
       "    }\n",
       "\n",
       "    .dataframe thead th {\n",
       "        text-align: right;\n",
       "    }\n",
       "</style>\n",
       "<table border=\"1\" class=\"dataframe\">\n",
       "  <thead>\n",
       "    <tr style=\"text-align: right;\">\n",
       "      <th></th>\n",
       "      <th>image_id</th>\n",
       "      <th>parent_id</th>\n",
       "      <th>image_path</th>\n",
       "      <th>shape</th>\n",
       "      <th>pixel_bounds</th>\n",
       "      <th>coordinates</th>\n",
       "      <th>crs</th>\n",
       "      <th>geometry</th>\n",
       "      <th>predicted_label</th>\n",
       "      <th>pred</th>\n",
       "      <th>conf</th>\n",
       "      <th>min_x</th>\n",
       "      <th>min_y</th>\n",
       "      <th>max_x</th>\n",
       "      <th>max_y</th>\n",
       "      <th>new_predicted_label</th>\n",
       "      <th>new_pred</th>\n",
       "      <th>polygon</th>\n",
       "      <th>centroid</th>\n",
       "    </tr>\n",
       "  </thead>\n",
       "  <tbody>\n",
       "    <tr>\n",
       "      <th>0</th>\n",
       "      <td>patch-0-134-134-268-#map_95470395.png#.png</td>\n",
       "      <td>map_95470395.png</td>\n",
       "      <td>/bask/projects/v/vjgo8416-dataculture/mapreade...</td>\n",
       "      <td>(134, 134, 4)</td>\n",
       "      <td>(0, 134, 134, 268)</td>\n",
       "      <td>(-0.230712890625, 51.49327399808456, -0.229275...</td>\n",
       "      <td>EPSG:4326</td>\n",
       "      <td>POLYGON ((523024.806 178633.966, 523022.398 17...</td>\n",
       "      <td>railspace</td>\n",
       "      <td>1</td>\n",
       "      <td>0.999944</td>\n",
       "      <td>0</td>\n",
       "      <td>134</td>\n",
       "      <td>134</td>\n",
       "      <td>268</td>\n",
       "      <td>railspace</td>\n",
       "      <td>1.0</td>\n",
       "      <td>POLYGON ((523024.806 178633.966, 523022.398 17...</td>\n",
       "      <td>POINT (522973.703 178682.544)</td>\n",
       "    </tr>\n",
       "    <tr>\n",
       "      <th>1</th>\n",
       "      <td>patch-0-4422-134-4556-#map_95470395.png#.png</td>\n",
       "      <td>map_95470395.png</td>\n",
       "      <td>/bask/projects/v/vjgo8416-dataculture/mapreade...</td>\n",
       "      <td>(134, 134, 4)</td>\n",
       "      <td>(0, 4422, 134, 4556)</td>\n",
       "      <td>(-0.230712890625, 51.46462228513854, -0.229275...</td>\n",
       "      <td>EPSG:4326</td>\n",
       "      <td>POLYGON ((523101.859 175447.771, 523099.452 17...</td>\n",
       "      <td>railspace</td>\n",
       "      <td>1</td>\n",
       "      <td>1.000000</td>\n",
       "      <td>0</td>\n",
       "      <td>4422</td>\n",
       "      <td>134</td>\n",
       "      <td>4556</td>\n",
       "      <td>railspace</td>\n",
       "      <td>1.0</td>\n",
       "      <td>POLYGON ((523101.859 175447.771, 523099.452 17...</td>\n",
       "      <td>POINT (523050.725 175496.348)</td>\n",
       "    </tr>\n",
       "    <tr>\n",
       "      <th>2</th>\n",
       "      <td>patch-0-4556-134-4608-#map_95470395.png#.png</td>\n",
       "      <td>map_95470395.png</td>\n",
       "      <td>/bask/projects/v/vjgo8416-dataculture/mapreade...</td>\n",
       "      <td>(134, 134, 4)</td>\n",
       "      <td>(0, 4556, 134, 4608)</td>\n",
       "      <td>(-0.230712890625, 51.46427482966438, -0.229275...</td>\n",
       "      <td>EPSG:4326</td>\n",
       "      <td>POLYGON ((523102.793 175409.133, 523101.859 17...</td>\n",
       "      <td>railspace</td>\n",
       "      <td>1</td>\n",
       "      <td>0.999994</td>\n",
       "      <td>0</td>\n",
       "      <td>4556</td>\n",
       "      <td>134</td>\n",
       "      <td>4608</td>\n",
       "      <td>railspace</td>\n",
       "      <td>1.0</td>\n",
       "      <td>POLYGON ((523102.793 175409.133, 523101.859 17...</td>\n",
       "      <td>POINT (523052.395 175427.245)</td>\n",
       "    </tr>\n",
       "    <tr>\n",
       "      <th>3</th>\n",
       "      <td>patch-134-134-268-268-#map_95470395.png#.png</td>\n",
       "      <td>map_95470395.png</td>\n",
       "      <td>/bask/projects/v/vjgo8416-dataculture/mapreade...</td>\n",
       "      <td>(134, 134, 4)</td>\n",
       "      <td>(134, 134, 268, 268)</td>\n",
       "      <td>(-0.22927522659301758, 51.49327399808456, -0.2...</td>\n",
       "      <td>EPSG:4326</td>\n",
       "      <td>POLYGON ((523124.605 178636.381, 523122.195 17...</td>\n",
       "      <td>railspace</td>\n",
       "      <td>1</td>\n",
       "      <td>1.000000</td>\n",
       "      <td>134</td>\n",
       "      <td>134</td>\n",
       "      <td>268</td>\n",
       "      <td>268</td>\n",
       "      <td>railspace</td>\n",
       "      <td>1.0</td>\n",
       "      <td>POLYGON ((523124.605 178636.381, 523122.195 17...</td>\n",
       "      <td>POINT (523073.501 178684.958)</td>\n",
       "    </tr>\n",
       "    <tr>\n",
       "      <th>4</th>\n",
       "      <td>patch-134-4556-268-4608-#map_95470395.png#.png</td>\n",
       "      <td>map_95470395.png</td>\n",
       "      <td>/bask/projects/v/vjgo8416-dataculture/mapreade...</td>\n",
       "      <td>(134, 134, 4)</td>\n",
       "      <td>(134, 4556, 268, 4608)</td>\n",
       "      <td>(-0.22927522659301758, 51.46427482966438, -0.2...</td>\n",
       "      <td>EPSG:4326</td>\n",
       "      <td>POLYGON ((523202.656 175411.548, 523201.721 17...</td>\n",
       "      <td>railspace</td>\n",
       "      <td>1</td>\n",
       "      <td>0.999987</td>\n",
       "      <td>134</td>\n",
       "      <td>4556</td>\n",
       "      <td>268</td>\n",
       "      <td>4608</td>\n",
       "      <td>railspace</td>\n",
       "      <td>1.0</td>\n",
       "      <td>POLYGON ((523202.656 175411.548, 523201.721 17...</td>\n",
       "      <td>POINT (523152.257 175429.660)</td>\n",
       "    </tr>\n",
       "  </tbody>\n",
       "</table>\n",
       "</div>"
      ],
      "text/plain": [
       "                                         image_id         parent_id  \\\n",
       "0      patch-0-134-134-268-#map_95470395.png#.png  map_95470395.png   \n",
       "1    patch-0-4422-134-4556-#map_95470395.png#.png  map_95470395.png   \n",
       "2    patch-0-4556-134-4608-#map_95470395.png#.png  map_95470395.png   \n",
       "3    patch-134-134-268-268-#map_95470395.png#.png  map_95470395.png   \n",
       "4  patch-134-4556-268-4608-#map_95470395.png#.png  map_95470395.png   \n",
       "\n",
       "                                          image_path          shape  \\\n",
       "0  /bask/projects/v/vjgo8416-dataculture/mapreade...  (134, 134, 4)   \n",
       "1  /bask/projects/v/vjgo8416-dataculture/mapreade...  (134, 134, 4)   \n",
       "2  /bask/projects/v/vjgo8416-dataculture/mapreade...  (134, 134, 4)   \n",
       "3  /bask/projects/v/vjgo8416-dataculture/mapreade...  (134, 134, 4)   \n",
       "4  /bask/projects/v/vjgo8416-dataculture/mapreade...  (134, 134, 4)   \n",
       "\n",
       "             pixel_bounds                                        coordinates  \\\n",
       "0      (0, 134, 134, 268)  (-0.230712890625, 51.49327399808456, -0.229275...   \n",
       "1    (0, 4422, 134, 4556)  (-0.230712890625, 51.46462228513854, -0.229275...   \n",
       "2    (0, 4556, 134, 4608)  (-0.230712890625, 51.46427482966438, -0.229275...   \n",
       "3    (134, 134, 268, 268)  (-0.22927522659301758, 51.49327399808456, -0.2...   \n",
       "4  (134, 4556, 268, 4608)  (-0.22927522659301758, 51.46427482966438, -0.2...   \n",
       "\n",
       "         crs                                           geometry  \\\n",
       "0  EPSG:4326  POLYGON ((523024.806 178633.966, 523022.398 17...   \n",
       "1  EPSG:4326  POLYGON ((523101.859 175447.771, 523099.452 17...   \n",
       "2  EPSG:4326  POLYGON ((523102.793 175409.133, 523101.859 17...   \n",
       "3  EPSG:4326  POLYGON ((523124.605 178636.381, 523122.195 17...   \n",
       "4  EPSG:4326  POLYGON ((523202.656 175411.548, 523201.721 17...   \n",
       "\n",
       "  predicted_label  pred      conf  min_x  min_y  max_x  max_y  \\\n",
       "0       railspace     1  0.999944      0    134    134    268   \n",
       "1       railspace     1  1.000000      0   4422    134   4556   \n",
       "2       railspace     1  0.999994      0   4556    134   4608   \n",
       "3       railspace     1  1.000000    134    134    268    268   \n",
       "4       railspace     1  0.999987    134   4556    268   4608   \n",
       "\n",
       "  new_predicted_label  new_pred  \\\n",
       "0           railspace       1.0   \n",
       "1           railspace       1.0   \n",
       "2           railspace       1.0   \n",
       "3           railspace       1.0   \n",
       "4           railspace       1.0   \n",
       "\n",
       "                                             polygon  \\\n",
       "0  POLYGON ((523024.806 178633.966, 523022.398 17...   \n",
       "1  POLYGON ((523101.859 175447.771, 523099.452 17...   \n",
       "2  POLYGON ((523102.793 175409.133, 523101.859 17...   \n",
       "3  POLYGON ((523124.605 178636.381, 523122.195 17...   \n",
       "4  POLYGON ((523202.656 175411.548, 523201.721 17...   \n",
       "\n",
       "                        centroid  \n",
       "0  POINT (522973.703 178682.544)  \n",
       "1  POINT (523050.725 175496.348)  \n",
       "2  POINT (523052.395 175427.245)  \n",
       "3  POINT (523073.501 178684.958)  \n",
       "4  POINT (523152.257 175429.660)  "
      ]
     },
     "execution_count": 15,
     "metadata": {},
     "output_type": "execute_result"
    }
   ],
   "source": [
    "# 3.3 View predictions_red\n",
    "\n",
    "predictions_red.head()"
   ]
  },
  {
   "cell_type": "code",
   "execution_count": 16,
   "metadata": {},
   "outputs": [
    {
     "data": {
      "text/html": [
       "<div>\n",
       "<style scoped>\n",
       "    .dataframe tbody tr th:only-of-type {\n",
       "        vertical-align: middle;\n",
       "    }\n",
       "\n",
       "    .dataframe tbody tr th {\n",
       "        vertical-align: top;\n",
       "    }\n",
       "\n",
       "    .dataframe thead th {\n",
       "        text-align: right;\n",
       "    }\n",
       "</style>\n",
       "<table border=\"1\" class=\"dataframe\">\n",
       "  <thead>\n",
       "    <tr style=\"text-align: right;\">\n",
       "      <th></th>\n",
       "      <th>image_id</th>\n",
       "      <th>crs</th>\n",
       "      <th>text</th>\n",
       "      <th>score</th>\n",
       "      <th>patch_id</th>\n",
       "      <th>duplicate</th>\n",
       "      <th>geometry</th>\n",
       "      <th>text_cleaned</th>\n",
       "    </tr>\n",
       "  </thead>\n",
       "  <tbody>\n",
       "    <tr>\n",
       "      <th>510</th>\n",
       "      <td>map_95470395.png</td>\n",
       "      <td>EPSG:4326</td>\n",
       "      <td>EARL'S</td>\n",
       "      <td>0.94</td>\n",
       "      <td>patch-3200-0-4200-1000-#map_95470395.png#.png</td>\n",
       "      <td>False</td>\n",
       "      <td>POINT (525579.553 178604.370)</td>\n",
       "      <td>earl's</td>\n",
       "    </tr>\n",
       "    <tr>\n",
       "      <th>513</th>\n",
       "      <td>map_95470395.png</td>\n",
       "      <td>EPSG:4326</td>\n",
       "      <td>HOGARTH</td>\n",
       "      <td>0.98</td>\n",
       "      <td>patch-3200-0-4200-1000-#map_95470395.png#.png</td>\n",
       "      <td>False</td>\n",
       "      <td>POINT (525585.731 178689.382)</td>\n",
       "      <td>hogarth</td>\n",
       "    </tr>\n",
       "    <tr>\n",
       "      <th>1600</th>\n",
       "      <td>map_95470395.png</td>\n",
       "      <td>EPSG:4326</td>\n",
       "      <td>EARL'S</td>\n",
       "      <td>0.94</td>\n",
       "      <td>patch-3200-0-4200-1000-#map_95470395.png#.png</td>\n",
       "      <td>False</td>\n",
       "      <td>POINT (525579.553 178604.370)</td>\n",
       "      <td>earl's</td>\n",
       "    </tr>\n",
       "    <tr>\n",
       "      <th>1603</th>\n",
       "      <td>map_95470395.png</td>\n",
       "      <td>EPSG:4326</td>\n",
       "      <td>HOGARTH</td>\n",
       "      <td>0.98</td>\n",
       "      <td>patch-3200-0-4200-1000-#map_95470395.png#.png</td>\n",
       "      <td>False</td>\n",
       "      <td>POINT (525585.731 178689.382)</td>\n",
       "      <td>hogarth</td>\n",
       "    </tr>\n",
       "    <tr>\n",
       "      <th>403661</th>\n",
       "      <td>map_101436340.png</td>\n",
       "      <td>EPSG:4326</td>\n",
       "      <td>COURT</td>\n",
       "      <td>0.96</td>\n",
       "      <td>patch-1600-0-2600-1000-#map_101436340.png#.png</td>\n",
       "      <td>False</td>\n",
       "      <td>POINT (525616.429 178637.742)</td>\n",
       "      <td>court</td>\n",
       "    </tr>\n",
       "    <tr>\n",
       "      <th>405083</th>\n",
       "      <td>map_101436340.png</td>\n",
       "      <td>EPSG:4326</td>\n",
       "      <td>COURT</td>\n",
       "      <td>0.96</td>\n",
       "      <td>patch-1600-0-2600-1000-#map_101436340.png#.png</td>\n",
       "      <td>False</td>\n",
       "      <td>POINT (525616.429 178637.742)</td>\n",
       "      <td>court</td>\n",
       "    </tr>\n",
       "    <tr>\n",
       "      <th>405093</th>\n",
       "      <td>map_101436340.png</td>\n",
       "      <td>EPSG:4326</td>\n",
       "      <td>EARL'S</td>\n",
       "      <td>0.94</td>\n",
       "      <td>patch-1600-0-2600-1000-#map_101436340.png#.png</td>\n",
       "      <td>False</td>\n",
       "      <td>POINT (525579.578 178604.276)</td>\n",
       "      <td>earl's</td>\n",
       "    </tr>\n",
       "    <tr>\n",
       "      <th>405097</th>\n",
       "      <td>map_101436340.png</td>\n",
       "      <td>EPSG:4326</td>\n",
       "      <td>HOGARTH</td>\n",
       "      <td>0.98</td>\n",
       "      <td>patch-1600-0-2600-1000-#map_101436340.png#.png</td>\n",
       "      <td>False</td>\n",
       "      <td>POINT (525585.886 178689.506)</td>\n",
       "      <td>hogarth</td>\n",
       "    </tr>\n",
       "  </tbody>\n",
       "</table>\n",
       "</div>"
      ],
      "text/plain": [
       "                 image_id        crs     text score  \\\n",
       "510      map_95470395.png  EPSG:4326   EARL'S  0.94   \n",
       "513      map_95470395.png  EPSG:4326  HOGARTH  0.98   \n",
       "1600     map_95470395.png  EPSG:4326   EARL'S  0.94   \n",
       "1603     map_95470395.png  EPSG:4326  HOGARTH  0.98   \n",
       "403661  map_101436340.png  EPSG:4326    COURT  0.96   \n",
       "405083  map_101436340.png  EPSG:4326    COURT  0.96   \n",
       "405093  map_101436340.png  EPSG:4326   EARL'S  0.94   \n",
       "405097  map_101436340.png  EPSG:4326  HOGARTH  0.98   \n",
       "\n",
       "                                              patch_id  duplicate  \\\n",
       "510      patch-3200-0-4200-1000-#map_95470395.png#.png      False   \n",
       "513      patch-3200-0-4200-1000-#map_95470395.png#.png      False   \n",
       "1600     patch-3200-0-4200-1000-#map_95470395.png#.png      False   \n",
       "1603     patch-3200-0-4200-1000-#map_95470395.png#.png      False   \n",
       "403661  patch-1600-0-2600-1000-#map_101436340.png#.png      False   \n",
       "405083  patch-1600-0-2600-1000-#map_101436340.png#.png      False   \n",
       "405093  patch-1600-0-2600-1000-#map_101436340.png#.png      False   \n",
       "405097  patch-1600-0-2600-1000-#map_101436340.png#.png      False   \n",
       "\n",
       "                             geometry text_cleaned  \n",
       "510     POINT (525579.553 178604.370)       earl's  \n",
       "513     POINT (525585.731 178689.382)      hogarth  \n",
       "1600    POINT (525579.553 178604.370)       earl's  \n",
       "1603    POINT (525585.731 178689.382)      hogarth  \n",
       "403661  POINT (525616.429 178637.742)        court  \n",
       "405083  POINT (525616.429 178637.742)        court  \n",
       "405093  POINT (525579.578 178604.276)       earl's  \n",
       "405097  POINT (525585.886 178689.506)      hogarth  "
      ]
     },
     "execution_count": 16,
     "metadata": {},
     "output_type": "execute_result"
    }
   ],
   "source": [
    "# 3.5 \n",
    "\n",
    "spotted_text[spotted_text.intersects(predictions_red.iloc[101].geometry)]"
   ]
  },
  {
   "cell_type": "code",
   "execution_count": 17,
   "metadata": {},
   "outputs": [],
   "source": [
    "# 3.6 Import map tiles from NLS tileserver\n",
    "\n",
    "import xyzservices as xyz\n",
    "tiles = xyz.TileProvider(\n",
    "    name=\"OS 2nd Edition - 6 inch\",\n",
    "    url=\"https://api.maptiler.com/tiles/uk-osgb1888/{z}/{x}/{y}?key=5f6FYax2HhTa0Z9RfXsp\",\n",
    "    attribution=\"NLS\",\n",
    ")"
   ]
  },
  {
   "cell_type": "code",
   "execution_count": 18,
   "metadata": {},
   "outputs": [],
   "source": [
    "# HELP - would like to have a plot of these patches so people can see data\n",
    "# See figures notebook"
   ]
  },
  {
   "cell_type": "code",
   "execution_count": null,
   "metadata": {},
   "outputs": [],
   "source": [
    "# 3.7 View spotted_text on map\n",
    "\n",
    "# double check by eyeballing some results\n",
    "# Important: you might have to install a few packages to get this to work\n",
    "# check the error message if it does not work\n",
    "spotted_text[spotted_text.intersects(predictions_red.iloc[101].geometry)].explore(tiles=tiles)"
   ]
  },
  {
   "cell_type": "markdown",
   "metadata": {},
   "source": [
    "To get a sense of what some of the abbreviations mean, please go to the NLS website: https://maps.nls.uk/os/abbrev/"
   ]
  },
  {
   "cell_type": "markdown",
   "metadata": {},
   "source": [
    "# 10. Clustering experiments"
   ]
  },
  {
   "cell_type": "markdown",
   "metadata": {},
   "source": [
    "## 10a Clustering with just patch text"
   ]
  },
  {
   "cell_type": "code",
   "execution_count": 20,
   "metadata": {},
   "outputs": [],
   "source": [
    "from sklearn.cluster import KMeans\n",
    "import json\n",
    "import numpy as np\n",
    "from shapely import Polygon\n",
    "from sentence_transformers import SentenceTransformer"
   ]
  },
  {
   "cell_type": "code",
   "execution_count": 21,
   "metadata": {},
   "outputs": [
    {
     "name": "stderr",
     "output_type": "stream",
     "text": [
      "100%|██████████| 29395/29395 [03:23<00:00, 144.54it/s]\n"
     ]
    }
   ],
   "source": [
    "# 10.1 Create 'sentences' of railspace labels in patches\n",
    "\n",
    "# important this cell takes a while to run\n",
    "# you can simply ignore and load the json file I've shared with you\n",
    "tqdm.pandas()\n",
    "adjacent_texts = [] # here we store labels close to the target category, i.e. railspace\n",
    "\n",
    "for i,row in tqdm(predictions_red.iterrows(), total=predictions_red.shape[0]):\n",
    "\t# get text intersecting the patch\n",
    "\t# get the set of text labels\n",
    "\tlabels_patch = list(set(spotted_text_filtered[spotted_text_filtered.intersects(row.geometry)].text_cleaned.tolist()))\n",
    "\t# sort\n",
    "\tlabels_patch = sorted(labels_patch)\n",
    "\t# add the labels as a list sorted alphabetically\n",
    "\tadjacent_texts.append(labels_patch)\n",
    "\n",
    "\n",
    "with open('adjacent_texts.json', 'w') as out_txt:\n",
    "\tjson.dump(adjacent_texts, out_txt)"
   ]
  },
  {
   "cell_type": "code",
   "execution_count": 22,
   "metadata": {},
   "outputs": [],
   "source": [
    "# # load the labels from json\n",
    "# with open('adjacent_texts.json', 'r') as in_txt:\n",
    "#     adjacent_texts = json.load(in_txt)\n",
    "# \n",
    "# with open('adjacent_texts_context.json', 'r') as in_txt:\n",
    "#     adjacent_texts_context = json.load(in_txt)"
   ]
  },
  {
   "cell_type": "code",
   "execution_count": 23,
   "metadata": {},
   "outputs": [],
   "source": [
    "# 10.2 filter the list to remove short and non-alphabetic labels\n",
    "\n",
    "# this is not ideal as it remove abbreviations and other useful information\n",
    "# especially in the more denser urban areas, however we use it as a simple experiment\n",
    "labels_sentence = [' '.join([w for w in a if (len(w) > 2) and w.isalpha()]) for a in adjacent_texts]"
   ]
  },
  {
   "cell_type": "code",
   "execution_count": 24,
   "metadata": {},
   "outputs": [
    {
     "data": {
      "text/plain": [
       "2.0291205987412826"
      ]
     },
     "execution_count": 24,
     "metadata": {},
     "output_type": "execute_result"
    }
   ],
   "source": [
    "# get the average number of words on a patch\n",
    "\n",
    "np.mean([len(i) for i in labels_sentence])"
   ]
  },
  {
   "cell_type": "code",
   "execution_count": 25,
   "metadata": {},
   "outputs": [],
   "source": [
    "# 10.3 load the embedding model\n",
    "\n",
    "model = SentenceTransformer('distilbert-base-nli-mean-tokens') # Livingwithmachines/bert_1760_1900 | distilbert-base-nli-mean-tokens\n",
    "# encode the railspace \"sentences\", i.e. the list of alphabetically sorted labels\n",
    "\n",
    "# Note to self: avoid 'sentence'. say set of (alphabetically sorted) spotted text on patch. \n",
    "# now, for each set of patchText, we examine how similar they are to each other and organise them into a (pre-determined) number of 'clusters' \n",
    "# e.g. a cluster is a group of sets of patchText that are most like each other\n",
    "\n",
    "railspace_sentence_embeddings = model.encode(labels_sentence)"
   ]
  },
  {
   "cell_type": "code",
   "execution_count": 26,
   "metadata": {},
   "outputs": [
    {
     "data": {
      "text/plain": [
       "((29395, 768), (29395, 19))"
      ]
     },
     "execution_count": 26,
     "metadata": {},
     "output_type": "execute_result"
    }
   ],
   "source": [
    "railspace_sentence_embeddings.shape, predictions_red.shape"
   ]
  },
  {
   "cell_type": "code",
   "execution_count": 32,
   "metadata": {},
   "outputs": [
    {
     "name": "stderr",
     "output_type": "stream",
     "text": [
      "100%|██████████| 3/3 [00:53<00:00, 17.73s/it]\n"
     ]
    }
   ],
   "source": [
    "\n",
    "# 10.4 fit the kmeans model to the railspace embeddings\n",
    "\n",
    "# we choose a method of clustering as one approach among many to organise the data, to see patterns in the data\n",
    "# this is connecting what we know about text and what we know about visual features on maps for the first time\n",
    "# we can use the silhouette score to evaluate the quality of the clustering - best is 1, worst is -1\n",
    "\n",
    "from sklearn.metrics import silhouette_score\n",
    "cluster_data = {}\n",
    "\n",
    "for n in tqdm(range(4,7)):\n",
    "\tcluster_data[n] = {}\n",
    "\t# fit the kmeans model\n",
    "\tkmeans = KMeans(n_clusters=n, random_state=0, n_init=\"auto\", max_iter=1000).fit(railspace_sentence_embeddings)\n",
    "\tcluster_data[n][\"kmeans\"] = kmeans\n",
    "\t# get the silhouette score\n",
    "\tsilhouette = silhouette_score(railspace_sentence_embeddings, kmeans.labels_, random_state=0)\n",
    "\tcluster_data[n][\"silhouette\"] = silhouette\n"
   ]
  },
  {
   "cell_type": "code",
   "execution_count": 33,
   "metadata": {},
   "outputs": [
    {
     "data": {
      "text/html": [
       "<div>\n",
       "<style scoped>\n",
       "    .dataframe tbody tr th:only-of-type {\n",
       "        vertical-align: middle;\n",
       "    }\n",
       "\n",
       "    .dataframe tbody tr th {\n",
       "        vertical-align: top;\n",
       "    }\n",
       "\n",
       "    .dataframe thead th {\n",
       "        text-align: right;\n",
       "    }\n",
       "</style>\n",
       "<table border=\"1\" class=\"dataframe\">\n",
       "  <thead>\n",
       "    <tr style=\"text-align: right;\">\n",
       "      <th></th>\n",
       "      <th>kmeans</th>\n",
       "      <th>silhouette</th>\n",
       "    </tr>\n",
       "  </thead>\n",
       "  <tbody>\n",
       "    <tr>\n",
       "      <th>6</th>\n",
       "      <td>KMeans(max_iter=1000, n_clusters=6, random_sta...</td>\n",
       "      <td>0.736455</td>\n",
       "    </tr>\n",
       "    <tr>\n",
       "      <th>5</th>\n",
       "      <td>KMeans(max_iter=1000, n_clusters=5, random_sta...</td>\n",
       "      <td>0.732996</td>\n",
       "    </tr>\n",
       "    <tr>\n",
       "      <th>4</th>\n",
       "      <td>KMeans(max_iter=1000, n_clusters=4, random_sta...</td>\n",
       "      <td>0.731468</td>\n",
       "    </tr>\n",
       "  </tbody>\n",
       "</table>\n",
       "</div>"
      ],
      "text/plain": [
       "                                              kmeans silhouette\n",
       "6  KMeans(max_iter=1000, n_clusters=6, random_sta...   0.736455\n",
       "5  KMeans(max_iter=1000, n_clusters=5, random_sta...   0.732996\n",
       "4  KMeans(max_iter=1000, n_clusters=4, random_sta...   0.731468"
      ]
     },
     "execution_count": 33,
     "metadata": {},
     "output_type": "execute_result"
    }
   ],
   "source": [
    "sorted_kmeans = pd.DataFrame(cluster_data).T.sort_values(\"silhouette\", ascending=False)\n",
    "sorted_kmeans.head()"
   ]
  },
  {
   "cell_type": "code",
   "execution_count": 34,
   "metadata": {},
   "outputs": [],
   "source": [
    "best_kmeans = sorted_kmeans.iloc[0][\"kmeans\"]"
   ]
  },
  {
   "cell_type": "code",
   "execution_count": 35,
   "metadata": {},
   "outputs": [],
   "source": [
    "# add labels to the predictions_red dataframe\n",
    "\n",
    "predictions_red['cluster'] = best_kmeans.labels_\n",
    "predictions_red['labels'] = labels_sentence"
   ]
  },
  {
   "cell_type": "code",
   "execution_count": null,
   "metadata": {},
   "outputs": [],
   "source": [
    "# 10.5 plot the different clusters on the map\n",
    "\n",
    "predictions_red.explore(column='cluster', tiles=tiles, categorical=True, cmap=\"viridis\", popup=['cluster', 'labels'])"
   ]
  },
  {
   "cell_type": "code",
   "execution_count": 37,
   "metadata": {},
   "outputs": [],
   "source": [
    "x, y = [i[0] for i in predictions_red.to_crs(\"EPSG:4326\").unary_union.centroid.xy]"
   ]
  },
  {
   "cell_type": "code",
   "execution_count": 38,
   "metadata": {},
   "outputs": [],
   "source": [
    "import folium\n",
    "import io\n",
    "from PIL import Image"
   ]
  },
  {
   "cell_type": "code",
   "execution_count": 39,
   "metadata": {},
   "outputs": [],
   "source": [
    "maps = []\n",
    "for cluster in predictions_red[\"cluster\"].unique():\n",
    "\tm = folium.Map(location=[y, x], zoom_start=9, tiles=tiles)\n",
    "\tpredictions_red[predictions_red[\"cluster\"] == cluster].explore(color=\"blue\", marker_kwargs={\"radius\":1}, style_kwargs={\"weight\":1, \"fillColor\": \"blue\", \"fillOpacity\":1}, m=m)\n",
    "\n",
    "\tm.save(f\"text_cluster_{cluster}.html\")\n",
    "\n",
    "\tmaps.append(m)"
   ]
  },
  {
   "cell_type": "code",
   "execution_count": 40,
   "metadata": {},
   "outputs": [],
   "source": [
    "for cluster in predictions_red[\"cluster\"].unique():\n",
    "\t# f = f\"20sample_cluster_{cluster}_mean_pixel_RGB.csv\"\n",
    "\t# cluster_df = predictions_red[predictions_red[\"cluster\"] == cluster].sample(20, weights=\"mean_pixel_RGB\", random_state=42)\n",
    "\t# cluster_df[\"image_id\"].to_csv(f)\n",
    "\t\n",
    "\tcluster_df = predictions_red[predictions_red[\"cluster\"] == cluster].copy(deep=True)\n",
    "\tcluster_df[\"polygon\"] = cluster_df[\"polygon\"].apply(to_wkt)\n",
    "\tcluster_df[\"centroid\"] = cluster_df[\"centroid\"].apply(to_wkt)\n",
    "\tcluster_df.to_file(f\"cluster_{cluster}.geojson\", driver=\"GeoJSON\")\n",
    "\n",
    "\twith open(f\"20sample_cluster_{cluster}_random.txt\", \"w\") as f:\n",
    "\t\tf.writelines(\"\\n\".join(cluster_df[\"image_id\"].sample(20, random_state=42).to_list()))"
   ]
  },
  {
   "cell_type": "markdown",
   "metadata": {},
   "source": [
    "10.6 Understanding Clusters\n",
    "\n",
    "The cells below contain different ways of looking at the clusters"
   ]
  },
  {
   "cell_type": "code",
   "execution_count": 41,
   "metadata": {},
   "outputs": [
    {
     "data": {
      "text/html": [
       "<div>\n",
       "<style scoped>\n",
       "    .dataframe tbody tr th:only-of-type {\n",
       "        vertical-align: middle;\n",
       "    }\n",
       "\n",
       "    .dataframe tbody tr th {\n",
       "        vertical-align: top;\n",
       "    }\n",
       "\n",
       "    .dataframe thead th {\n",
       "        text-align: right;\n",
       "    }\n",
       "</style>\n",
       "<table border=\"1\" class=\"dataframe\">\n",
       "  <thead>\n",
       "    <tr style=\"text-align: right;\">\n",
       "      <th></th>\n",
       "      <th>cluster</th>\n",
       "      <th>labels</th>\n",
       "    </tr>\n",
       "  </thead>\n",
       "  <tbody>\n",
       "    <tr>\n",
       "      <th>0</th>\n",
       "      <td>0</td>\n",
       "      <td>[, , , , , , , , , , , , , , , , , , , , , , ,...</td>\n",
       "    </tr>\n",
       "    <tr>\n",
       "      <th>1</th>\n",
       "      <td>1</td>\n",
       "      <td>[pier, floating, hospital, basin chelsea, bath...</td>\n",
       "    </tr>\n",
       "    <tr>\n",
       "      <th>2</th>\n",
       "      <td>2</td>\n",
       "      <td>[dryburgh, crookham dancer mimosa, laundry, ha...</td>\n",
       "    </tr>\n",
       "    <tr>\n",
       "      <th>3</th>\n",
       "      <td>3</td>\n",
       "      <td>[road, road, road, road, road, road, car depot...</td>\n",
       "    </tr>\n",
       "    <tr>\n",
       "      <th>4</th>\n",
       "      <td>4</td>\n",
       "      <td>[sta, broadwway, margravin, gardens, talgarth,...</td>\n",
       "    </tr>\n",
       "    <tr>\n",
       "      <th>5</th>\n",
       "      <td>5</td>\n",
       "      <td>[beadon hammersmith, great rednall ter, nurser...</td>\n",
       "    </tr>\n",
       "  </tbody>\n",
       "</table>\n",
       "</div>"
      ],
      "text/plain": [
       "   cluster                                             labels\n",
       "0        0  [, , , , , , , , , , , , , , , , , , , , , , ,...\n",
       "1        1  [pier, floating, hospital, basin chelsea, bath...\n",
       "2        2  [dryburgh, crookham dancer mimosa, laundry, ha...\n",
       "3        3  [road, road, road, road, road, road, car depot...\n",
       "4        4  [sta, broadwway, margravin, gardens, talgarth,...\n",
       "5        5  [beadon hammersmith, great rednall ter, nurser..."
      ]
     },
     "execution_count": 41,
     "metadata": {},
     "output_type": "execute_result"
    }
   ],
   "source": [
    "#get labels for each cluster in predictions_red\n",
    "cluster_labels = predictions_red.groupby('cluster')['labels'].apply(list).reset_index()\n",
    "cluster_labels"
   ]
  },
  {
   "cell_type": "code",
   "execution_count": 42,
   "metadata": {},
   "outputs": [
    {
     "data": {
      "text/html": [
       "<div>\n",
       "<style scoped>\n",
       "    .dataframe tbody tr th:only-of-type {\n",
       "        vertical-align: middle;\n",
       "    }\n",
       "\n",
       "    .dataframe tbody tr th {\n",
       "        vertical-align: top;\n",
       "    }\n",
       "\n",
       "    .dataframe thead th {\n",
       "        text-align: right;\n",
       "    }\n",
       "</style>\n",
       "<table border=\"1\" class=\"dataframe\">\n",
       "  <thead>\n",
       "    <tr style=\"text-align: right;\">\n",
       "      <th></th>\n",
       "      <th>cluster</th>\n",
       "      <th>labels</th>\n",
       "      <th>count</th>\n",
       "    </tr>\n",
       "  </thead>\n",
       "  <tbody>\n",
       "    <tr>\n",
       "      <th>0</th>\n",
       "      <td>0</td>\n",
       "      <td>[, , , , , , , , , , , , , , , , , , , , , , ,...</td>\n",
       "      <td>21724</td>\n",
       "    </tr>\n",
       "    <tr>\n",
       "      <th>1</th>\n",
       "      <td>1</td>\n",
       "      <td>[pier, floating, hospital, basin chelsea, bath...</td>\n",
       "      <td>512</td>\n",
       "    </tr>\n",
       "    <tr>\n",
       "      <th>2</th>\n",
       "      <td>2</td>\n",
       "      <td>[dryburgh, crookham dancer mimosa, laundry, ha...</td>\n",
       "      <td>757</td>\n",
       "    </tr>\n",
       "    <tr>\n",
       "      <th>3</th>\n",
       "      <td>3</td>\n",
       "      <td>[road, road, road, road, road, road, car depot...</td>\n",
       "      <td>947</td>\n",
       "    </tr>\n",
       "    <tr>\n",
       "      <th>4</th>\n",
       "      <td>4</td>\n",
       "      <td>[sta, broadwway, margravin, gardens, talgarth,...</td>\n",
       "      <td>3427</td>\n",
       "    </tr>\n",
       "    <tr>\n",
       "      <th>5</th>\n",
       "      <td>5</td>\n",
       "      <td>[beadon hammersmith, great rednall ter, nurser...</td>\n",
       "      <td>2028</td>\n",
       "    </tr>\n",
       "  </tbody>\n",
       "</table>\n",
       "</div>"
      ],
      "text/plain": [
       "   cluster                                             labels  count\n",
       "0        0  [, , , , , , , , , , , , , , , , , , , , , , ,...  21724\n",
       "1        1  [pier, floating, hospital, basin chelsea, bath...    512\n",
       "2        2  [dryburgh, crookham dancer mimosa, laundry, ha...    757\n",
       "3        3  [road, road, road, road, road, road, car depot...    947\n",
       "4        4  [sta, broadwway, margravin, gardens, talgarth,...   3427\n",
       "5        5  [beadon hammersmith, great rednall ter, nurser...   2028"
      ]
     },
     "execution_count": 42,
     "metadata": {},
     "output_type": "execute_result"
    }
   ],
   "source": [
    "#count labels per cluster\n",
    "cluster_labels['count'] = cluster_labels['labels'].apply(lambda x: len(x))\n",
    "cluster_labels"
   ]
  },
  {
   "cell_type": "code",
   "execution_count": 43,
   "metadata": {},
   "outputs": [
    {
     "data": {
      "text/html": [
       "<div>\n",
       "<style scoped>\n",
       "    .dataframe tbody tr th:only-of-type {\n",
       "        vertical-align: middle;\n",
       "    }\n",
       "\n",
       "    .dataframe tbody tr th {\n",
       "        vertical-align: top;\n",
       "    }\n",
       "\n",
       "    .dataframe thead th {\n",
       "        text-align: right;\n",
       "    }\n",
       "</style>\n",
       "<table border=\"1\" class=\"dataframe\">\n",
       "  <thead>\n",
       "    <tr style=\"text-align: right;\">\n",
       "      <th></th>\n",
       "      <th>cluster</th>\n",
       "      <th>labels</th>\n",
       "      <th>count</th>\n",
       "      <th>unique_count</th>\n",
       "    </tr>\n",
       "  </thead>\n",
       "  <tbody>\n",
       "    <tr>\n",
       "      <th>0</th>\n",
       "      <td>0</td>\n",
       "      <td>[, , , , , , , , , , , , , , , , , , , , , , ,...</td>\n",
       "      <td>21724</td>\n",
       "      <td>17</td>\n",
       "    </tr>\n",
       "    <tr>\n",
       "      <th>1</th>\n",
       "      <td>1</td>\n",
       "      <td>[pier, floating, hospital, basin chelsea, bath...</td>\n",
       "      <td>512</td>\n",
       "      <td>184</td>\n",
       "    </tr>\n",
       "    <tr>\n",
       "      <th>2</th>\n",
       "      <td>2</td>\n",
       "      <td>[dryburgh, crookham dancer mimosa, laundry, ha...</td>\n",
       "      <td>757</td>\n",
       "      <td>310</td>\n",
       "    </tr>\n",
       "    <tr>\n",
       "      <th>3</th>\n",
       "      <td>3</td>\n",
       "      <td>[road, road, road, road, road, road, car depot...</td>\n",
       "      <td>947</td>\n",
       "      <td>138</td>\n",
       "    </tr>\n",
       "    <tr>\n",
       "      <th>4</th>\n",
       "      <td>4</td>\n",
       "      <td>[sta, broadwway, margravin, gardens, talgarth,...</td>\n",
       "      <td>3427</td>\n",
       "      <td>1157</td>\n",
       "    </tr>\n",
       "    <tr>\n",
       "      <th>5</th>\n",
       "      <td>5</td>\n",
       "      <td>[beadon hammersmith, great rednall ter, nurser...</td>\n",
       "      <td>2028</td>\n",
       "      <td>1122</td>\n",
       "    </tr>\n",
       "  </tbody>\n",
       "</table>\n",
       "</div>"
      ],
      "text/plain": [
       "   cluster                                             labels  count  \\\n",
       "0        0  [, , , , , , , , , , , , , , , , , , , , , , ,...  21724   \n",
       "1        1  [pier, floating, hospital, basin chelsea, bath...    512   \n",
       "2        2  [dryburgh, crookham dancer mimosa, laundry, ha...    757   \n",
       "3        3  [road, road, road, road, road, road, car depot...    947   \n",
       "4        4  [sta, broadwway, margravin, gardens, talgarth,...   3427   \n",
       "5        5  [beadon hammersmith, great rednall ter, nurser...   2028   \n",
       "\n",
       "   unique_count  \n",
       "0            17  \n",
       "1           184  \n",
       "2           310  \n",
       "3           138  \n",
       "4          1157  \n",
       "5          1122  "
      ]
     },
     "execution_count": 43,
     "metadata": {},
     "output_type": "execute_result"
    }
   ],
   "source": [
    "# count unique labels per cluster\n",
    "cluster_labels['unique_count'] = cluster_labels['labels'].apply(lambda x: len(set(x)))\n",
    "cluster_labels"
   ]
  },
  {
   "cell_type": "code",
   "execution_count": 44,
   "metadata": {},
   "outputs": [
    {
     "data": {
      "text/html": [
       "<div>\n",
       "<style scoped>\n",
       "    .dataframe tbody tr th:only-of-type {\n",
       "        vertical-align: middle;\n",
       "    }\n",
       "\n",
       "    .dataframe tbody tr th {\n",
       "        vertical-align: top;\n",
       "    }\n",
       "\n",
       "    .dataframe thead th {\n",
       "        text-align: right;\n",
       "    }\n",
       "</style>\n",
       "<table border=\"1\" class=\"dataframe\">\n",
       "  <thead>\n",
       "    <tr style=\"text-align: right;\">\n",
       "      <th></th>\n",
       "      <th>cluster</th>\n",
       "      <th>labels</th>\n",
       "      <th>count</th>\n",
       "      <th>unique_count</th>\n",
       "      <th>count/unique_count</th>\n",
       "      <th>unique_count/count</th>\n",
       "    </tr>\n",
       "  </thead>\n",
       "  <tbody>\n",
       "    <tr>\n",
       "      <th>0</th>\n",
       "      <td>0</td>\n",
       "      <td>[, , , , , , , , , , , , , , , , , , , , , , ,...</td>\n",
       "      <td>21724</td>\n",
       "      <td>17</td>\n",
       "      <td>1277.882353</td>\n",
       "      <td>0.000783</td>\n",
       "    </tr>\n",
       "    <tr>\n",
       "      <th>1</th>\n",
       "      <td>1</td>\n",
       "      <td>[pier, floating, hospital, basin chelsea, bath...</td>\n",
       "      <td>512</td>\n",
       "      <td>184</td>\n",
       "      <td>2.782609</td>\n",
       "      <td>0.359375</td>\n",
       "    </tr>\n",
       "    <tr>\n",
       "      <th>2</th>\n",
       "      <td>2</td>\n",
       "      <td>[dryburgh, crookham dancer mimosa, laundry, ha...</td>\n",
       "      <td>757</td>\n",
       "      <td>310</td>\n",
       "      <td>2.441935</td>\n",
       "      <td>0.409511</td>\n",
       "    </tr>\n",
       "    <tr>\n",
       "      <th>3</th>\n",
       "      <td>3</td>\n",
       "      <td>[road, road, road, road, road, road, car depot...</td>\n",
       "      <td>947</td>\n",
       "      <td>138</td>\n",
       "      <td>6.862319</td>\n",
       "      <td>0.145723</td>\n",
       "    </tr>\n",
       "    <tr>\n",
       "      <th>4</th>\n",
       "      <td>4</td>\n",
       "      <td>[sta, broadwway, margravin, gardens, talgarth,...</td>\n",
       "      <td>3427</td>\n",
       "      <td>1157</td>\n",
       "      <td>2.961971</td>\n",
       "      <td>0.337613</td>\n",
       "    </tr>\n",
       "    <tr>\n",
       "      <th>5</th>\n",
       "      <td>5</td>\n",
       "      <td>[beadon hammersmith, great rednall ter, nurser...</td>\n",
       "      <td>2028</td>\n",
       "      <td>1122</td>\n",
       "      <td>1.807487</td>\n",
       "      <td>0.553254</td>\n",
       "    </tr>\n",
       "  </tbody>\n",
       "</table>\n",
       "</div>"
      ],
      "text/plain": [
       "   cluster                                             labels  count  \\\n",
       "0        0  [, , , , , , , , , , , , , , , , , , , , , , ,...  21724   \n",
       "1        1  [pier, floating, hospital, basin chelsea, bath...    512   \n",
       "2        2  [dryburgh, crookham dancer mimosa, laundry, ha...    757   \n",
       "3        3  [road, road, road, road, road, road, car depot...    947   \n",
       "4        4  [sta, broadwway, margravin, gardens, talgarth,...   3427   \n",
       "5        5  [beadon hammersmith, great rednall ter, nurser...   2028   \n",
       "\n",
       "   unique_count  count/unique_count  unique_count/count  \n",
       "0            17         1277.882353            0.000783  \n",
       "1           184            2.782609            0.359375  \n",
       "2           310            2.441935            0.409511  \n",
       "3           138            6.862319            0.145723  \n",
       "4          1157            2.961971            0.337613  \n",
       "5          1122            1.807487            0.553254  "
      ]
     },
     "execution_count": 44,
     "metadata": {},
     "output_type": "execute_result"
    }
   ],
   "source": [
    "cluster_labels[\"count/unique_count\"] = cluster_labels[\"count\"]/cluster_labels[\"unique_count\"]\n",
    "cluster_labels[\"unique_count/count\"] = cluster_labels[\"unique_count\"]/cluster_labels[\"count\"]\n",
    "cluster_labels"
   ]
  },
  {
   "cell_type": "code",
   "execution_count": 45,
   "metadata": {},
   "outputs": [
    {
     "data": {
      "text/html": [
       "<div>\n",
       "<style scoped>\n",
       "    .dataframe tbody tr th:only-of-type {\n",
       "        vertical-align: middle;\n",
       "    }\n",
       "\n",
       "    .dataframe tbody tr th {\n",
       "        vertical-align: top;\n",
       "    }\n",
       "\n",
       "    .dataframe thead th {\n",
       "        text-align: right;\n",
       "    }\n",
       "</style>\n",
       "<table border=\"1\" class=\"dataframe\">\n",
       "  <thead>\n",
       "    <tr style=\"text-align: right;\">\n",
       "      <th></th>\n",
       "      <th>cluster</th>\n",
       "      <th>labels</th>\n",
       "      <th>count</th>\n",
       "      <th>unique_count</th>\n",
       "      <th>count/unique_count</th>\n",
       "      <th>unique_count/count</th>\n",
       "      <th>labels_2</th>\n",
       "      <th>words</th>\n",
       "    </tr>\n",
       "  </thead>\n",
       "  <tbody>\n",
       "    <tr>\n",
       "      <th>0</th>\n",
       "      <td>0</td>\n",
       "      <td>[, , , , , , , , , , , , , , , , , , , , , , ,...</td>\n",
       "      <td>21724</td>\n",
       "      <td>17</td>\n",
       "      <td>1277.882353</td>\n",
       "      <td>0.000783</td>\n",
       "      <td>[NONE, NONE, NONE, NONE, NONE, NONE, NONE, NON...</td>\n",
       "      <td>[NONE, NONE, NONE, NONE, NONE, NONE, NONE, NON...</td>\n",
       "    </tr>\n",
       "    <tr>\n",
       "      <th>1</th>\n",
       "      <td>1</td>\n",
       "      <td>[pier, floating, hospital, basin chelsea, bath...</td>\n",
       "      <td>512</td>\n",
       "      <td>184</td>\n",
       "      <td>2.782609</td>\n",
       "      <td>0.359375</td>\n",
       "      <td>[pier, floating, hospital, basin chelsea, bath...</td>\n",
       "      <td>[pier, floating, hospital, basin, chelsea, bat...</td>\n",
       "    </tr>\n",
       "    <tr>\n",
       "      <th>2</th>\n",
       "      <td>2</td>\n",
       "      <td>[dryburgh, crookham dancer mimosa, laundry, ha...</td>\n",
       "      <td>757</td>\n",
       "      <td>310</td>\n",
       "      <td>2.441935</td>\n",
       "      <td>0.409511</td>\n",
       "      <td>[dryburgh, crookham dancer mimosa, laundry, ha...</td>\n",
       "      <td>[dryburgh, crookham, dancer, mimosa, laundry, ...</td>\n",
       "    </tr>\n",
       "    <tr>\n",
       "      <th>3</th>\n",
       "      <td>3</td>\n",
       "      <td>[road, road, road, road, road, road, car depot...</td>\n",
       "      <td>947</td>\n",
       "      <td>138</td>\n",
       "      <td>6.862319</td>\n",
       "      <td>0.145723</td>\n",
       "      <td>[road, road, road, road, road, road, car depot...</td>\n",
       "      <td>[road, road, road, road, road, road, car, depo...</td>\n",
       "    </tr>\n",
       "    <tr>\n",
       "      <th>4</th>\n",
       "      <td>4</td>\n",
       "      <td>[sta, broadwway, margravin, gardens, talgarth,...</td>\n",
       "      <td>3427</td>\n",
       "      <td>1157</td>\n",
       "      <td>2.961971</td>\n",
       "      <td>0.337613</td>\n",
       "      <td>[sta, broadwway, margravin, gardens, talgarth,...</td>\n",
       "      <td>[sta, broadwway, margravin, gardens, talgarth,...</td>\n",
       "    </tr>\n",
       "    <tr>\n",
       "      <th>5</th>\n",
       "      <td>5</td>\n",
       "      <td>[beadon hammersmith, great rednall ter, nurser...</td>\n",
       "      <td>2028</td>\n",
       "      <td>1122</td>\n",
       "      <td>1.807487</td>\n",
       "      <td>0.553254</td>\n",
       "      <td>[beadon hammersmith, great rednall ter, nurser...</td>\n",
       "      <td>[beadon, hammersmith, great, rednall, ter, nur...</td>\n",
       "    </tr>\n",
       "  </tbody>\n",
       "</table>\n",
       "</div>"
      ],
      "text/plain": [
       "   cluster                                             labels  count  \\\n",
       "0        0  [, , , , , , , , , , , , , , , , , , , , , , ,...  21724   \n",
       "1        1  [pier, floating, hospital, basin chelsea, bath...    512   \n",
       "2        2  [dryburgh, crookham dancer mimosa, laundry, ha...    757   \n",
       "3        3  [road, road, road, road, road, road, car depot...    947   \n",
       "4        4  [sta, broadwway, margravin, gardens, talgarth,...   3427   \n",
       "5        5  [beadon hammersmith, great rednall ter, nurser...   2028   \n",
       "\n",
       "   unique_count  count/unique_count  unique_count/count  \\\n",
       "0            17         1277.882353            0.000783   \n",
       "1           184            2.782609            0.359375   \n",
       "2           310            2.441935            0.409511   \n",
       "3           138            6.862319            0.145723   \n",
       "4          1157            2.961971            0.337613   \n",
       "5          1122            1.807487            0.553254   \n",
       "\n",
       "                                            labels_2  \\\n",
       "0  [NONE, NONE, NONE, NONE, NONE, NONE, NONE, NON...   \n",
       "1  [pier, floating, hospital, basin chelsea, bath...   \n",
       "2  [dryburgh, crookham dancer mimosa, laundry, ha...   \n",
       "3  [road, road, road, road, road, road, car depot...   \n",
       "4  [sta, broadwway, margravin, gardens, talgarth,...   \n",
       "5  [beadon hammersmith, great rednall ter, nurser...   \n",
       "\n",
       "                                               words  \n",
       "0  [NONE, NONE, NONE, NONE, NONE, NONE, NONE, NON...  \n",
       "1  [pier, floating, hospital, basin, chelsea, bat...  \n",
       "2  [dryburgh, crookham, dancer, mimosa, laundry, ...  \n",
       "3  [road, road, road, road, road, road, car, depo...  \n",
       "4  [sta, broadwway, margravin, gardens, talgarth,...  \n",
       "5  [beadon, hammersmith, great, rednall, ter, nur...  "
      ]
     },
     "execution_count": 45,
     "metadata": {},
     "output_type": "execute_result"
    }
   ],
   "source": [
    "cluster_labels[\"labels_2\"] = cluster_labels[\"labels\"].apply(lambda x: [word if len(word) else \"NONE\" for word in x])\n",
    "cluster_labels[\"words\"] = cluster_labels[\"labels_2\"].apply(lambda x: \" \".join(x).split())\n",
    "cluster_labels"
   ]
  },
  {
   "cell_type": "code",
   "execution_count": 46,
   "metadata": {},
   "outputs": [
    {
     "name": "stderr",
     "output_type": "stream",
     "text": [
      "/var/folders/fn/j7v8jkl1717c1b6sy_sr0szc0000gr/T/ipykernel_80047/2059972984.py:11: UserWarning: FigureCanvasAgg is non-interactive, and thus cannot be shown\n",
      "  fig.show()\n"
     ]
    },
    {
     "data": {
      "image/png": "[encoded data removed]",
      "text/plain": [
       "<Figure size 800x4800 with 6 Axes>"
      ]
     },
     "metadata": {},
     "output_type": "display_data"
    }
   ],
   "source": [
    "import matplotlib.pyplot as plt\n",
    "\n",
    "fig, ax = plt.subplots(nrows=len(cluster_labels.index), ncols=1, figsize=(8, 8*len(cluster_labels.index)))\n",
    "\n",
    "cluster_dataframes = {}\n",
    "\n",
    "for cluster in cluster_labels.index:\n",
    "\tcluster_dataframes[cluster] = pd.DataFrame(Counter(cluster_labels.iloc[cluster][\"words\"]).most_common(10), columns=[\"word\", \"count\"])\n",
    "\tcluster_dataframes[cluster].plot(kind='bar', x='word', y='count', title=f'Cluster {cluster}', legend=True, ax=ax[cluster])\n",
    "\n",
    "fig.show()"
   ]
  },
  {
   "cell_type": "code",
   "execution_count": 47,
   "metadata": {},
   "outputs": [
    {
     "name": "stdout",
     "output_type": "stream",
     "text": [
      "cluster\n",
      "0    21724\n",
      "4     3427\n",
      "5     2028\n",
      "3      947\n",
      "2      757\n",
      "1      512\n",
      "Name: count, dtype: int64\n"
     ]
    }
   ],
   "source": [
    "patches_per_cluster = predictions_red['cluster'].value_counts()\n",
    "print(patches_per_cluster)"
   ]
  },
  {
   "cell_type": "markdown",
   "metadata": {},
   "source": [
    "## 10b Cluster with patch + context text"
   ]
  },
  {
   "cell_type": "code",
   "execution_count": 48,
   "metadata": {},
   "outputs": [
    {
     "name": "stderr",
     "output_type": "stream",
     "text": [
      "100%|██████████| 29395/29395 [03:29<00:00, 140.41it/s]\n"
     ]
    }
   ],
   "source": [
    "# 10.1 Create 'sentences' of railspace labels in patches\n",
    "\n",
    "# important this cell takes a while to run\n",
    "# you can simply ignore and load the json file I've shared with you\n",
    "tqdm.pandas()\n",
    "adjacent_texts_context = [] \n",
    "\n",
    "for i,row in tqdm(predictions_red.iterrows(), total=predictions_red.shape[0]):\n",
    "\t# get context polygon\n",
    "\tminx, miny, maxx, maxy = row.geometry.bounds\n",
    "\tcontext_polygon = Polygon.from_bounds(minx-100, miny-100, maxx+100, maxy+100)\n",
    "\t# get text within a certain distance from the patch\n",
    "\t# get the set of text labels\n",
    "\tlabels_patch_context = list(set(spotted_text_filtered[spotted_text_filtered.intersects(context_polygon)].text_cleaned.tolist()))\n",
    "\t# sort\n",
    "\tlabels_patch_context = sorted(labels_patch_context)\n",
    "\t# add the labels as a list sorted alphabetically\n",
    "\tadjacent_texts_context.append(labels_patch_context)\n",
    "\n",
    "with open('adjacent_texts_context.json', 'w') as out_txt:\n",
    "\tjson.dump(adjacent_texts_context, out_txt)"
   ]
  },
  {
   "cell_type": "code",
   "execution_count": 49,
   "metadata": {},
   "outputs": [],
   "source": [
    "# 10.2 filter the list to remove short and non-alphabetic labels\n",
    "\n",
    "# this is not ideal as it remove abbreviations and other useful information\n",
    "# especially in the more denser urban areas, however we use it as a simple experiment\n",
    "labels_sentence_context = [' '.join([w for w in a if (len(w) > 2) and w.isalpha()]) for a in adjacent_texts_context]"
   ]
  },
  {
   "cell_type": "code",
   "execution_count": 50,
   "metadata": {},
   "outputs": [
    {
     "data": {
      "text/plain": [
       "21.841367579520327"
      ]
     },
     "execution_count": 50,
     "metadata": {},
     "output_type": "execute_result"
    }
   ],
   "source": [
    "# get the average number of words on a patch\n",
    "\n",
    "np.mean([len(i) for i in labels_sentence_context])"
   ]
  },
  {
   "cell_type": "code",
   "execution_count": 51,
   "metadata": {},
   "outputs": [],
   "source": [
    "# 10.3 load the embedding model\n",
    "\n",
    "model = SentenceTransformer('distilbert-base-nli-mean-tokens') # Livingwithmachines/bert_1760_1900 | distilbert-base-nli-mean-tokens\n",
    "# encode the railspace \"sentences\", i.e. the list of alphabetically sorted labels\n",
    "\n",
    "# Note to self: avoid 'sentence'. say set of (alphabetically sorted) spotted text on patch. \n",
    "# now, for each set of patchText, we examine how similar they are to each other and organise them into a (pre-determined) number of 'clusters' \n",
    "# e.g. a cluster is a group of sets of patchText that are most like each other\n",
    "\n",
    "railspace_sentence_embeddings_context = model.encode(labels_sentence_context)"
   ]
  },
  {
   "cell_type": "code",
   "execution_count": 52,
   "metadata": {},
   "outputs": [
    {
     "data": {
      "text/plain": [
       "((29395, 768), (29395, 21))"
      ]
     },
     "execution_count": 52,
     "metadata": {},
     "output_type": "execute_result"
    }
   ],
   "source": [
    "railspace_sentence_embeddings_context.shape, predictions_red.shape"
   ]
  },
  {
   "cell_type": "code",
   "execution_count": 53,
   "metadata": {},
   "outputs": [
    {
     "name": "stderr",
     "output_type": "stream",
     "text": [
      "100%|██████████| 3/3 [00:59<00:00, 19.71s/it]\n"
     ]
    }
   ],
   "source": [
    "\n",
    "# 10.4 fit the kmeans model to the railspace embeddings\n",
    "\n",
    "# we choose a method of clustering as one approach among many to organise the data, to see patterns in the data\n",
    "# this is connecting what we know about text and what we know about visual features on maps for the first time\n",
    "# we can use the silhouette score to evaluate the quality of the clustering - best is 1, worst is -1\n",
    "\n",
    "from sklearn.metrics import silhouette_score\n",
    "cluster_data_context = {}\n",
    "\n",
    "for n in tqdm(range(4,7)):\n",
    "\tcluster_data_context[n] = {}\n",
    "\t# fit the kmeans model\n",
    "\tkmeans = KMeans(n_clusters=n, random_state=0, n_init=\"auto\", max_iter=1000).fit(railspace_sentence_embeddings_context)\n",
    "\tcluster_data_context[n][\"kmeans\"] = kmeans\n",
    "\t# get the silhouette score\n",
    "\tsilhouette = silhouette_score(railspace_sentence_embeddings_context, kmeans.labels_, random_state=0)\n",
    "\tcluster_data_context[n][\"silhouette\"] = silhouette\n"
   ]
  },
  {
   "cell_type": "code",
   "execution_count": 54,
   "metadata": {},
   "outputs": [
    {
     "data": {
      "text/html": [
       "<div>\n",
       "<style scoped>\n",
       "    .dataframe tbody tr th:only-of-type {\n",
       "        vertical-align: middle;\n",
       "    }\n",
       "\n",
       "    .dataframe tbody tr th {\n",
       "        vertical-align: top;\n",
       "    }\n",
       "\n",
       "    .dataframe thead th {\n",
       "        text-align: right;\n",
       "    }\n",
       "</style>\n",
       "<table border=\"1\" class=\"dataframe\">\n",
       "  <thead>\n",
       "    <tr style=\"text-align: right;\">\n",
       "      <th></th>\n",
       "      <th>kmeans</th>\n",
       "      <th>silhouette</th>\n",
       "    </tr>\n",
       "  </thead>\n",
       "  <tbody>\n",
       "    <tr>\n",
       "      <th>4</th>\n",
       "      <td>KMeans(max_iter=1000, n_clusters=4, random_sta...</td>\n",
       "      <td>0.175253</td>\n",
       "    </tr>\n",
       "    <tr>\n",
       "      <th>6</th>\n",
       "      <td>KMeans(max_iter=1000, n_clusters=6, random_sta...</td>\n",
       "      <td>0.174009</td>\n",
       "    </tr>\n",
       "    <tr>\n",
       "      <th>5</th>\n",
       "      <td>KMeans(max_iter=1000, n_clusters=5, random_sta...</td>\n",
       "      <td>0.170519</td>\n",
       "    </tr>\n",
       "  </tbody>\n",
       "</table>\n",
       "</div>"
      ],
      "text/plain": [
       "                                              kmeans silhouette\n",
       "4  KMeans(max_iter=1000, n_clusters=4, random_sta...   0.175253\n",
       "6  KMeans(max_iter=1000, n_clusters=6, random_sta...   0.174009\n",
       "5  KMeans(max_iter=1000, n_clusters=5, random_sta...   0.170519"
      ]
     },
     "execution_count": 54,
     "metadata": {},
     "output_type": "execute_result"
    }
   ],
   "source": [
    "sorted_kmeans_context = pd.DataFrame(cluster_data_context).T.sort_values(\"silhouette\", ascending=False)\n",
    "sorted_kmeans_context.head()"
   ]
  },
  {
   "cell_type": "code",
   "execution_count": 55,
   "metadata": {},
   "outputs": [],
   "source": [
    "best_kmeans_context = sorted_kmeans_context.iloc[0][\"kmeans\"]"
   ]
  },
  {
   "cell_type": "code",
   "execution_count": 56,
   "metadata": {},
   "outputs": [],
   "source": [
    "# add labels to the predictions_red dataframe\n",
    "\n",
    "predictions_red['cluster_context'] = best_kmeans_context.labels_\n",
    "predictions_red['labels_context'] = labels_sentence_context"
   ]
  },
  {
   "cell_type": "code",
   "execution_count": null,
   "metadata": {},
   "outputs": [],
   "source": [
    "# 10.5 plot the different clusters on the map\n",
    "\n",
    "predictions_red.explore(column='cluster_context', tiles=tiles, categorical=True, cmap=\"viridis\", popup=['cluster_context', 'labels_context'])"
   ]
  },
  {
   "cell_type": "code",
   "execution_count": 58,
   "metadata": {},
   "outputs": [],
   "source": [
    "x, y = [i[0] for i in predictions_red.to_crs(\"EPSG:4326\").unary_union.centroid.xy]"
   ]
  },
  {
   "cell_type": "code",
   "execution_count": 59,
   "metadata": {},
   "outputs": [],
   "source": [
    "import folium\n",
    "import io\n",
    "from PIL import Image"
   ]
  },
  {
   "cell_type": "code",
   "execution_count": 60,
   "metadata": {},
   "outputs": [],
   "source": [
    "maps_context = []\n",
    "for cluster in predictions_red[\"cluster_context\"].unique():\n",
    "\tm = folium.Map(location=[y, x], zoom_start=9, tiles=tiles)\n",
    "\tpredictions_red[predictions_red[\"cluster_context\"] == cluster].explore(color=\"blue\", marker_kwargs={\"radius\":1}, style_kwargs={\"weight\":1, \"fillColor\": \"blue\", \"fillOpacity\":1}, m=m)\n",
    "\n",
    "\tm.save(f\"text_cluster_{cluster}_context.html\")\n",
    "\n",
    "\tmaps_context.append(m)"
   ]
  },
  {
   "cell_type": "code",
   "execution_count": 61,
   "metadata": {},
   "outputs": [],
   "source": [
    "for cluster in predictions_red[\"cluster_context\"].unique():\n",
    "\t# f = f\"20sample_cluster_{cluster}_mean_pixel_RGB.csv\"\n",
    "\t# cluster_df = predictions_red[predictions_red[\"cluster\"] == cluster].sample(20, weights=\"mean_pixel_RGB\", random_state=42)\n",
    "\t# cluster_df[\"image_id\"].to_csv(f)\n",
    "\t\n",
    "\tcluster_df = predictions_red[predictions_red[\"cluster_context\"] == cluster].copy(deep=True)\n",
    "\tcluster_df[\"polygon\"] = cluster_df[\"polygon\"].apply(to_wkt)\n",
    "\tcluster_df[\"centroid\"] = cluster_df[\"centroid\"].apply(to_wkt)\n",
    "\tcluster_df.to_file(f\"cluster_{cluster}_context.geojson\", driver=\"GeoJSON\")\n",
    "\n",
    "\twith open(f\"20sample_cluster_{cluster}_context_random.txt\", \"w\") as f:\n",
    "\t\tf.writelines(\"\\n\".join(cluster_df[\"image_id\"].sample(20, random_state=42).to_list()))"
   ]
  },
  {
   "cell_type": "markdown",
   "metadata": {},
   "source": [
    "10.6 Understanding Clusters\n",
    "\n",
    "The cells below contain different ways of looking at the clusters"
   ]
  },
  {
   "cell_type": "code",
   "execution_count": 62,
   "metadata": {},
   "outputs": [
    {
     "data": {
      "text/html": [
       "<div>\n",
       "<style scoped>\n",
       "    .dataframe tbody tr th:only-of-type {\n",
       "        vertical-align: middle;\n",
       "    }\n",
       "\n",
       "    .dataframe tbody tr th {\n",
       "        vertical-align: top;\n",
       "    }\n",
       "\n",
       "    .dataframe thead th {\n",
       "        text-align: right;\n",
       "    }\n",
       "</style>\n",
       "<table border=\"1\" class=\"dataframe\">\n",
       "  <thead>\n",
       "    <tr style=\"text-align: right;\">\n",
       "      <th></th>\n",
       "      <th>cluster_context</th>\n",
       "      <th>labels_context</th>\n",
       "    </tr>\n",
       "  </thead>\n",
       "  <tbody>\n",
       "    <tr>\n",
       "      <th>0</th>\n",
       "      <td>0</td>\n",
       "      <td>[beadon hammersmith king sta street, beadon ha...</td>\n",
       "    </tr>\n",
       "    <tr>\n",
       "      <th>1</th>\n",
       "      <td>1</td>\n",
       "      <td>[floating fulham hurlingham pier wharf wharves...</td>\n",
       "    </tr>\n",
       "    <tr>\n",
       "      <th>2</th>\n",
       "      <td>2</td>\n",
       "      <td>[king road, dryburgh egliston road, dryburgh r...</td>\n",
       "    </tr>\n",
       "    <tr>\n",
       "      <th>3</th>\n",
       "      <td>3</td>\n",
       "      <td>[, , , , , works, ead, , , , , , line, , , , ,...</td>\n",
       "    </tr>\n",
       "  </tbody>\n",
       "</table>\n",
       "</div>"
      ],
      "text/plain": [
       "   cluster_context                                     labels_context\n",
       "0                0  [beadon hammersmith king sta street, beadon ha...\n",
       "1                1  [floating fulham hurlingham pier wharf wharves...\n",
       "2                2  [king road, dryburgh egliston road, dryburgh r...\n",
       "3                3  [, , , , , works, ead, , , , , , line, , , , ,..."
      ]
     },
     "execution_count": 62,
     "metadata": {},
     "output_type": "execute_result"
    }
   ],
   "source": [
    "#get labels for each cluster in predictions_red\n",
    "cluster_labels_context = predictions_red.groupby('cluster_context')['labels_context'].apply(list).reset_index()\n",
    "cluster_labels_context"
   ]
  },
  {
   "cell_type": "code",
   "execution_count": 63,
   "metadata": {},
   "outputs": [
    {
     "data": {
      "text/html": [
       "<div>\n",
       "<style scoped>\n",
       "    .dataframe tbody tr th:only-of-type {\n",
       "        vertical-align: middle;\n",
       "    }\n",
       "\n",
       "    .dataframe tbody tr th {\n",
       "        vertical-align: top;\n",
       "    }\n",
       "\n",
       "    .dataframe thead th {\n",
       "        text-align: right;\n",
       "    }\n",
       "</style>\n",
       "<table border=\"1\" class=\"dataframe\">\n",
       "  <thead>\n",
       "    <tr style=\"text-align: right;\">\n",
       "      <th></th>\n",
       "      <th>cluster_context</th>\n",
       "      <th>labels_context</th>\n",
       "      <th>count</th>\n",
       "    </tr>\n",
       "  </thead>\n",
       "  <tbody>\n",
       "    <tr>\n",
       "      <th>0</th>\n",
       "      <td>0</td>\n",
       "      <td>[beadon hammersmith king sta street, beadon ha...</td>\n",
       "      <td>10986</td>\n",
       "    </tr>\n",
       "    <tr>\n",
       "      <th>1</th>\n",
       "      <td>1</td>\n",
       "      <td>[floating fulham hurlingham pier wharf wharves...</td>\n",
       "      <td>4842</td>\n",
       "    </tr>\n",
       "    <tr>\n",
       "      <th>2</th>\n",
       "      <td>2</td>\n",
       "      <td>[king road, dryburgh egliston road, dryburgh r...</td>\n",
       "      <td>8120</td>\n",
       "    </tr>\n",
       "    <tr>\n",
       "      <th>3</th>\n",
       "      <td>3</td>\n",
       "      <td>[, , , , , works, ead, , , , , , line, , , , ,...</td>\n",
       "      <td>5447</td>\n",
       "    </tr>\n",
       "  </tbody>\n",
       "</table>\n",
       "</div>"
      ],
      "text/plain": [
       "   cluster_context                                     labels_context  count\n",
       "0                0  [beadon hammersmith king sta street, beadon ha...  10986\n",
       "1                1  [floating fulham hurlingham pier wharf wharves...   4842\n",
       "2                2  [king road, dryburgh egliston road, dryburgh r...   8120\n",
       "3                3  [, , , , , works, ead, , , , , , line, , , , ,...   5447"
      ]
     },
     "execution_count": 63,
     "metadata": {},
     "output_type": "execute_result"
    }
   ],
   "source": [
    "#count labels per cluster\n",
    "cluster_labels_context['count'] = cluster_labels_context['labels_context'].apply(lambda x: len(x))\n",
    "cluster_labels_context"
   ]
  },
  {
   "cell_type": "code",
   "execution_count": 64,
   "metadata": {},
   "outputs": [
    {
     "data": {
      "text/html": [
       "<div>\n",
       "<style scoped>\n",
       "    .dataframe tbody tr th:only-of-type {\n",
       "        vertical-align: middle;\n",
       "    }\n",
       "\n",
       "    .dataframe tbody tr th {\n",
       "        vertical-align: top;\n",
       "    }\n",
       "\n",
       "    .dataframe thead th {\n",
       "        text-align: right;\n",
       "    }\n",
       "</style>\n",
       "<table border=\"1\" class=\"dataframe\">\n",
       "  <thead>\n",
       "    <tr style=\"text-align: right;\">\n",
       "      <th></th>\n",
       "      <th>cluster_context</th>\n",
       "      <th>labels_context</th>\n",
       "      <th>count</th>\n",
       "      <th>unique_count</th>\n",
       "    </tr>\n",
       "  </thead>\n",
       "  <tbody>\n",
       "    <tr>\n",
       "      <th>0</th>\n",
       "      <td>0</td>\n",
       "      <td>[beadon hammersmith king sta street, beadon ha...</td>\n",
       "      <td>10986</td>\n",
       "      <td>8420</td>\n",
       "    </tr>\n",
       "    <tr>\n",
       "      <th>1</th>\n",
       "      <td>1</td>\n",
       "      <td>[floating fulham hurlingham pier wharf wharves...</td>\n",
       "      <td>4842</td>\n",
       "      <td>3217</td>\n",
       "    </tr>\n",
       "    <tr>\n",
       "      <th>2</th>\n",
       "      <td>2</td>\n",
       "      <td>[king road, dryburgh egliston road, dryburgh r...</td>\n",
       "      <td>8120</td>\n",
       "      <td>3419</td>\n",
       "    </tr>\n",
       "    <tr>\n",
       "      <th>3</th>\n",
       "      <td>3</td>\n",
       "      <td>[, , , , , works, ead, , , , , , line, , , , ,...</td>\n",
       "      <td>5447</td>\n",
       "      <td>74</td>\n",
       "    </tr>\n",
       "  </tbody>\n",
       "</table>\n",
       "</div>"
      ],
      "text/plain": [
       "   cluster_context                                     labels_context  count  \\\n",
       "0                0  [beadon hammersmith king sta street, beadon ha...  10986   \n",
       "1                1  [floating fulham hurlingham pier wharf wharves...   4842   \n",
       "2                2  [king road, dryburgh egliston road, dryburgh r...   8120   \n",
       "3                3  [, , , , , works, ead, , , , , , line, , , , ,...   5447   \n",
       "\n",
       "   unique_count  \n",
       "0          8420  \n",
       "1          3217  \n",
       "2          3419  \n",
       "3            74  "
      ]
     },
     "execution_count": 64,
     "metadata": {},
     "output_type": "execute_result"
    }
   ],
   "source": [
    "# count unique labels per cluster\n",
    "cluster_labels_context['unique_count'] = cluster_labels_context['labels_context'].apply(lambda x: len(set(x)))\n",
    "cluster_labels_context"
   ]
  },
  {
   "cell_type": "code",
   "execution_count": 65,
   "metadata": {},
   "outputs": [
    {
     "data": {
      "text/html": [
       "<div>\n",
       "<style scoped>\n",
       "    .dataframe tbody tr th:only-of-type {\n",
       "        vertical-align: middle;\n",
       "    }\n",
       "\n",
       "    .dataframe tbody tr th {\n",
       "        vertical-align: top;\n",
       "    }\n",
       "\n",
       "    .dataframe thead th {\n",
       "        text-align: right;\n",
       "    }\n",
       "</style>\n",
       "<table border=\"1\" class=\"dataframe\">\n",
       "  <thead>\n",
       "    <tr style=\"text-align: right;\">\n",
       "      <th></th>\n",
       "      <th>cluster_context</th>\n",
       "      <th>labels_context</th>\n",
       "      <th>count</th>\n",
       "      <th>unique_count</th>\n",
       "      <th>count/unique_count</th>\n",
       "      <th>unique_count/count</th>\n",
       "    </tr>\n",
       "  </thead>\n",
       "  <tbody>\n",
       "    <tr>\n",
       "      <th>0</th>\n",
       "      <td>0</td>\n",
       "      <td>[beadon hammersmith king sta street, beadon ha...</td>\n",
       "      <td>10986</td>\n",
       "      <td>8420</td>\n",
       "      <td>1.304751</td>\n",
       "      <td>0.766430</td>\n",
       "    </tr>\n",
       "    <tr>\n",
       "      <th>1</th>\n",
       "      <td>1</td>\n",
       "      <td>[floating fulham hurlingham pier wharf wharves...</td>\n",
       "      <td>4842</td>\n",
       "      <td>3217</td>\n",
       "      <td>1.505129</td>\n",
       "      <td>0.664395</td>\n",
       "    </tr>\n",
       "    <tr>\n",
       "      <th>2</th>\n",
       "      <td>2</td>\n",
       "      <td>[king road, dryburgh egliston road, dryburgh r...</td>\n",
       "      <td>8120</td>\n",
       "      <td>3419</td>\n",
       "      <td>2.374963</td>\n",
       "      <td>0.421059</td>\n",
       "    </tr>\n",
       "    <tr>\n",
       "      <th>3</th>\n",
       "      <td>3</td>\n",
       "      <td>[, , , , , works, ead, , , , , , line, , , , ,...</td>\n",
       "      <td>5447</td>\n",
       "      <td>74</td>\n",
       "      <td>73.608108</td>\n",
       "      <td>0.013585</td>\n",
       "    </tr>\n",
       "  </tbody>\n",
       "</table>\n",
       "</div>"
      ],
      "text/plain": [
       "   cluster_context                                     labels_context  count  \\\n",
       "0                0  [beadon hammersmith king sta street, beadon ha...  10986   \n",
       "1                1  [floating fulham hurlingham pier wharf wharves...   4842   \n",
       "2                2  [king road, dryburgh egliston road, dryburgh r...   8120   \n",
       "3                3  [, , , , , works, ead, , , , , , line, , , , ,...   5447   \n",
       "\n",
       "   unique_count  count/unique_count  unique_count/count  \n",
       "0          8420            1.304751            0.766430  \n",
       "1          3217            1.505129            0.664395  \n",
       "2          3419            2.374963            0.421059  \n",
       "3            74           73.608108            0.013585  "
      ]
     },
     "execution_count": 65,
     "metadata": {},
     "output_type": "execute_result"
    }
   ],
   "source": [
    "cluster_labels_context[\"count/unique_count\"] = cluster_labels_context[\"count\"]/cluster_labels_context[\"unique_count\"]\n",
    "cluster_labels_context[\"unique_count/count\"] = cluster_labels_context[\"unique_count\"]/cluster_labels_context[\"count\"]\n",
    "cluster_labels_context"
   ]
  },
  {
   "cell_type": "code",
   "execution_count": 66,
   "metadata": {},
   "outputs": [
    {
     "data": {
      "text/html": [
       "<div>\n",
       "<style scoped>\n",
       "    .dataframe tbody tr th:only-of-type {\n",
       "        vertical-align: middle;\n",
       "    }\n",
       "\n",
       "    .dataframe tbody tr th {\n",
       "        vertical-align: top;\n",
       "    }\n",
       "\n",
       "    .dataframe thead th {\n",
       "        text-align: right;\n",
       "    }\n",
       "</style>\n",
       "<table border=\"1\" class=\"dataframe\">\n",
       "  <thead>\n",
       "    <tr style=\"text-align: right;\">\n",
       "      <th></th>\n",
       "      <th>cluster_context</th>\n",
       "      <th>labels_context</th>\n",
       "      <th>count</th>\n",
       "      <th>unique_count</th>\n",
       "      <th>count/unique_count</th>\n",
       "      <th>unique_count/count</th>\n",
       "      <th>labels_2</th>\n",
       "      <th>words</th>\n",
       "    </tr>\n",
       "  </thead>\n",
       "  <tbody>\n",
       "    <tr>\n",
       "      <th>0</th>\n",
       "      <td>0</td>\n",
       "      <td>[beadon hammersmith king sta street, beadon ha...</td>\n",
       "      <td>10986</td>\n",
       "      <td>8420</td>\n",
       "      <td>1.304751</td>\n",
       "      <td>0.766430</td>\n",
       "      <td>[beadon hammersmith king sta street, beadon ha...</td>\n",
       "      <td>[beadon, hammersmith, king, sta, street, beado...</td>\n",
       "    </tr>\n",
       "    <tr>\n",
       "      <th>1</th>\n",
       "      <td>1</td>\n",
       "      <td>[floating fulham hurlingham pier wharf wharves...</td>\n",
       "      <td>4842</td>\n",
       "      <td>3217</td>\n",
       "      <td>1.505129</td>\n",
       "      <td>0.664395</td>\n",
       "      <td>[floating fulham hurlingham pier wharf wharves...</td>\n",
       "      <td>[floating, fulham, hurlingham, pier, wharf, wh...</td>\n",
       "    </tr>\n",
       "    <tr>\n",
       "      <th>2</th>\n",
       "      <td>2</td>\n",
       "      <td>[king road, dryburgh egliston road, dryburgh r...</td>\n",
       "      <td>8120</td>\n",
       "      <td>3419</td>\n",
       "      <td>2.374963</td>\n",
       "      <td>0.421059</td>\n",
       "      <td>[king road, dryburgh egliston road, dryburgh r...</td>\n",
       "      <td>[king, road, dryburgh, egliston, road, dryburg...</td>\n",
       "    </tr>\n",
       "    <tr>\n",
       "      <th>3</th>\n",
       "      <td>3</td>\n",
       "      <td>[, , , , , works, ead, , , , , , line, , , , ,...</td>\n",
       "      <td>5447</td>\n",
       "      <td>74</td>\n",
       "      <td>73.608108</td>\n",
       "      <td>0.013585</td>\n",
       "      <td>[NONE, NONE, NONE, NONE, NONE, works, ead, NON...</td>\n",
       "      <td>[NONE, NONE, NONE, NONE, NONE, works, ead, NON...</td>\n",
       "    </tr>\n",
       "  </tbody>\n",
       "</table>\n",
       "</div>"
      ],
      "text/plain": [
       "   cluster_context                                     labels_context  count  \\\n",
       "0                0  [beadon hammersmith king sta street, beadon ha...  10986   \n",
       "1                1  [floating fulham hurlingham pier wharf wharves...   4842   \n",
       "2                2  [king road, dryburgh egliston road, dryburgh r...   8120   \n",
       "3                3  [, , , , , works, ead, , , , , , line, , , , ,...   5447   \n",
       "\n",
       "   unique_count  count/unique_count  unique_count/count  \\\n",
       "0          8420            1.304751            0.766430   \n",
       "1          3217            1.505129            0.664395   \n",
       "2          3419            2.374963            0.421059   \n",
       "3            74           73.608108            0.013585   \n",
       "\n",
       "                                            labels_2  \\\n",
       "0  [beadon hammersmith king sta street, beadon ha...   \n",
       "1  [floating fulham hurlingham pier wharf wharves...   \n",
       "2  [king road, dryburgh egliston road, dryburgh r...   \n",
       "3  [NONE, NONE, NONE, NONE, NONE, works, ead, NON...   \n",
       "\n",
       "                                               words  \n",
       "0  [beadon, hammersmith, king, sta, street, beado...  \n",
       "1  [floating, fulham, hurlingham, pier, wharf, wh...  \n",
       "2  [king, road, dryburgh, egliston, road, dryburg...  \n",
       "3  [NONE, NONE, NONE, NONE, NONE, works, ead, NON...  "
      ]
     },
     "execution_count": 66,
     "metadata": {},
     "output_type": "execute_result"
    }
   ],
   "source": [
    "cluster_labels_context[\"labels_2\"] = cluster_labels_context[\"labels_context\"].apply(lambda x: [word if len(word) else \"NONE\" for word in x])\n",
    "cluster_labels_context[\"words\"] = cluster_labels_context[\"labels_2\"].apply(lambda x: \" \".join(x).split())\n",
    "cluster_labels_context"
   ]
  },
  {
   "cell_type": "code",
   "execution_count": 67,
   "metadata": {},
   "outputs": [
    {
     "name": "stderr",
     "output_type": "stream",
     "text": [
      "/var/folders/fn/j7v8jkl1717c1b6sy_sr0szc0000gr/T/ipykernel_80047/2331859209.py:11: UserWarning: FigureCanvasAgg is non-interactive, and thus cannot be shown\n",
      "  fig.show()\n"
     ]
    },
    {
     "data": {
      "image/png": "[encoded data removed]",
      "text/plain": [
       "<Figure size 800x3200 with 4 Axes>"
      ]
     },
     "metadata": {},
     "output_type": "display_data"
    }
   ],
   "source": [
    "import matplotlib.pyplot as plt\n",
    "\n",
    "fig, ax = plt.subplots(nrows=len(cluster_labels_context.index), ncols=1, figsize=(8, 8*len(cluster_labels_context.index)))\n",
    "\n",
    "cluster_dataframes = {}\n",
    "\n",
    "for cluster in cluster_labels_context.index:\n",
    "\tcluster_dataframes[cluster] = pd.DataFrame(Counter(cluster_labels_context.iloc[cluster][\"words\"]).most_common(10), columns=[\"word\", \"count\"])\n",
    "\tcluster_dataframes[cluster].plot(kind='bar', x='word', y='count', title=f'Cluster {cluster}', legend=True, ax=ax[cluster])\n",
    "\n",
    "fig.show()"
   ]
  },
  {
   "cell_type": "code",
   "execution_count": 68,
   "metadata": {},
   "outputs": [
    {
     "name": "stdout",
     "output_type": "stream",
     "text": [
      "cluster_context\n",
      "0    10986\n",
      "2     8120\n",
      "3     5447\n",
      "1     4842\n",
      "Name: count, dtype: int64\n"
     ]
    }
   ],
   "source": [
    "patches_per_cluster = predictions_red['cluster_context'].value_counts()\n",
    "print(patches_per_cluster)"
   ]
  },
  {
   "cell_type": "markdown",
   "metadata": {},
   "source": [
    "# Plot labels/sentences in semantic space"
   ]
  },
  {
   "cell_type": "code",
   "execution_count": null,
   "metadata": {},
   "outputs": [],
   "source": [
    "tsne = TSNE(n_components=2, random_state=42)\n",
    "embeddings_tsne = tsne.fit_transform(railspace_sentence_embeddings_context)\n",
    "embeddings_tsne"
   ]
  },
  {
   "cell_type": "code",
   "execution_count": null,
   "metadata": {},
   "outputs": [],
   "source": [
    "data = pd.DataFrame(embeddings_tsne, columns=['x','y'])\n",
    "data['text'] = labels_sentence\n",
    "fig = px.scatter(data, x=\"x\", y=\"y\", text='text', width=1000, height=1000,)\n",
    "fig.show()"
   ]
  },
  {
   "cell_type": "markdown",
   "metadata": {},
   "source": [
    "# Fin."
   ]
  },
  {
   "cell_type": "markdown",
   "metadata": {},
   "source": []
  }
 ],
 "metadata": {
  "kernelspec": {
   "display_name": "mr_py312",
   "language": "python",
   "name": "python3"
  },
  "language_info": {
   "codemirror_mode": {
    "name": "ipython",
    "version": 3
   },
   "file_extension": ".py",
   "mimetype": "text/x-python",
   "name": "python",
   "nbconvert_exporter": "python",
   "pygments_lexer": "ipython3",
   "version": "3.12.2"
  }
 },
 "nbformat": 4,
 "nbformat_minor": 2
}
