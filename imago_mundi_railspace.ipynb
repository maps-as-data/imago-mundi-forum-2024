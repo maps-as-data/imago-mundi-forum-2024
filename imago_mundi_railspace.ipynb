{
 "cells": [
  {
   "cell_type": "markdown",
   "metadata": {},
   "source": [
    "# Exploring Text on Maps"
   ]
  },
  {
   "cell_type": "markdown",
   "metadata": {},
   "source": [
    "This notebook provides some examples of how to load and visualise the text outputs of MapReader. \n",
    "\n",
    "We focus on the geogrpaphy of railspace.\n",
    "\n",
    "----"
   ]
  },
  {
   "cell_type": "code",
   "execution_count": 2,
   "metadata": {},
   "outputs": [],
   "source": [
    "import pandas as pd\n",
    "import geopandas as geopd\n",
    "import matplotlib.pyplot as plt\n",
    "import plotly.express as px\n",
    "from ast import literal_eval\n",
    "from collections import Counter\n",
    "from tqdm import tqdm"
   ]
  },
  {
   "cell_type": "markdown",
   "metadata": {},
   "source": [
    "# Load data"
   ]
  },
  {
   "cell_type": "code",
   "execution_count": 188,
   "metadata": {},
   "outputs": [
    {
     "data": {
      "text/html": [
       "<div>\n",
       "<style scoped>\n",
       "    .dataframe tbody tr th:only-of-type {\n",
       "        vertical-align: middle;\n",
       "    }\n",
       "\n",
       "    .dataframe tbody tr th {\n",
       "        vertical-align: top;\n",
       "    }\n",
       "\n",
       "    .dataframe thead th {\n",
       "        text-align: right;\n",
       "    }\n",
       "</style>\n",
       "<table border=\"1\" class=\"dataframe\">\n",
       "  <thead>\n",
       "    <tr style=\"text-align: right;\">\n",
       "      <th></th>\n",
       "      <th>field_1</th>\n",
       "      <th>center_lon</th>\n",
       "      <th>center_lat</th>\n",
       "      <th>pred</th>\n",
       "      <th>conf</th>\n",
       "      <th>mean_pixel_RGB</th>\n",
       "      <th>std_pixel_RGB</th>\n",
       "      <th>mean_pixel_A</th>\n",
       "      <th>image_id</th>\n",
       "      <th>parent_id</th>\n",
       "      <th>pub_date</th>\n",
       "      <th>url</th>\n",
       "      <th>x</th>\n",
       "      <th>y</th>\n",
       "      <th>z</th>\n",
       "      <th>opening_year_quicks</th>\n",
       "      <th>closing_year_quicks</th>\n",
       "      <th>dist2quicks</th>\n",
       "      <th>geometry</th>\n",
       "    </tr>\n",
       "  </thead>\n",
       "  <tbody>\n",
       "    <tr>\n",
       "      <th>0</th>\n",
       "      <td>0</td>\n",
       "      <td>-0.4011055106547341</td>\n",
       "      <td>52.61260776720805</td>\n",
       "      <td>1</td>\n",
       "      <td>0.9898980855941772</td>\n",
       "      <td>0.8450341820716858</td>\n",
       "      <td>0.1668068021535873</td>\n",
       "      <td>1.0</td>\n",
       "      <td>patch-3014-0-3151-137-#map_100890251.png#.PNG</td>\n",
       "      <td>map_100890251.png</td>\n",
       "      <td>1902</td>\n",
       "      <td>https://maps.nls.uk/view/100890251</td>\n",
       "      <td>3880925.8529841416</td>\n",
       "      <td>-27169.29919979412</td>\n",
       "      <td>5044483.051365171</td>\n",
       "      <td>1867</td>\n",
       "      <td>1929</td>\n",
       "      <td>1121.9150481268305</td>\n",
       "      <td>None</td>\n",
       "    </tr>\n",
       "    <tr>\n",
       "      <th>1</th>\n",
       "      <td>1</td>\n",
       "      <td>-0.399645312864389</td>\n",
       "      <td>52.61260776720805</td>\n",
       "      <td>1</td>\n",
       "      <td>0.9999995231628418</td>\n",
       "      <td>0.823089599609375</td>\n",
       "      <td>0.1925655305385589</td>\n",
       "      <td>1.0</td>\n",
       "      <td>patch-3151-0-3288-137-#map_100890251.png#.PNG</td>\n",
       "      <td>map_100890251.png</td>\n",
       "      <td>1902</td>\n",
       "      <td>https://maps.nls.uk/view/100890251</td>\n",
       "      <td>3880926.544140446</td>\n",
       "      <td>-27070.392789791513</td>\n",
       "      <td>5044483.051365171</td>\n",
       "      <td>1867</td>\n",
       "      <td>1929</td>\n",
       "      <td>1113.0714735200893</td>\n",
       "      <td>None</td>\n",
       "    </tr>\n",
       "    <tr>\n",
       "      <th>2</th>\n",
       "      <td>2</td>\n",
       "      <td>-0.4011055106547341</td>\n",
       "      <td>52.61171342293056</td>\n",
       "      <td>1</td>\n",
       "      <td>0.998733937740326</td>\n",
       "      <td>0.8648163676261902</td>\n",
       "      <td>0.1285138428211212</td>\n",
       "      <td>1.0</td>\n",
       "      <td>patch-3014-137-3151-274-#map_100890251.png#.PNG</td>\n",
       "      <td>map_100890251.png</td>\n",
       "      <td>1902</td>\n",
       "      <td>https://maps.nls.uk/view/100890251</td>\n",
       "      <td>3881004.9253640324</td>\n",
       "      <td>-27169.852763873692</td>\n",
       "      <td>5044422.621073416</td>\n",
       "      <td>1867</td>\n",
       "      <td>1929</td>\n",
       "      <td>1220.6227775525679</td>\n",
       "      <td>None</td>\n",
       "    </tr>\n",
       "  </tbody>\n",
       "</table>\n",
       "</div>"
      ],
      "text/plain": [
       "  field_1           center_lon         center_lat pred                conf  \\\n",
       "0       0  -0.4011055106547341  52.61260776720805    1  0.9898980855941772   \n",
       "1       1   -0.399645312864389  52.61260776720805    1  0.9999995231628418   \n",
       "2       2  -0.4011055106547341  52.61171342293056    1   0.998733937740326   \n",
       "\n",
       "       mean_pixel_RGB       std_pixel_RGB mean_pixel_A  \\\n",
       "0  0.8450341820716858  0.1668068021535873          1.0   \n",
       "1   0.823089599609375  0.1925655305385589          1.0   \n",
       "2  0.8648163676261902  0.1285138428211212          1.0   \n",
       "\n",
       "                                          image_id          parent_id  \\\n",
       "0    patch-3014-0-3151-137-#map_100890251.png#.PNG  map_100890251.png   \n",
       "1    patch-3151-0-3288-137-#map_100890251.png#.PNG  map_100890251.png   \n",
       "2  patch-3014-137-3151-274-#map_100890251.png#.PNG  map_100890251.png   \n",
       "\n",
       "  pub_date                                 url                   x  \\\n",
       "0     1902  https://maps.nls.uk/view/100890251  3880925.8529841416   \n",
       "1     1902  https://maps.nls.uk/view/100890251   3880926.544140446   \n",
       "2     1902  https://maps.nls.uk/view/100890251  3881004.9253640324   \n",
       "\n",
       "                     y                  z opening_year_quicks  \\\n",
       "0   -27169.29919979412  5044483.051365171                1867   \n",
       "1  -27070.392789791513  5044483.051365171                1867   \n",
       "2  -27169.852763873692  5044422.621073416                1867   \n",
       "\n",
       "  closing_year_quicks         dist2quicks geometry  \n",
       "0                1929  1121.9150481268305     None  \n",
       "1                1929  1113.0714735200893     None  \n",
       "2                1929  1220.6227775525679     None  "
      ]
     },
     "execution_count": 188,
     "metadata": {},
     "output_type": "execute_result"
    }
   ],
   "source": [
    "# Load the patch predictions for railspace and railspace + buildings (codes 01 and 03)\n",
    "predictions = geopd.read_file(\"/Users/kasparbeelen/Documents/LwM/imago-mundi/mapreader_maptext_outputs/MapReader_Data_SIGSPATIAL_2022/outputs/label_01_03/pred_01_03_keep_01_0250.csv\")\n",
    "predictions.head(3)"
   ]
  },
  {
   "cell_type": "code",
   "execution_count": 190,
   "metadata": {},
   "outputs": [
    {
     "data": {
      "text/html": [
       "<div>\n",
       "<style scoped>\n",
       "    .dataframe tbody tr th:only-of-type {\n",
       "        vertical-align: middle;\n",
       "    }\n",
       "\n",
       "    .dataframe tbody tr th {\n",
       "        vertical-align: top;\n",
       "    }\n",
       "\n",
       "    .dataframe thead th {\n",
       "        text-align: right;\n",
       "    }\n",
       "</style>\n",
       "<table border=\"1\" class=\"dataframe\">\n",
       "  <thead>\n",
       "    <tr style=\"text-align: right;\">\n",
       "      <th></th>\n",
       "      <th>image_id</th>\n",
       "      <th>crs</th>\n",
       "      <th>text</th>\n",
       "      <th>score</th>\n",
       "      <th>patch_id</th>\n",
       "      <th>duplicate</th>\n",
       "      <th>geometry</th>\n",
       "    </tr>\n",
       "  </thead>\n",
       "  <tbody>\n",
       "    <tr>\n",
       "      <th>0</th>\n",
       "      <td>map_95470395.png</td>\n",
       "      <td>EPSG:4326</td>\n",
       "      <td>GARDENS</td>\n",
       "      <td>0.97</td>\n",
       "      <td>patch-0-0-1000-1000-#map_95470395.png#.png</td>\n",
       "      <td>False</td>\n",
       "      <td>POINT (-0.22055 51.49457)</td>\n",
       "    </tr>\n",
       "    <tr>\n",
       "      <th>1</th>\n",
       "      <td>map_95470395.png</td>\n",
       "      <td>EPSG:4326</td>\n",
       "      <td>Soh.</td>\n",
       "      <td>0.96</td>\n",
       "      <td>patch-0-0-1000-1000-#map_95470395.png#.png</td>\n",
       "      <td>False</td>\n",
       "      <td>POINT (-0.22061 51.49239)</td>\n",
       "    </tr>\n",
       "    <tr>\n",
       "      <th>2</th>\n",
       "      <td>map_95470395.png</td>\n",
       "      <td>EPSG:4326</td>\n",
       "      <td>ROAD</td>\n",
       "      <td>0.98</td>\n",
       "      <td>patch-0-0-1000-1000-#map_95470395.png#.png</td>\n",
       "      <td>False</td>\n",
       "      <td>POINT (-0.22445 51.48863)</td>\n",
       "    </tr>\n",
       "    <tr>\n",
       "      <th>3</th>\n",
       "      <td>map_95470395.png</td>\n",
       "      <td>EPSG:4326</td>\n",
       "      <td>STREET</td>\n",
       "      <td>0.97</td>\n",
       "      <td>patch-0-0-1000-1000-#map_95470395.png#.png</td>\n",
       "      <td>False</td>\n",
       "      <td>POINT (-0.22750 51.49267)</td>\n",
       "    </tr>\n",
       "    <tr>\n",
       "      <th>4</th>\n",
       "      <td>map_95470395.png</td>\n",
       "      <td>EPSG:4326</td>\n",
       "      <td>BERYL</td>\n",
       "      <td>0.97</td>\n",
       "      <td>patch-0-0-1000-1000-#map_95470395.png#.png</td>\n",
       "      <td>False</td>\n",
       "      <td>POINT (-0.22095 51.48860)</td>\n",
       "    </tr>\n",
       "  </tbody>\n",
       "</table>\n",
       "</div>"
      ],
      "text/plain": [
       "           image_id        crs     text score  \\\n",
       "0  map_95470395.png  EPSG:4326  GARDENS  0.97   \n",
       "1  map_95470395.png  EPSG:4326     Soh.  0.96   \n",
       "2  map_95470395.png  EPSG:4326     ROAD  0.98   \n",
       "3  map_95470395.png  EPSG:4326   STREET  0.97   \n",
       "4  map_95470395.png  EPSG:4326    BERYL  0.97   \n",
       "\n",
       "                                     patch_id  duplicate  \\\n",
       "0  patch-0-0-1000-1000-#map_95470395.png#.png      False   \n",
       "1  patch-0-0-1000-1000-#map_95470395.png#.png      False   \n",
       "2  patch-0-0-1000-1000-#map_95470395.png#.png      False   \n",
       "3  patch-0-0-1000-1000-#map_95470395.png#.png      False   \n",
       "4  patch-0-0-1000-1000-#map_95470395.png#.png      False   \n",
       "\n",
       "                    geometry  \n",
       "0  POINT (-0.22055 51.49457)  \n",
       "1  POINT (-0.22061 51.49239)  \n",
       "2  POINT (-0.22445 51.48863)  \n",
       "3  POINT (-0.22750 51.49267)  \n",
       "4  POINT (-0.22095 51.48860)  "
      ]
     },
     "execution_count": 190,
     "metadata": {},
     "output_type": "execute_result"
    }
   ],
   "source": [
    "# load the gepjson with spotted text\n",
    "# we use the file that has been converted to point data\n",
    "spotted_text = geopd.read_file(\"/Users/kasparbeelen/Documents/LwM/imago-mundi/mapreader_maptext_outputs/geo_predictions_deduplicated_point.json\")\n",
    "spotted_text.head()"
   ]
  },
  {
   "cell_type": "code",
   "execution_count": 191,
   "metadata": {},
   "outputs": [
    {
     "name": "stdout",
     "output_type": "stream",
     "text": [
      "Railspace predictions shape: (483278, 19)\n",
      "Spotted text shape: (463769, 7)\n"
     ]
    }
   ],
   "source": [
    "# print the shape of the dataframes\n",
    "print(f\"Railspace predictions shape: {predictions.shape}\")\n",
    "print(f\"Spotted text shape: {spotted_text.shape}\")"
   ]
  },
  {
   "cell_type": "code",
   "execution_count": 195,
   "metadata": {},
   "outputs": [
    {
     "name": "stdout",
     "output_type": "stream",
     "text": [
      "number of maps 329\n"
     ]
    }
   ],
   "source": [
    "# Retain patch predictions for maps for that are in the spotted text data\n",
    "text_map_ids = list(spotted_text.image_id.unique())\n",
    "print('number of maps', len(text_map_ids))"
   ]
  },
  {
   "cell_type": "code",
   "execution_count": 196,
   "metadata": {},
   "outputs": [
    {
     "data": {
      "text/plain": [
       "((26835, 19), (483278, 19))"
      ]
     },
     "execution_count": 196,
     "metadata": {},
     "output_type": "execute_result"
    }
   ],
   "source": [
    "# filter to one parent map to save time\n",
    "predictions_with_text = predictions[predictions['parent_id'].isin(text_map_ids)]\n",
    "predictions_with_text.shape,predictions.shape\n"
   ]
  },
  {
   "cell_type": "code",
   "execution_count": 197,
   "metadata": {},
   "outputs": [
    {
     "name": "stderr",
     "output_type": "stream",
     "text": [
      "/Users/kasparbeelen/anaconda3/envs/mapreader/lib/python3.9/site-packages/geopandas/geodataframe.py:1528: SettingWithCopyWarning:\n",
      "\n",
      "\n",
      "A value is trying to be set on a copy of a slice from a DataFrame.\n",
      "Try using .loc[row_indexer,col_indexer] = value instead\n",
      "\n",
      "See the caveats in the documentation: https://pandas.pydata.org/pandas-docs/stable/user_guide/indexing.html#returning-a-view-versus-a-copy\n",
      "\n"
     ]
    },
    {
     "data": {
      "text/html": [
       "<div>\n",
       "<style scoped>\n",
       "    .dataframe tbody tr th:only-of-type {\n",
       "        vertical-align: middle;\n",
       "    }\n",
       "\n",
       "    .dataframe tbody tr th {\n",
       "        vertical-align: top;\n",
       "    }\n",
       "\n",
       "    .dataframe thead th {\n",
       "        text-align: right;\n",
       "    }\n",
       "</style>\n",
       "<table border=\"1\" class=\"dataframe\">\n",
       "  <thead>\n",
       "    <tr style=\"text-align: right;\">\n",
       "      <th></th>\n",
       "      <th>field_1</th>\n",
       "      <th>center_lon</th>\n",
       "      <th>center_lat</th>\n",
       "      <th>pred</th>\n",
       "      <th>conf</th>\n",
       "      <th>mean_pixel_RGB</th>\n",
       "      <th>std_pixel_RGB</th>\n",
       "      <th>mean_pixel_A</th>\n",
       "      <th>image_id</th>\n",
       "      <th>parent_id</th>\n",
       "      <th>pub_date</th>\n",
       "      <th>url</th>\n",
       "      <th>x</th>\n",
       "      <th>y</th>\n",
       "      <th>z</th>\n",
       "      <th>opening_year_quicks</th>\n",
       "      <th>closing_year_quicks</th>\n",
       "      <th>dist2quicks</th>\n",
       "      <th>geometry</th>\n",
       "    </tr>\n",
       "  </thead>\n",
       "  <tbody>\n",
       "    <tr>\n",
       "      <th>0</th>\n",
       "      <td>82604</td>\n",
       "      <td>0.0054502487182617</td>\n",
       "      <td>51.51405725996779</td>\n",
       "      <td>1</td>\n",
       "      <td>0.9999876022338868</td>\n",
       "      <td>0.7180785536766052</td>\n",
       "      <td>0.1661627292633056</td>\n",
       "      <td>1.0</td>\n",
       "      <td>patch-5304-680-5440-816-#map_101427837.png#.PNG</td>\n",
       "      <td>map_101427837.png</td>\n",
       "      <td>1899</td>\n",
       "      <td>https://maps.nls.uk/view/101427837</td>\n",
       "      <td>3977424.4080393487</td>\n",
       "      <td>378.35164355055997</td>\n",
       "      <td>4969335.908927486</td>\n",
       "      <td>1858</td>\n",
       "      <td>1943</td>\n",
       "      <td>864.2700378881675</td>\n",
       "      <td>POINT (0.00545 51.51406)</td>\n",
       "    </tr>\n",
       "    <tr>\n",
       "      <th>1</th>\n",
       "      <td>82605</td>\n",
       "      <td>0.0069093704223632</td>\n",
       "      <td>51.51405725996779</td>\n",
       "      <td>1</td>\n",
       "      <td>0.9997331500053406</td>\n",
       "      <td>0.7427434921264648</td>\n",
       "      <td>0.1574448347091674</td>\n",
       "      <td>1.0</td>\n",
       "      <td>patch-5440-680-5576-816-#map_101427837.png#.PNG</td>\n",
       "      <td>map_101427837.png</td>\n",
       "      <td>1899</td>\n",
       "      <td>https://maps.nls.uk/view/101427837</td>\n",
       "      <td>3977424.397114302</td>\n",
       "      <td>479.642634298165</td>\n",
       "      <td>4969335.908927486</td>\n",
       "      <td>1858</td>\n",
       "      <td>1943</td>\n",
       "      <td>790.1369984878037</td>\n",
       "      <td>POINT (0.00691 51.51406)</td>\n",
       "    </tr>\n",
       "    <tr>\n",
       "      <th>2</th>\n",
       "      <td>82606</td>\n",
       "      <td>0.0039911270141601</td>\n",
       "      <td>51.513158932432354</td>\n",
       "      <td>1</td>\n",
       "      <td>0.9893848299980164</td>\n",
       "      <td>0.7143736481666565</td>\n",
       "      <td>0.1780998110771179</td>\n",
       "      <td>1.0</td>\n",
       "      <td>patch-5168-816-5304-952-#map_101427837.png#.PNG</td>\n",
       "      <td>map_101427837.png</td>\n",
       "      <td>1899</td>\n",
       "      <td>https://maps.nls.uk/view/101427837</td>\n",
       "      <td>3977502.6498777936</td>\n",
       "      <td>277.0661021702683</td>\n",
       "      <td>4969273.709528874</td>\n",
       "      <td>1858</td>\n",
       "      <td>1943</td>\n",
       "      <td>887.5020002962651</td>\n",
       "      <td>POINT (0.00399 51.51316)</td>\n",
       "    </tr>\n",
       "  </tbody>\n",
       "</table>\n",
       "</div>"
      ],
      "text/plain": [
       "  field_1          center_lon          center_lat pred                conf  \\\n",
       "0   82604  0.0054502487182617   51.51405725996779    1  0.9999876022338868   \n",
       "1   82605  0.0069093704223632   51.51405725996779    1  0.9997331500053406   \n",
       "2   82606  0.0039911270141601  51.513158932432354    1  0.9893848299980164   \n",
       "\n",
       "       mean_pixel_RGB       std_pixel_RGB mean_pixel_A  \\\n",
       "0  0.7180785536766052  0.1661627292633056          1.0   \n",
       "1  0.7427434921264648  0.1574448347091674          1.0   \n",
       "2  0.7143736481666565  0.1780998110771179          1.0   \n",
       "\n",
       "                                          image_id          parent_id  \\\n",
       "0  patch-5304-680-5440-816-#map_101427837.png#.PNG  map_101427837.png   \n",
       "1  patch-5440-680-5576-816-#map_101427837.png#.PNG  map_101427837.png   \n",
       "2  patch-5168-816-5304-952-#map_101427837.png#.PNG  map_101427837.png   \n",
       "\n",
       "  pub_date                                 url                   x  \\\n",
       "0     1899  https://maps.nls.uk/view/101427837  3977424.4080393487   \n",
       "1     1899  https://maps.nls.uk/view/101427837   3977424.397114302   \n",
       "2     1899  https://maps.nls.uk/view/101427837  3977502.6498777936   \n",
       "\n",
       "                    y                  z opening_year_quicks  \\\n",
       "0  378.35164355055997  4969335.908927486                1858   \n",
       "1    479.642634298165  4969335.908927486                1858   \n",
       "2   277.0661021702683  4969273.709528874                1858   \n",
       "\n",
       "  closing_year_quicks        dist2quicks                  geometry  \n",
       "0                1943  864.2700378881675  POINT (0.00545 51.51406)  \n",
       "1                1943  790.1369984878037  POINT (0.00691 51.51406)  \n",
       "2                1943  887.5020002962651  POINT (0.00399 51.51316)  "
      ]
     },
     "execution_count": 197,
     "metadata": {},
     "output_type": "execute_result"
    }
   ],
   "source": [
    "# add geometry to the patch predictions\n",
    "predictions_with_text['geometry'] = geopd.points_from_xy(predictions_with_text.center_lon, predictions_with_text.center_lat)\n",
    "predictions_with_text.reset_index(drop=True, inplace=True)\n",
    "predictions_with_text.head(3)"
   ]
  },
  {
   "cell_type": "code",
   "execution_count": 198,
   "metadata": {},
   "outputs": [
    {
     "name": "stderr",
     "output_type": "stream",
     "text": [
      "/Users/kasparbeelen/anaconda3/envs/mapreader/lib/python3.9/site-packages/geopandas/geodataframe.py:1528: SettingWithCopyWarning:\n",
      "\n",
      "\n",
      "A value is trying to be set on a copy of a slice from a DataFrame.\n",
      "Try using .loc[row_indexer,col_indexer] = value instead\n",
      "\n",
      "See the caveats in the documentation: https://pandas.pydata.org/pandas-docs/stable/user_guide/indexing.html#returning-a-view-versus-a-copy\n",
      "\n"
     ]
    }
   ],
   "source": [
    "# convert the projection to the same as the spotted text\n",
    "predictions_with_text.crs = \"epsg:4326\"\n",
    "predictions_with_text.to_crs(epsg=27700, inplace=True)\n",
    "spotted_text.to_crs(epsg=27700, inplace=True)"
   ]
  },
  {
   "cell_type": "markdown",
   "metadata": {},
   "source": [
    "The below cell identifies the text that falls within the 100m of building patches. Text within this distance is stored as \"adjacent text\" and any other text is stored as \"other text\"."
   ]
  },
  {
   "cell_type": "code",
   "execution_count": 111,
   "metadata": {},
   "outputs": [
    {
     "name": "stderr",
     "output_type": "stream",
     "text": [
      "100%|██████████| 26835/26835 [54:43<00:00,  8.17it/s] "
     ]
    },
    {
     "name": "stdout",
     "output_type": "stream",
     "text": [
      "Railspace labels 213450\n"
     ]
    },
    {
     "name": "stderr",
     "output_type": "stream",
     "text": [
      "\n"
     ]
    }
   ],
   "source": [
    "tqdm.pandas()\n",
    "adjacent_text = [] # here we store labels close to the target category, i.e. building classified as 1\n",
    "\n",
    "#target_label = \"building\"\n",
    "distance = 100 # maximum distance in meters between patch and text centroid\n",
    "\n",
    "for i,row in tqdm(predictions_with_text.iterrows(), total=predictions_with_text.shape[0]):\n",
    "    # get text within a certain distance from the patch centroid\n",
    "    labels = spotted_text[spotted_text.distance(row.geometry) <= distance].text.tolist()\n",
    "    # if patch is classified as the target label, add text to adjacent_text, otherwise add to other_text\n",
    "    #if row['predicted_label'] == target_label:\n",
    "    adjacent_text.extend(labels)\n",
    "    #else:\n",
    "    #    other_text.extend(labels)\n",
    "\n",
    "print('Railspace labels',len(adjacent_text))"
   ]
  },
  {
   "cell_type": "code",
   "execution_count": 199,
   "metadata": {},
   "outputs": [],
   "source": [
    "# save the adjacent text to a txt file\n",
    "with open('adjacent_txt.txt', 'w') as out_txt:\n",
    "    out_txt.write('\\n'.join(adjacent_text))"
   ]
  },
  {
   "cell_type": "code",
   "execution_count": 202,
   "metadata": {},
   "outputs": [
    {
     "data": {
      "text/plain": [
       "['Cooperage',\n",
       " 'Wharf',\n",
       " 'Cooperage',\n",
       " 'Wharf',\n",
       " 'Sch',\n",
       " 'Sch',\n",
       " 'Cooperage',\n",
       " 'Wharf',\n",
       " 'Cooperage',\n",
       " 'Wharf']"
      ]
     },
     "execution_count": 202,
     "metadata": {},
     "output_type": "execute_result"
    }
   ],
   "source": [
    "with open('adjacent_txt.txt', 'r') as in_txt:\n",
    "    adjacent_text = [i.strip() for i in in_txt.readlines()]\n",
    "adjacent_text[:10]"
   ]
  },
  {
   "cell_type": "code",
   "execution_count": 203,
   "metadata": {},
   "outputs": [],
   "source": [
    "all_text = spotted_text.text.tolist()"
   ]
  },
  {
   "cell_type": "code",
   "execution_count": 204,
   "metadata": {},
   "outputs": [],
   "source": [
    "# get counts and probabilities of the text labels for the building category\n",
    "railspace_text_freq =  Counter([i.lower() for i in adjacent_text])\n",
    "railspace_text_prob = {k: v/ sum(railspace_text_freq.values()) for k,v in railspace_text_freq.items()}"
   ]
  },
  {
   "cell_type": "code",
   "execution_count": 205,
   "metadata": {},
   "outputs": [],
   "source": [
    "# get counts and probabilities of the text labels for the other category\n",
    "all_text_freq =  Counter([i.lower() for i in all_text])\n",
    "all_text_prob = {k: v/ sum(all_text_freq.values()) for k,v in all_text_freq.items()}"
   ]
  },
  {
   "cell_type": "code",
   "execution_count": 206,
   "metadata": {},
   "outputs": [
    {
     "name": "stdout",
     "output_type": "stream",
     "text": [
      "840 298\n",
      "0.003935347856640899 0.0006425612751175693\n"
     ]
    }
   ],
   "source": [
    "# compare both absoluate counts and probabilities of a give word\n",
    "word = 'railway'\n",
    "print(railspace_text_freq[word], all_text_freq[word])\n",
    "print(railspace_text_prob[word], all_text_prob[word])"
   ]
  },
  {
   "cell_type": "code",
   "execution_count": 207,
   "metadata": {},
   "outputs": [],
   "source": [
    "# compute the proportional difference\n",
    "proportional_difference = sorted({w: railspace_text_prob.get(w,0) - all_text_prob.get(w,0) for w in all_text_prob.keys()}.items(), key=lambda x: x[1], reverse=True)\n"
   ]
  },
  {
   "cell_type": "code",
   "execution_count": 208,
   "metadata": {},
   "outputs": [
    {
     "name": "stdout",
     "output_type": "stream",
     "text": [
      "Railscape labels\n",
      "[('s.', 0.08090059610430334), ('p', 0.04475974460514513), ('&', 0.009451424674718552), ('station', 0.007842019380472411), ('r.', 0.0050581293661980985)]\n",
      "Other labels\n",
      "[('wood', -0.006077280294137356), ('lodge', -0.007163498510339925), ('farm', -0.00834608133026841), ('p.', -0.01665808217648658), ('f.', -0.02069281119909323)]\n"
     ]
    }
   ],
   "source": [
    "print('Railscape labels')\n",
    "print(proportional_difference[:5])\n",
    "print('Other labels')\n",
    "print(proportional_difference[-5:])"
   ]
  },
  {
   "cell_type": "code",
   "execution_count": 212,
   "metadata": {},
   "outputs": [
    {
     "data": {
      "text/plain": [
       "<Axes: title={'center': 'Top 20 terms in Building labels'}, xlabel='Term', ylabel='Difference in probability'>"
      ]
     },
     "execution_count": 212,
     "metadata": {},
     "output_type": "execute_result"
    },
    {
     "data": {
      "image/png": "[encoded data removed]",
      "text/plain": [
       "<Figure size 640x480 with 1 Axes>"
      ]
     },
     "metadata": {},
     "output_type": "display_data"
    }
   ],
   "source": [
    "pd.DataFrame(proportional_difference[:20]).plot(kind='bar', x=0, y=1, legend=False, \n",
    "                            title='Top 20 terms in Building labels', \n",
    "                            xlabel='Term', ylabel='Difference in probability')"
   ]
  },
  {
   "cell_type": "code",
   "execution_count": 211,
   "metadata": {},
   "outputs": [
    {
     "data": {
      "text/plain": [
       "<Axes: title={'center': 'Top 20 terms in Other labels'}, xlabel='Term', ylabel='Difference in probability'>"
      ]
     },
     "execution_count": 211,
     "metadata": {},
     "output_type": "execute_result"
    },
    {
     "data": {
      "image/png": "[encoded data removed]",
      "text/plain": [
       "<Figure size 640x480 with 1 Axes>"
      ]
     },
     "metadata": {},
     "output_type": "display_data"
    }
   ],
   "source": [
    "pd.DataFrame(proportional_difference[-20:]).plot(kind='bar', x=0, y=1, legend=False, \n",
    "                            title='Top 20 terms in Other labels', \n",
    "                            xlabel='Term', ylabel='Difference in probability')"
   ]
  },
  {
   "cell_type": "markdown",
   "metadata": {},
   "source": [
    "To get a sense of what some of the abbreviations mean, please go to the NLS website: https://maps.nls.uk/os/abbrev/"
   ]
  },
  {
   "cell_type": "markdown",
   "metadata": {},
   "source": [
    "# Visalizing the semantic of text on maps\n",
    "\n",
    "In the visualization below we encode each label to a vector using BERT-type language model. This generates a vector for each labels that approximates the 'meaning' of this label. Then we visualize these embeddigns in two dimensional space where you can explore the different semantic regions of the text data."
   ]
  },
  {
   "cell_type": "code",
   "execution_count": 122,
   "metadata": {},
   "outputs": [],
   "source": [
    "# uncomment the following line to run if you have not yet installed sentence-transformers, scikit-learn and plotly\n",
    "#!pip install -U -q sentence-transformers scikit-learn plotly"
   ]
  },
  {
   "cell_type": "code",
   "execution_count": 213,
   "metadata": {},
   "outputs": [],
   "source": [
    "import numpy as np\n",
    "import matplotlib.pyplot as plt\n",
    "from sklearn.manifold import TSNE\n",
    "from sentence_transformers import SentenceTransformer\n",
    "import plotly.express as px\n",
    "from sklearn.metrics.pairwise import cosine_distances"
   ]
  },
  {
   "cell_type": "code",
   "execution_count": 214,
   "metadata": {},
   "outputs": [
    {
     "data": {
      "text/plain": [
       "379"
      ]
     },
     "execution_count": 214,
     "metadata": {},
     "output_type": "execute_result"
    }
   ],
   "source": [
    "# get all text labels above a certain threshold to obtain the railspace labels\n",
    "threshold = 0.0001\n",
    "railspace_labels = [w for w,v in proportional_difference if v > threshold]\n",
    "len(railspace_labels)"
   ]
  },
  {
   "cell_type": "code",
   "execution_count": 215,
   "metadata": {},
   "outputs": [],
   "source": [
    "# filter labels that are not words properly\n",
    "railspace_labels = [w for w in railspace_labels if not (w.endswith('#') or w.startswith('#') or w.endswith('>') or w.startswith('<') or w[0].isdigit())] "
   ]
  },
  {
   "cell_type": "code",
   "execution_count": 217,
   "metadata": {},
   "outputs": [
    {
     "data": {
      "text/plain": [
       "221"
      ]
     },
     "execution_count": 217,
     "metadata": {},
     "output_type": "execute_result"
    }
   ],
   "source": [
    "# get all other labels based on the inverse of the railspace threshold\n",
    "other_labels = [w for w,v in proportional_difference if v < threshold*-1]\n",
    "# filter these labels\n",
    "other_labels = [w for w in other_labels if not (w.endswith('#') or w.startswith('#') or w.endswith('>') or w.startswith('<') or w[0].isdigit())]\n",
    "\n",
    "len(other_labels)"
   ]
  },
  {
   "cell_type": "code",
   "execution_count": 218,
   "metadata": {},
   "outputs": [],
   "source": [
    "# embed the railspace labels\n",
    "# load pre-trained sentence transformer model\n",
    "# if you are working with a different language, you can change the model to a multilingual one\n",
    "# please refer to the documentation for more information: https://www.sbert.net/docs/pretrained_models.html\n",
    "# you can plug in the BLERT model here\n",
    "model = SentenceTransformer('distilbert-base-nli-mean-tokens') # Livingwithmachines/bert_1760_1900\n",
    "\n",
    "# encode the sentences\n",
    "railspace_sentence_embeddings = model.encode(railspace_labels)\n",
    "\n",
    "# perform dimensionality reduction using TSNE\n",
    "tsne = TSNE(n_components=2, random_state=42)\n",
    "embeddings_tsne = tsne.fit_transform(railspace_sentence_embeddings)"
   ]
  },
  {
   "cell_type": "code",
   "execution_count": 219,
   "metadata": {},
   "outputs": [
    {
     "data": {
      "application/vnd.plotly.v1+json": {
       "config": {
        "plotlyServerURL": "https://plot.ly"
       },
       "data": [
        {
         "hovertemplate": "x=%{x}<br>y=%{y}<br>size=%{marker.size}<br>text=%{text}<extra></extra>",
         "legendgroup": "",
         "marker": {
          "color": "#636efa",
          "size": [
           0.03272502567089229,
           0.020955383658146844,
           0.011979614363325588,
           0.011629901144058187,
           0.011037210545924816,
           0.010976706848409375,
           0.010967096911128113,
           0.010669399759776129,
           0.0106133718272515,
           0.010584400091040396,
           0.010557695458122478,
           0.01048930154083307,
           0.010486247309515482,
           0.010464357826425442,
           0.010458840127142004,
           0.010434950035877943,
           0.010402520169012235,
           0.010382333135306903,
           0.01037119122573254,
           0.010338238714216675,
           0.010314872943476546,
           0.010311723540353916,
           0.010297186176749467,
           0.010290877177672835,
           0.010271708723387167,
           0.010236031226715157,
           0.010224975764335795,
           0.01022190371673325,
           0.010217262684660172,
           0.010213070716373299,
           0.010203239142367043,
           0.010184085304765663,
           0.010180714708301928,
           0.010179841960784261,
           0.010175841869924415,
           0.010174461784237823,
           0.01016771249274329,
           0.010165411833221985,
           0.010162190617678951,
           0.010161290850615946,
           0.010160175266301915,
           0.010156330482607986,
           0.010156089468051573,
           0.010153509664881308,
           0.010140895926801407,
           0.010138404963739167,
           0.010134726184440767,
           0.010129130453257975,
           0.01012057806415298,
           0.010119872164050277,
           0.01011944611033767,
           0.010119000483782654,
           0.010117277222438223,
           0.010113491853641302,
           0.01011217901703713,
           0.010111414198862254,
           0.010106100745074068,
           0.010106045593596284,
           0.010094891165052109,
           0.010093941925063583,
           0.01009330774903899,
           0.01009196082818999,
           0.010091425139143217,
           0.010091322754692076,
           0.010090007398361167,
           0.010089637729731104,
           0.010087054098378559,
           0.010085971281329443,
           0.010084065768366377,
           0.010083476416318737,
           0.010082731176109127,
           0.0100823729466234,
           0.01008171554945711,
           0.010080833803418635,
           0.010080223703350589,
           0.010080058380192955,
           0.010078743758220007,
           0.01007822037262315,
           0.010076760196569803,
           0.010076252527238741,
           0.010076221035486525,
           0.010075788150564924,
           0.010075189991712386,
           0.010073116275119403,
           0.010072773959644,
           0.010072707112112783,
           0.010070771288265938,
           0.010067116666124585,
           0.01006578715065158,
           0.010063773392151459,
           0.010062475567685067,
           0.01006210196338,
           0.010062042978127187,
           0.010060371693064658,
           0.010060147553084854,
           0.010059298215986627,
           0.010058877554748718,
           0.010056777928202806,
           0.010056679753614399,
           0.010055543473595946,
           0.010055523791221602,
           0.010055382386641287,
           0.01005529188101927,
           0.010054658920318933,
           0.01005422270845806,
           0.010053919913653305,
           0.010053735125714572,
           0.010053251669087687,
           0.010053169077489491,
           0.01005279564599386,
           0.010052378991777926,
           0.010049619823061613,
           0.01004957659943168,
           0.010048142126301602,
           0.010047576235549957,
           0.010047548739753956,
           0.010047509471683043,
           0.010047478024878903,
           0.010047218631125263,
           0.010046464175339298,
           0.010045984844371305,
           0.010045980812565584,
           0.010045772555003914,
           0.01004562323653371,
           0.010045446426253947,
           0.01004416550487866,
           0.010043804010778474,
           0.01004325396227675,
           0.010043104662525736,
           0.010042947544454879,
           0.010042688209189472,
           0.010042645000468637,
           0.010042314972405738,
           0.010041717807978244,
           0.010041482107114585,
           0.010041226740640095,
           0.010041183535063366,
           0.010040747534632579,
           0.010040719967202348,
           0.010040441397983527,
           0.010040409638329622,
           0.010040095364605005,
           0.010039840015764469,
           0.010039749742066848,
           0.010039690741391015,
           0.010039541468127288,
           0.010039498266176426,
           0.010038779563809573,
           0.010037844570401314,
           0.010037565717206345,
           0.01003738107962201,
           0.010036831207026599,
           0.010036638759224776,
           0.010036383454344065,
           0.010036234205669348,
           0.010035798312705927,
           0.010035519406976893,
           0.0100352798301695,
           0.01003485177420619,
           0.010034498344839932,
           0.01003429802238973,
           0.01003379150477951,
           0.010033642194427388,
           0.01003349296613645,
           0.010033453725541732,
           0.01003341835240713,
           0.010033343738955241,
           0.010032986387897756,
           0.010032837164483754,
           0.010032809688862344,
           0.010032731777052198,
           0.010032534853771083,
           0.010031780868563538,
           0.010031749446382833,
           0.010031663076111075,
           0.010031600232167835,
           0.010031168306798037,
           0.01003101909690511,
           0.010030917019345118,
           0.010030885598517345,
           0.010030756048827368,
           0.010030602894220492,
           0.010030500818778204,
           0.010030379086105087,
           0.010030292721732734,
           0.010030037497578298,
           0.010029947187025497,
           0.010029904005722548,
           0.010029648786513697,
           0.010029589896460061,
           0.010028788976522597,
           0.010028667254237629,
           0.010028427759235022,
           0.010028396423235856,
           0.010028325694860885,
           0.010027772123140054,
           0.010027638646360377,
           0.010027265689342804,
           0.010027226460927302,
           0.0100270576258589,
           0.0100270576258589,
           0.010026837804337484,
           0.010026833857299166,
           0.010026833857299166,
           0.010026833857299166,
           0.010026716093894094,
           0.010026417741450577,
           0.01002640203455432,
           0.010025883875718821,
           0.01002570329242301,
           0.010025687586086374,
           0.010025644413953703,
           0.010025538416961006,
           0.01002538924894537,
           0.010025122327994098,
           0.010025032039572175,
           0.010024973163073957,
           0.010024674836562865,
           0.010024392219800322,
           0.010024243060311983,
           0.010024019323160216,
           0.010024019323160216,
           0.010023885871359176,
           0.01002378383010026,
           0.010023709252480575,
           0.010023512984137084,
           0.010023379535706594,
           0.010023230383752668,
           0.010023187216910874,
           0.010022814342684054,
           0.01002259062147715,
           0.010022366902767135,
           0.010022284519037342,
           0.010022268815378871,
           0.0100220254506978,
           0.010021935176222562,
           0.010021801738295623,
           0.010021727168049763,
           0.010021636894917944,
           0.010021636894917944,
           0.010021503458976776,
           0.010021279752400677,
           0.010021205184096842,
           0.010021205184096842,
           0.010021205184096842,
           0.010021205184096842,
           0.010021205184096842,
           0.010021205184096842,
           0.010021205184096842,
           0.01002110315648332,
           0.010020997183499823,
           0.010020969724095517,
           0.010020938318851067,
           0.010020938318851067,
           0.010020903048684466,
           0.0100208794543752,
           0.010020828643580462,
           0.01002080488756069,
           0.01002080488756069,
           0.010020565486457796,
           0.010020565486457796,
           0.010020432057649629,
           0.010020416355442515,
           0.010020357492499713,
           0.010020341790351021,
           0.010020341790351021,
           0.010020341790351021,
           0.01002033003397186,
           0.010020298629729805,
           0.010020267225536962,
           0.010020059234674373
          ],
          "sizemode": "area",
          "sizeref": 0.00008181256417723073,
          "symbol": "circle"
         },
         "mode": "markers+text",
         "name": "",
         "orientation": "v",
         "showlegend": false,
         "text": [
          "s.",
          "p",
          "&",
          "station",
          "r.",
          "m.",
          "sta.",
          "railway",
          "l.",
          "works",
          "line",
          "dock",
          "road",
          "c.",
          "ps.",
          "london",
          "junction",
          "branch",
          "w.",
          "e.",
          "south",
          "s..",
          "rd.",
          "goods",
          "ry.",
          "tramway",
          "m..",
          "wharf",
          "sta",
          "sch",
          "depot",
          "pier",
          "sp",
          "b",
          "croydon",
          "north",
          "n.",
          "warehouses",
          "dover",
          "street",
          "st",
          "shed",
          "eastern",
          "coal",
          "chatham",
          "mills",
          "tilbury",
          "kent",
          "gas",
          "west",
          "ps",
          "br.",
          "east",
          "engine",
          "way",
          "western",
          "millwall",
          "p..",
          "timber",
          "mud",
          "ry",
          "t.",
          "crystal",
          "basin",
          "wimbledon",
          "sch.",
          "ss.",
          "sheds",
          "albert",
          "st.",
          "loop",
          "crossing",
          "junc.",
          "mid",
          "p<sup>s</sup>.",
          "rail",
          "curve",
          "hotel",
          "staines",
          "southend",
          "docks",
          "woolwich",
          "extension",
          "india",
          "acton",
          "victoria",
          "spur",
          "brighton",
          "coast",
          "depöt",
          "midland",
          "junc",
          "viaduct",
          "elmers",
          "penge",
          "engineering",
          ".",
          "jetty",
          "rd",
          "iron",
          "ps</.",
          "great",
          "ferry",
          "balham",
          "a",
          "lea",
          "loughton",
          "schs.",
          "merton",
          "poplar",
          "cement",
          "chan",
          "norwood",
          "bermondsey",
          "selhurst",
          "dry",
          "palace",
          "windsor",
          "lewisham",
          "l",
          "high",
          "coldblow",
          "walthamstow",
          "dist.",
          "grays",
          "wks.",
          "granary",
          "brockley",
          "ps</s.",
          "yard",
          "main",
          "boro",
          "tanks",
          "ps<.",
          "i",
          "deptford",
          "metropolitan",
          "schools",
          "chiswick",
          "r",
          "portland",
          "epsom",
          "sp.",
          "e",
          "burdett",
          "warchouses",
          "filtering",
          "brick",
          "stratford",
          "thames",
          "ser",
          "allotment",
          "valley",
          "sidings",
          "pa",
          "ss",
          "meads",
          "engar",
          "romford",
          "brewery",
          "peckham",
          "t",
          "oil",
          "joint",
          "club",
          "company's",
          "leigham",
          "ad",
          "magazine",
          "down",
          "s",
          "o",
          "northern",
          "tulse",
          "chemical",
          "beckton",
          "chaffinch",
          "harf",
          "brentford",
          "mp",
          "woodside",
          "isle",
          "woorks",
          "tidal",
          "factory",
          "clapham",
          "locks",
          "ilford",
          "tern",
          "ger",
          "laundry",
          "chan.",
          "p<p>s</sup>.",
          "end",
          "br",
          "(inner)",
          "lucas",
          "p<sub>s</sup>.",
          "sutton",
          "honor",
          "ann",
          "ter.",
          "swing",
          "juuc.",
          "railrny",
          "connaught",
          "soap",
          "pp>s</sup>.",
          "hampton",
          "carriage",
          "honse",
          "paper",
          "spurstowe",
          "popiar",
          "lb.",
          "bromlev",
          "caxton",
          "ser.",
          "ladywell",
          "laner",
          "senega",
          "vork",
          "custom",
          "and",
          "barnes",
          "(klr)",
          "cement)",
          "wet",
          "dulwich",
          "jetties",
          "thomas",
          "ps</sup>.",
          "canal",
          "c",
          "battersea",
          "dr",
          "siding",
          "gladstone",
          "coke",
          "lonc",
          "pt",
          "longhedge",
          "lon.",
          "hornshay",
          "ce",
          "goodson",
          "dockley",
          "lowell",
          "si",
          "tottenham",
          "colour",
          "grounds",
          "fulham",
          "dolphin",
          "f",
          "leyton",
          "o.",
          "hosp",
          "chingford",
          "pi",
          "catford",
          "greenwich",
          "ger.",
          "hammersmith",
          "mackenzie",
          "arklow",
          "appold",
          "rye",
          "wandsworth",
          "slandford",
          "gallions"
         ],
         "type": "scatter",
         "x": [
          -4.7693328857421875,
          -9.606850624084473,
          -3.709242105484009,
          9.911405563354492,
          -4.683180332183838,
          -13.633831977844238,
          -5.325906276702881,
          11.050067901611328,
          -5.174947738647461,
          -3.999716281890869,
          -2.709688663482666,
          1.947420597076416,
          -3.473214864730835,
          -7.1226396560668945,
          -9.057293891906738,
          14.70189094543457,
          8.525537490844727,
          -2.4479832649230957,
          -3.502993106842041,
          -1.2685672044754028,
          5.117297172546387,
          -5.007742404937744,
          -6.47047233581543,
          0.8569692969322205,
          -6.527137756347656,
          12.822183609008789,
          -13.669517517089844,
          2.130023956298828,
          -5.27921199798584,
          -11.34593677520752,
          9.278533935546875,
          1.052271842956543,
          -13.146255493164062,
          -5.252866268157959,
          6.905343055725098,
          -11.32395076751709,
          -5.7984514236450195,
          8.180764198303223,
          -17.92156982421875,
          -3.435713529586792,
          -4.347244739532471,
          5.120523929595947,
          -7.280289649963379,
          15.886917114257812,
          -17.572650909423828,
          6.468840599060059,
          13.114676475524902,
          -18.027807235717773,
          16.051742553710938,
          17.53499412536621,
          -9.01876163482666,
          2.5045371055603027,
          -7.266581058502197,
          14.530442237854004,
          -3.025425434112549,
          17.544940948486328,
          6.027753829956055,
          -9.613525390625,
          -17.66045570373535,
          -8.894582748413086,
          -6.590660095214844,
          -9.461389541625977,
          -1.0792548656463623,
          1.381901502609253,
          14.998164176940918,
          -11.1721830368042,
          -14.663104057312012,
          5.217051982879639,
          4.037801742553711,
          -4.990480899810791,
          -3.156773090362549,
          -1.5283195972442627,
          5.481705188751221,
          0.11359236389398575,
          -11.302730560302734,
          10.789122581481934,
          -3.9531936645507812,
          13.221797943115234,
          -11.713541030883789,
          -2.6329004764556885,
          1.613951325416565,
          9.96130657196045,
          -1.8274683952331543,
          -18.815105438232422,
          12.794342041015625,
          -2.966701030731201,
          4.682450771331787,
          16.088590621948242,
          -1.5185635089874268,
          9.278533935546875,
          -0.2852761149406433,
          5.505131244659424,
          12.195538520812988,
          -6.950967788696289,
          4.988074779510498,
          9.373656272888184,
          -3.0759530067443848,
          -0.09545665234327316,
          -6.497738838195801,
          16.522216796875,
          -10.70941162109375,
          -2.277770757675171,
          0.16254208981990814,
          4.7733259201049805,
          -2.304016590118408,
          -1.2774600982666016,
          7.364743232727051,
          -10.942766189575195,
          9.214900970458984,
          7.737820148468018,
          15.58501148223877,
          -16.54898452758789,
          6.810505390167236,
          10.022995948791504,
          6.934131145477295,
          -11.229476928710938,
          13.004789352416992,
          9.368630409240723,
          9.837387084960938,
          -5.1048760414123535,
          -3.1112117767333984,
          -11.790650367736816,
          12.441325187683105,
          -9.031514167785645,
          -13.114991188049316,
          -3.1371304988861084,
          -11.176137924194336,
          5.288735866546631,
          -11.125272750854492,
          -16.305776596069336,
          -0.17569813132286072,
          0.6537396907806396,
          0.6740341782569885,
          -10.315865516662598,
          -2.42523455619812,
          11.443164825439453,
          -5.2985405921936035,
          1.0539404153823853,
          7.279148578643799,
          -4.699106216430664,
          4.061897277832031,
          10.544652938842773,
          -13.121929168701172,
          -1.165969729423523,
          4.573315143585205,
          -8.966891288757324,
          -12.514749526977539,
          14.400489807128906,
          3.4840476512908936,
          13.714719772338867,
          -6.988954067230225,
          2.573455810546875,
          0.9622171521186829,
          11.056242942810059,
          -10.488656044006348,
          -14.693866729736328,
          0.2380744069814682,
          0.837979793548584,
          11.027791023254395,
          6.996923923492432,
          8.68269157409668,
          -9.225780487060547,
          15.910663604736328,
          -0.670272707939148,
          -1.8559813499450684,
          6.11552619934082,
          4.485632419586182,
          12.063199043273926,
          9.284845352172852,
          -10.118300437927246,
          -3.994224786758423,
          -1.3901630640029907,
          -11.326789855957031,
          1.8917226791381836,
          17.129932403564453,
          6.186789512634277,
          -9.03620719909668,
          -0.20687679946422577,
          17.28179359436035,
          -15.401406288146973,
          -17.197223663330078,
          -3.139075517654419,
          -6.432381629943848,
          -8.146549224853516,
          8.369483947753906,
          9.10069465637207,
          2.5147242546081543,
          11.764513969421387,
          -15.01462173461914,
          2.2692248821258545,
          3.660376787185669,
          -16.532634735107422,
          -11.469740867614746,
          -10.8828125,
          2.49056339263916,
          0.9139759540557861,
          6.002218723297119,
          -10.827668190002441,
          9.511845588684082,
          -1.5911853313446045,
          -2.9463140964508057,
          -8.269715309143066,
          1.7531253099441528,
          4.866502285003662,
          10.405899047851562,
          -8.181905746459961,
          3.0265626907348633,
          -11.57939624786377,
          3.104182481765747,
          12.894039154052734,
          0.5181566476821899,
          8.391188621520996,
          5.014359951019287,
          6.872408390045166,
          -5.215549945831299,
          3.591259002685547,
          6.95437479019165,
          -6.954593658447266,
          -2.4851911067962646,
          -3.4982926845550537,
          3.924851179122925,
          1.7963515520095825,
          0.6629595756530762,
          -3.053347110748291,
          0.7550117373466492,
          3.0737786293029785,
          15.609106063842773,
          -3.9827775955200195,
          9.794586181640625,
          -0.12086941301822662,
          9.486322402954102,
          -10.659330368041992,
          1.9239387512207031,
          -7.181905269622803,
          11.6691255569458,
          -13.021657943725586,
          11.008500099182129,
          10.286993980407715,
          16.36553955078125,
          2.50484299659729,
          -7.790055274963379,
          6.108452320098877,
          1.915574073791504,
          4.9728569984436035,
          4.366307735443115,
          1.1878290176391602,
          4.110945701599121,
          3.3264987468719482,
          -2.4488320350646973,
          14.826848030090332,
          -5.247128963470459,
          -7.215376377105713,
          16.617849349975586,
          -0.699776828289032,
          -5.463499069213867,
          10.892061233520508,
          -1.4693984985351562,
          -0.11395341157913208,
          11.939194679260254,
          -2.4601643085479736,
          -3.8998634815216064,
          10.407574653625488,
          2.132460355758667,
          16.283308029174805,
          -8.573983192443848,
          2.733776807785034,
          -0.9392971396446228,
          4.808972358703613,
          13.82912540435791,
          6.917166709899902,
          -9.845074653625488
         ],
         "xaxis": "x",
         "y": [
          2.599520206451416,
          4.660958766937256,
          0.4594014585018158,
          6.1971330642700195,
          -1.540212869644165,
          -1.0824604034423828,
          8.721882820129395,
          5.982724189758301,
          -3.9208872318267822,
          6.14220666885376,
          2.6884403228759766,
          15.854464530944824,
          -13.227718353271484,
          1.3510406017303467,
          7.170747756958008,
          -14.51346206665039,
          5.6580586433410645,
          4.651126384735107,
          -2.736506938934326,
          2.05120587348938,
          -18.127607345581055,
          2.8381292819976807,
          -11.160102844238281,
          -8.169790267944336,
          -2.1272494792938232,
          5.611755847930908,
          -1.0771923065185547,
          16.561683654785156,
          8.546853065490723,
          1.1003321409225464,
          7.922122955322266,
          17.1201229095459,
          4.327147960662842,
          0.8472960591316223,
          -16.568561553955078,
          -13.017215728759766,
          2.275911331176758,
          11.11291217803955,
          3.028695821762085,
          -13.233769416809082,
          8.547179222106934,
          11.433348655700684,
          -15.015070915222168,
          10.987850189208984,
          2.0774669647216797,
          13.662031173706055,
          -12.722267150878906,
          3.1851885318756104,
          9.380504608154297,
          -2.230294942855835,
          7.137993812561035,
          4.859251976013184,
          -15.01427936553955,
          8.653340339660645,
          -0.21636579930782318,
          -2.227320909500122,
          14.397783279418945,
          4.599785327911377,
          -6.335925579071045,
          -8.679793357849121,
          -2.0979793071746826,
          -1.92359459400177,
          -6.994110584259033,
          11.323801040649414,
          -10.681839942932129,
          1.143387794494629,
          7.2253923416137695,
          11.41746997833252,
          0.7705543041229248,
          9.527700424194336,
          3.5022714138031006,
          3.5681540966033936,
          4.603771686553955,
          0.7135694026947021,
          11.947515487670898,
          5.5700883865356445,
          -5.48097562789917,
          -4.703275680541992,
          -7.411172866821289,
          10.16829776763916,
          16.17535400390625,
          -10.95699691772461,
          5.614143371582031,
          4.189417839050293,
          -8.938907623291016,
          -19.095922470092773,
          -1.125910997390747,
          -7.8609089851379395,
          8.058517456054688,
          7.922122955322266,
          -12.437848091125488,
          4.606296539306641,
          2.266976833343506,
          -7.259403705596924,
          -3.369205951690674,
          12.879266738891602,
          0.9339398145675659,
          14.97784423828125,
          -11.204113960266113,
          2.7677175998687744,
          9.563203811645508,
          -9.461517333984375,
          17.476606369018555,
          -7.770674228668213,
          1.2299425601959229,
          -3.2143259048461914,
          -6.25448751449585,
          1.4408780336380005,
          -3.878584146499634,
          -0.791754961013794,
          2.0980992317199707,
          11.646100997924805,
          -16.795209884643555,
          -12.693281173706055,
          -15.511125564575195,
          -1.8195377588272095,
          -4.947493553161621,
          -8.238173484802246,
          -14.096978187561035,
          -3.893362045288086,
          -9.814358711242676,
          -10.610711097717285,
          -12.041421890258789,
          -3.4145572185516357,
          -3.961803674697876,
          -2.6866872310638428,
          -5.16623592376709,
          -5.841482639312744,
          9.68102741241455,
          -5.302225112915039,
          2.666494369506836,
          -2.7080166339874268,
          12.143294334411621,
          9.033973693847656,
          0.3166230618953705,
          -12.05077838897705,
          10.957120895385742,
          -16.70220375061035,
          -9.681774139404297,
          -1.4787060022354126,
          16.523910522460938,
          -12.907123565673828,
          4.333542823791504,
          2.161358118057251,
          -6.873194694519043,
          -6.976040840148926,
          -7.545331001281738,
          0.8008627891540527,
          8.937331199645996,
          -15.272882461547852,
          4.730151653289795,
          -8.439675331115723,
          10.285625457763672,
          8.61888313293457,
          5.827142715454102,
          7.229397296905518,
          -5.504846572875977,
          -3.729948043823242,
          -9.489850997924805,
          9.656651496887207,
          -12.403546333312988,
          -1.888258457183838,
          10.663792610168457,
          5.0665178298950195,
          -5.291807651519775,
          8.532920837402344,
          -4.533912181854248,
          0.9101364612579346,
          1.6174812316894531,
          -3.222012996673584,
          1.9634339809417725,
          -1.679823637008667,
          -13.028521537780762,
          -5.255938529968262,
          8.071534156799316,
          -4.5075764656066895,
          -5.791280746459961,
          -3.8333442211151123,
          -12.950042724609375,
          -1.52996027469635,
          -6.001655101776123,
          9.171615600585938,
          -6.2222113609313965,
          -18.293731689453125,
          11.584510803222656,
          -13.412457466125488,
          2.566439628601074,
          -9.443405151367188,
          -10.941130638122559,
          0.18487997353076935,
          -14.413437843322754,
          11.635323524475098,
          12.250971794128418,
          -2.710308074951172,
          4.788098335266113,
          1.6736630201339722,
          2.0628974437713623,
          12.174181938171387,
          -4.936259746551514,
          -9.699357032775879,
          -18.295747756958008,
          2.99898099899292,
          -11.104619026184082,
          0.63937908411026,
          3.44368314743042,
          -5.471432209014893,
          -14.134108543395996,
          11.197123527526855,
          -10.319649696350098,
          7.578223705291748,
          -0.39792969822883606,
          1.7594308853149414,
          -2.026169776916504,
          -0.8236819505691528,
          4.620296478271484,
          -7.009584426879883,
          -3.2563061714172363,
          4.644782543182373,
          -18.08597183227539,
          -6.575240135192871,
          -0.8349934816360474,
          -3.57840633392334,
          6.839571475982666,
          0.5671329498291016,
          3.8629894256591797,
          -3.7636547088623047,
          2.1314120292663574,
          -7.491786003112793,
          -10.546687126159668,
          14.964441299438477,
          -2.886368751525879,
          10.412368774414062,
          11.990839004516602,
          1.258928656578064,
          -13.347580909729004,
          1.573320746421814,
          8.657469749450684,
          -2.1301660537719727,
          9.206269264221191,
          -1.7709190845489502,
          7.218802452087402,
          -8.056662559509277,
          -1.9583173990249634,
          -8.947617530822754,
          2.1531362533569336,
          -7.356235980987549,
          7.8201398849487305,
          7.988638877868652,
          -1.1156837940216064,
          -13.72065258026123,
          -8.586800575256348,
          -0.8452366590499878,
          -14.19171142578125,
          18.11065673828125,
          -0.21056845784187317,
          -8.140790939331055,
          -1.7983307838439941,
          -0.921760082244873,
          -11.21923828125,
          -4.42263126373291,
          -18.395835876464844,
          -15.088322639465332,
          0.2332027107477188,
          -14.392354965209961,
          0.25040289759635925,
          -5.716803073883057,
          -0.12821486592292786,
          -10.810007095336914,
          -11.616819381713867,
          -7.090684413909912,
          -7.743628025054932
         ],
         "yaxis": "y"
        }
       ],
       "layout": {
        "height": 1000,
        "legend": {
         "itemsizing": "constant",
         "tracegroupgap": 0
        },
        "margin": {
         "t": 60
        },
        "template": {
         "data": {
          "bar": [
           {
            "error_x": {
             "color": "#2a3f5f"
            },
            "error_y": {
             "color": "#2a3f5f"
            },
            "marker": {
             "line": {
              "color": "#E5ECF6",
              "width": 0.5
             },
             "pattern": {
              "fillmode": "overlay",
              "size": 10,
              "solidity": 0.2
             }
            },
            "type": "bar"
           }
          ],
          "barpolar": [
           {
            "marker": {
             "line": {
              "color": "#E5ECF6",
              "width": 0.5
             },
             "pattern": {
              "fillmode": "overlay",
              "size": 10,
              "solidity": 0.2
             }
            },
            "type": "barpolar"
           }
          ],
          "carpet": [
           {
            "aaxis": {
             "endlinecolor": "#2a3f5f",
             "gridcolor": "white",
             "linecolor": "white",
             "minorgridcolor": "white",
             "startlinecolor": "#2a3f5f"
            },
            "baxis": {
             "endlinecolor": "#2a3f5f",
             "gridcolor": "white",
             "linecolor": "white",
             "minorgridcolor": "white",
             "startlinecolor": "#2a3f5f"
            },
            "type": "carpet"
           }
          ],
          "choropleth": [
           {
            "colorbar": {
             "outlinewidth": 0,
             "ticks": ""
            },
            "type": "choropleth"
           }
          ],
          "contour": [
           {
            "colorbar": {
             "outlinewidth": 0,
             "ticks": ""
            },
            "colorscale": [
             [
              0,
              "#0d0887"
             ],
             [
              0.1111111111111111,
              "#46039f"
             ],
             [
              0.2222222222222222,
              "#7201a8"
             ],
             [
              0.3333333333333333,
              "#9c179e"
             ],
             [
              0.4444444444444444,
              "#bd3786"
             ],
             [
              0.5555555555555556,
              "#d8576b"
             ],
             [
              0.6666666666666666,
              "#ed7953"
             ],
             [
              0.7777777777777778,
              "#fb9f3a"
             ],
             [
              0.8888888888888888,
              "#fdca26"
             ],
             [
              1,
              "#f0f921"
             ]
            ],
            "type": "contour"
           }
          ],
          "contourcarpet": [
           {
            "colorbar": {
             "outlinewidth": 0,
             "ticks": ""
            },
            "type": "contourcarpet"
           }
          ],
          "heatmap": [
           {
            "colorbar": {
             "outlinewidth": 0,
             "ticks": ""
            },
            "colorscale": [
             [
              0,
              "#0d0887"
             ],
             [
              0.1111111111111111,
              "#46039f"
             ],
             [
              0.2222222222222222,
              "#7201a8"
             ],
             [
              0.3333333333333333,
              "#9c179e"
             ],
             [
              0.4444444444444444,
              "#bd3786"
             ],
             [
              0.5555555555555556,
              "#d8576b"
             ],
             [
              0.6666666666666666,
              "#ed7953"
             ],
             [
              0.7777777777777778,
              "#fb9f3a"
             ],
             [
              0.8888888888888888,
              "#fdca26"
             ],
             [
              1,
              "#f0f921"
             ]
            ],
            "type": "heatmap"
           }
          ],
          "heatmapgl": [
           {
            "colorbar": {
             "outlinewidth": 0,
             "ticks": ""
            },
            "colorscale": [
             [
              0,
              "#0d0887"
             ],
             [
              0.1111111111111111,
              "#46039f"
             ],
             [
              0.2222222222222222,
              "#7201a8"
             ],
             [
              0.3333333333333333,
              "#9c179e"
             ],
             [
              0.4444444444444444,
              "#bd3786"
             ],
             [
              0.5555555555555556,
              "#d8576b"
             ],
             [
              0.6666666666666666,
              "#ed7953"
             ],
             [
              0.7777777777777778,
              "#fb9f3a"
             ],
             [
              0.8888888888888888,
              "#fdca26"
             ],
             [
              1,
              "#f0f921"
             ]
            ],
            "type": "heatmapgl"
           }
          ],
          "histogram": [
           {
            "marker": {
             "pattern": {
              "fillmode": "overlay",
              "size": 10,
              "solidity": 0.2
             }
            },
            "type": "histogram"
           }
          ],
          "histogram2d": [
           {
            "colorbar": {
             "outlinewidth": 0,
             "ticks": ""
            },
            "colorscale": [
             [
              0,
              "#0d0887"
             ],
             [
              0.1111111111111111,
              "#46039f"
             ],
             [
              0.2222222222222222,
              "#7201a8"
             ],
             [
              0.3333333333333333,
              "#9c179e"
             ],
             [
              0.4444444444444444,
              "#bd3786"
             ],
             [
              0.5555555555555556,
              "#d8576b"
             ],
             [
              0.6666666666666666,
              "#ed7953"
             ],
             [
              0.7777777777777778,
              "#fb9f3a"
             ],
             [
              0.8888888888888888,
              "#fdca26"
             ],
             [
              1,
              "#f0f921"
             ]
            ],
            "type": "histogram2d"
           }
          ],
          "histogram2dcontour": [
           {
            "colorbar": {
             "outlinewidth": 0,
             "ticks": ""
            },
            "colorscale": [
             [
              0,
              "#0d0887"
             ],
             [
              0.1111111111111111,
              "#46039f"
             ],
             [
              0.2222222222222222,
              "#7201a8"
             ],
             [
              0.3333333333333333,
              "#9c179e"
             ],
             [
              0.4444444444444444,
              "#bd3786"
             ],
             [
              0.5555555555555556,
              "#d8576b"
             ],
             [
              0.6666666666666666,
              "#ed7953"
             ],
             [
              0.7777777777777778,
              "#fb9f3a"
             ],
             [
              0.8888888888888888,
              "#fdca26"
             ],
             [
              1,
              "#f0f921"
             ]
            ],
            "type": "histogram2dcontour"
           }
          ],
          "mesh3d": [
           {
            "colorbar": {
             "outlinewidth": 0,
             "ticks": ""
            },
            "type": "mesh3d"
           }
          ],
          "parcoords": [
           {
            "line": {
             "colorbar": {
              "outlinewidth": 0,
              "ticks": ""
             }
            },
            "type": "parcoords"
           }
          ],
          "pie": [
           {
            "automargin": true,
            "type": "pie"
           }
          ],
          "scatter": [
           {
            "fillpattern": {
             "fillmode": "overlay",
             "size": 10,
             "solidity": 0.2
            },
            "type": "scatter"
           }
          ],
          "scatter3d": [
           {
            "line": {
             "colorbar": {
              "outlinewidth": 0,
              "ticks": ""
             }
            },
            "marker": {
             "colorbar": {
              "outlinewidth": 0,
              "ticks": ""
             }
            },
            "type": "scatter3d"
           }
          ],
          "scattercarpet": [
           {
            "marker": {
             "colorbar": {
              "outlinewidth": 0,
              "ticks": ""
             }
            },
            "type": "scattercarpet"
           }
          ],
          "scattergeo": [
           {
            "marker": {
             "colorbar": {
              "outlinewidth": 0,
              "ticks": ""
             }
            },
            "type": "scattergeo"
           }
          ],
          "scattergl": [
           {
            "marker": {
             "colorbar": {
              "outlinewidth": 0,
              "ticks": ""
             }
            },
            "type": "scattergl"
           }
          ],
          "scattermapbox": [
           {
            "marker": {
             "colorbar": {
              "outlinewidth": 0,
              "ticks": ""
             }
            },
            "type": "scattermapbox"
           }
          ],
          "scatterpolar": [
           {
            "marker": {
             "colorbar": {
              "outlinewidth": 0,
              "ticks": ""
             }
            },
            "type": "scatterpolar"
           }
          ],
          "scatterpolargl": [
           {
            "marker": {
             "colorbar": {
              "outlinewidth": 0,
              "ticks": ""
             }
            },
            "type": "scatterpolargl"
           }
          ],
          "scatterternary": [
           {
            "marker": {
             "colorbar": {
              "outlinewidth": 0,
              "ticks": ""
             }
            },
            "type": "scatterternary"
           }
          ],
          "surface": [
           {
            "colorbar": {
             "outlinewidth": 0,
             "ticks": ""
            },
            "colorscale": [
             [
              0,
              "#0d0887"
             ],
             [
              0.1111111111111111,
              "#46039f"
             ],
             [
              0.2222222222222222,
              "#7201a8"
             ],
             [
              0.3333333333333333,
              "#9c179e"
             ],
             [
              0.4444444444444444,
              "#bd3786"
             ],
             [
              0.5555555555555556,
              "#d8576b"
             ],
             [
              0.6666666666666666,
              "#ed7953"
             ],
             [
              0.7777777777777778,
              "#fb9f3a"
             ],
             [
              0.8888888888888888,
              "#fdca26"
             ],
             [
              1,
              "#f0f921"
             ]
            ],
            "type": "surface"
           }
          ],
          "table": [
           {
            "cells": {
             "fill": {
              "color": "#EBF0F8"
             },
             "line": {
              "color": "white"
             }
            },
            "header": {
             "fill": {
              "color": "#C8D4E3"
             },
             "line": {
              "color": "white"
             }
            },
            "type": "table"
           }
          ]
         },
         "layout": {
          "annotationdefaults": {
           "arrowcolor": "#2a3f5f",
           "arrowhead": 0,
           "arrowwidth": 1
          },
          "autotypenumbers": "strict",
          "coloraxis": {
           "colorbar": {
            "outlinewidth": 0,
            "ticks": ""
           }
          },
          "colorscale": {
           "diverging": [
            [
             0,
             "#8e0152"
            ],
            [
             0.1,
             "#c51b7d"
            ],
            [
             0.2,
             "#de77ae"
            ],
            [
             0.3,
             "#f1b6da"
            ],
            [
             0.4,
             "#fde0ef"
            ],
            [
             0.5,
             "#f7f7f7"
            ],
            [
             0.6,
             "#e6f5d0"
            ],
            [
             0.7,
             "#b8e186"
            ],
            [
             0.8,
             "#7fbc41"
            ],
            [
             0.9,
             "#4d9221"
            ],
            [
             1,
             "#276419"
            ]
           ],
           "sequential": [
            [
             0,
             "#0d0887"
            ],
            [
             0.1111111111111111,
             "#46039f"
            ],
            [
             0.2222222222222222,
             "#7201a8"
            ],
            [
             0.3333333333333333,
             "#9c179e"
            ],
            [
             0.4444444444444444,
             "#bd3786"
            ],
            [
             0.5555555555555556,
             "#d8576b"
            ],
            [
             0.6666666666666666,
             "#ed7953"
            ],
            [
             0.7777777777777778,
             "#fb9f3a"
            ],
            [
             0.8888888888888888,
             "#fdca26"
            ],
            [
             1,
             "#f0f921"
            ]
           ],
           "sequentialminus": [
            [
             0,
             "#0d0887"
            ],
            [
             0.1111111111111111,
             "#46039f"
            ],
            [
             0.2222222222222222,
             "#7201a8"
            ],
            [
             0.3333333333333333,
             "#9c179e"
            ],
            [
             0.4444444444444444,
             "#bd3786"
            ],
            [
             0.5555555555555556,
             "#d8576b"
            ],
            [
             0.6666666666666666,
             "#ed7953"
            ],
            [
             0.7777777777777778,
             "#fb9f3a"
            ],
            [
             0.8888888888888888,
             "#fdca26"
            ],
            [
             1,
             "#f0f921"
            ]
           ]
          },
          "colorway": [
           "#636efa",
           "#EF553B",
           "#00cc96",
           "#ab63fa",
           "#FFA15A",
           "#19d3f3",
           "#FF6692",
           "#B6E880",
           "#FF97FF",
           "#FECB52"
          ],
          "font": {
           "color": "#2a3f5f"
          },
          "geo": {
           "bgcolor": "white",
           "lakecolor": "white",
           "landcolor": "#E5ECF6",
           "showlakes": true,
           "showland": true,
           "subunitcolor": "white"
          },
          "hoverlabel": {
           "align": "left"
          },
          "hovermode": "closest",
          "mapbox": {
           "style": "light"
          },
          "paper_bgcolor": "white",
          "plot_bgcolor": "#E5ECF6",
          "polar": {
           "angularaxis": {
            "gridcolor": "white",
            "linecolor": "white",
            "ticks": ""
           },
           "bgcolor": "#E5ECF6",
           "radialaxis": {
            "gridcolor": "white",
            "linecolor": "white",
            "ticks": ""
           }
          },
          "scene": {
           "xaxis": {
            "backgroundcolor": "#E5ECF6",
            "gridcolor": "white",
            "gridwidth": 2,
            "linecolor": "white",
            "showbackground": true,
            "ticks": "",
            "zerolinecolor": "white"
           },
           "yaxis": {
            "backgroundcolor": "#E5ECF6",
            "gridcolor": "white",
            "gridwidth": 2,
            "linecolor": "white",
            "showbackground": true,
            "ticks": "",
            "zerolinecolor": "white"
           },
           "zaxis": {
            "backgroundcolor": "#E5ECF6",
            "gridcolor": "white",
            "gridwidth": 2,
            "linecolor": "white",
            "showbackground": true,
            "ticks": "",
            "zerolinecolor": "white"
           }
          },
          "shapedefaults": {
           "line": {
            "color": "#2a3f5f"
           }
          },
          "ternary": {
           "aaxis": {
            "gridcolor": "white",
            "linecolor": "white",
            "ticks": ""
           },
           "baxis": {
            "gridcolor": "white",
            "linecolor": "white",
            "ticks": ""
           },
           "bgcolor": "#E5ECF6",
           "caxis": {
            "gridcolor": "white",
            "linecolor": "white",
            "ticks": ""
           }
          },
          "title": {
           "x": 0.05
          },
          "xaxis": {
           "automargin": true,
           "gridcolor": "white",
           "linecolor": "white",
           "ticks": "",
           "title": {
            "standoff": 15
           },
           "zerolinecolor": "white",
           "zerolinewidth": 2
          },
          "yaxis": {
           "automargin": true,
           "gridcolor": "white",
           "linecolor": "white",
           "ticks": "",
           "title": {
            "standoff": 15
           },
           "zerolinecolor": "white",
           "zerolinewidth": 2
          }
         }
        },
        "width": 1000,
        "xaxis": {
         "anchor": "y",
         "domain": [
          0,
          1
         ],
         "title": {
          "text": "x"
         }
        },
        "yaxis": {
         "anchor": "x",
         "domain": [
          0,
          1
         ],
         "title": {
          "text": "y"
         }
        }
       }
      }
     },
     "metadata": {},
     "output_type": "display_data"
    }
   ],
   "source": [
    "# visualize the labels in 2D scatter plot using the probability difference as size\n",
    "data = pd.DataFrame(embeddings_tsne, columns=['x','y'])\n",
    "data['text'] = railspace_labels\n",
    "data['size'] = [(dict(proportional_difference)[w]+.1)**2 for w in railspace_labels]\n",
    "fig = px.scatter(data, x=\"x\", y=\"y\", text='text', size='size', width=1000, height=1000,)\n",
    "fig.show()"
   ]
  },
  {
   "cell_type": "code",
   "execution_count": 223,
   "metadata": {},
   "outputs": [],
   "source": [
    "# create a railspaces embedding, feel free to add other labels\n",
    "railspace_sentence_embeddings\n",
    "railspace = model.encode(['rail train'])"
   ]
  },
  {
   "cell_type": "code",
   "execution_count": 224,
   "metadata": {},
   "outputs": [],
   "source": [
    "# compute the cosine distance between the railspaces labels and the labels\n",
    "data['sem_dist_to_rail'] = cosine_distances(railspace_sentence_embeddings, railspace.reshape(1, -1))"
   ]
  },
  {
   "cell_type": "code",
   "execution_count": 184,
   "metadata": {},
   "outputs": [
    {
     "data": {
      "text/html": [
       "<div>\n",
       "<style scoped>\n",
       "    .dataframe tbody tr th:only-of-type {\n",
       "        vertical-align: middle;\n",
       "    }\n",
       "\n",
       "    .dataframe tbody tr th {\n",
       "        vertical-align: top;\n",
       "    }\n",
       "\n",
       "    .dataframe thead th {\n",
       "        text-align: right;\n",
       "    }\n",
       "</style>\n",
       "<table border=\"1\" class=\"dataframe\">\n",
       "  <thead>\n",
       "    <tr style=\"text-align: right;\">\n",
       "      <th></th>\n",
       "      <th>x</th>\n",
       "      <th>y</th>\n",
       "      <th>text</th>\n",
       "      <th>size</th>\n",
       "      <th>sem_dist_to_rail</th>\n",
       "    </tr>\n",
       "  </thead>\n",
       "  <tbody>\n",
       "    <tr>\n",
       "      <th>7</th>\n",
       "      <td>11.050068</td>\n",
       "      <td>5.982724</td>\n",
       "      <td>railway</td>\n",
       "      <td>0.010669</td>\n",
       "      <td>0.107692</td>\n",
       "    </tr>\n",
       "    <tr>\n",
       "      <th>75</th>\n",
       "      <td>10.789123</td>\n",
       "      <td>5.570088</td>\n",
       "      <td>rail</td>\n",
       "      <td>0.010080</td>\n",
       "      <td>0.142035</td>\n",
       "    </tr>\n",
       "    <tr>\n",
       "      <th>3</th>\n",
       "      <td>9.911406</td>\n",
       "      <td>6.197133</td>\n",
       "      <td>station</td>\n",
       "      <td>0.011630</td>\n",
       "      <td>0.231325</td>\n",
       "    </tr>\n",
       "    <tr>\n",
       "      <th>209</th>\n",
       "      <td>12.894039</td>\n",
       "      <td>7.578224</td>\n",
       "      <td>carriage</td>\n",
       "      <td>0.010026</td>\n",
       "      <td>0.293032</td>\n",
       "    </tr>\n",
       "    <tr>\n",
       "      <th>236</th>\n",
       "      <td>11.008500</td>\n",
       "      <td>8.657470</td>\n",
       "      <td>siding</td>\n",
       "      <td>0.010022</td>\n",
       "      <td>0.318597</td>\n",
       "    </tr>\n",
       "    <tr>\n",
       "      <th>30</th>\n",
       "      <td>9.278534</td>\n",
       "      <td>7.922123</td>\n",
       "      <td>depot</td>\n",
       "      <td>0.010203</td>\n",
       "      <td>0.319913</td>\n",
       "    </tr>\n",
       "    <tr>\n",
       "      <th>89</th>\n",
       "      <td>9.278534</td>\n",
       "      <td>7.922123</td>\n",
       "      <td>depöt</td>\n",
       "      <td>0.010064</td>\n",
       "      <td>0.319913</td>\n",
       "    </tr>\n",
       "    <tr>\n",
       "      <th>153</th>\n",
       "      <td>11.056243</td>\n",
       "      <td>8.618883</td>\n",
       "      <td>sidings</td>\n",
       "      <td>0.010036</td>\n",
       "      <td>0.326942</td>\n",
       "    </tr>\n",
       "    <tr>\n",
       "      <th>204</th>\n",
       "      <td>10.405899</td>\n",
       "      <td>3.443683</td>\n",
       "      <td>railrny</td>\n",
       "      <td>0.010027</td>\n",
       "      <td>0.350889</td>\n",
       "    </tr>\n",
       "    <tr>\n",
       "      <th>16</th>\n",
       "      <td>8.525537</td>\n",
       "      <td>5.658059</td>\n",
       "      <td>junction</td>\n",
       "      <td>0.010403</td>\n",
       "      <td>0.366471</td>\n",
       "    </tr>\n",
       "    <tr>\n",
       "      <th>43</th>\n",
       "      <td>15.886917</td>\n",
       "      <td>10.987850</td>\n",
       "      <td>coal</td>\n",
       "      <td>0.010154</td>\n",
       "      <td>0.367229</td>\n",
       "    </tr>\n",
       "    <tr>\n",
       "      <th>25</th>\n",
       "      <td>12.822184</td>\n",
       "      <td>5.611756</td>\n",
       "      <td>tramway</td>\n",
       "      <td>0.010236</td>\n",
       "      <td>0.372523</td>\n",
       "    </tr>\n",
       "    <tr>\n",
       "      <th>162</th>\n",
       "      <td>15.910664</td>\n",
       "      <td>10.663793</td>\n",
       "      <td>oil</td>\n",
       "      <td>0.010034</td>\n",
       "      <td>0.412238</td>\n",
       "    </tr>\n",
       "    <tr>\n",
       "      <th>84</th>\n",
       "      <td>12.794342</td>\n",
       "      <td>-8.938908</td>\n",
       "      <td>acton</td>\n",
       "      <td>0.010073</td>\n",
       "      <td>0.426879</td>\n",
       "    </tr>\n",
       "    <tr>\n",
       "      <th>136</th>\n",
       "      <td>-5.298541</td>\n",
       "      <td>10.957121</td>\n",
       "      <td>metropolitan</td>\n",
       "      <td>0.010041</td>\n",
       "      <td>0.428845</td>\n",
       "    </tr>\n",
       "    <tr>\n",
       "      <th>55</th>\n",
       "      <td>17.544941</td>\n",
       "      <td>-2.227321</td>\n",
       "      <td>western</td>\n",
       "      <td>0.010111</td>\n",
       "      <td>0.431744</td>\n",
       "    </tr>\n",
       "    <tr>\n",
       "      <th>141</th>\n",
       "      <td>10.544653</td>\n",
       "      <td>-12.907124</td>\n",
       "      <td>epsom</td>\n",
       "      <td>0.010040</td>\n",
       "      <td>0.433369</td>\n",
       "    </tr>\n",
       "    <tr>\n",
       "      <th>48</th>\n",
       "      <td>16.051743</td>\n",
       "      <td>9.380505</td>\n",
       "      <td>gas</td>\n",
       "      <td>0.010121</td>\n",
       "      <td>0.437602</td>\n",
       "    </tr>\n",
       "    <tr>\n",
       "      <th>71</th>\n",
       "      <td>-1.528320</td>\n",
       "      <td>3.568154</td>\n",
       "      <td>crossing</td>\n",
       "      <td>0.010082</td>\n",
       "      <td>0.441916</td>\n",
       "    </tr>\n",
       "    <tr>\n",
       "      <th>239</th>\n",
       "      <td>2.504843</td>\n",
       "      <td>-1.770919</td>\n",
       "      <td>lonc</td>\n",
       "      <td>0.010022</td>\n",
       "      <td>0.442073</td>\n",
       "    </tr>\n",
       "  </tbody>\n",
       "</table>\n",
       "</div>"
      ],
      "text/plain": [
       "             x          y          text      size  sem_dist_to_rail\n",
       "7    11.050068   5.982724       railway  0.010669          0.107692\n",
       "75   10.789123   5.570088          rail  0.010080          0.142035\n",
       "3     9.911406   6.197133       station  0.011630          0.231325\n",
       "209  12.894039   7.578224      carriage  0.010026          0.293032\n",
       "236  11.008500   8.657470        siding  0.010022          0.318597\n",
       "30    9.278534   7.922123         depot  0.010203          0.319913\n",
       "89    9.278534   7.922123         depöt  0.010064          0.319913\n",
       "153  11.056243   8.618883       sidings  0.010036          0.326942\n",
       "204  10.405899   3.443683       railrny  0.010027          0.350889\n",
       "16    8.525537   5.658059      junction  0.010403          0.366471\n",
       "43   15.886917  10.987850          coal  0.010154          0.367229\n",
       "25   12.822184   5.611756       tramway  0.010236          0.372523\n",
       "162  15.910664  10.663793           oil  0.010034          0.412238\n",
       "84   12.794342  -8.938908         acton  0.010073          0.426879\n",
       "136  -5.298541  10.957121  metropolitan  0.010041          0.428845\n",
       "55   17.544941  -2.227321       western  0.010111          0.431744\n",
       "141  10.544653 -12.907124         epsom  0.010040          0.433369\n",
       "48   16.051743   9.380505           gas  0.010121          0.437602\n",
       "71   -1.528320   3.568154      crossing  0.010082          0.441916\n",
       "239   2.504843  -1.770919          lonc  0.010022          0.442073"
      ]
     },
     "execution_count": 184,
     "metadata": {},
     "output_type": "execute_result"
    }
   ],
   "source": [
    "data.sort_values('sem_dist_to_rail').head(20)"
   ]
  },
  {
   "cell_type": "code",
   "execution_count": 185,
   "metadata": {},
   "outputs": [],
   "source": [
    "#data.sort_values('sem_dist_to_rail').tail(30)"
   ]
  },
  {
   "cell_type": "code",
   "execution_count": 186,
   "metadata": {},
   "outputs": [],
   "source": [
    "other_sentence_embeddings = model.encode(other_labels)\n"
   ]
  },
  {
   "cell_type": "code",
   "execution_count": 187,
   "metadata": {},
   "outputs": [
    {
     "data": {
      "text/html": [
       "<div>\n",
       "<style scoped>\n",
       "    .dataframe tbody tr th:only-of-type {\n",
       "        vertical-align: middle;\n",
       "    }\n",
       "\n",
       "    .dataframe tbody tr th {\n",
       "        vertical-align: top;\n",
       "    }\n",
       "\n",
       "    .dataframe thead th {\n",
       "        text-align: right;\n",
       "    }\n",
       "</style>\n",
       "<table border=\"1\" class=\"dataframe\">\n",
       "  <thead>\n",
       "    <tr style=\"text-align: right;\">\n",
       "      <th></th>\n",
       "      <th>0</th>\n",
       "      <th>1</th>\n",
       "    </tr>\n",
       "  </thead>\n",
       "  <tbody>\n",
       "    <tr>\n",
       "      <th>147</th>\n",
       "      <td>mount</td>\n",
       "      <td>0.428515</td>\n",
       "    </tr>\n",
       "    <tr>\n",
       "      <th>37</th>\n",
       "      <td>highfield</td>\n",
       "      <td>0.43671</td>\n",
       "    </tr>\n",
       "    <tr>\n",
       "      <th>86</th>\n",
       "      <td>rookery</td>\n",
       "      <td>0.442314</td>\n",
       "    </tr>\n",
       "    <tr>\n",
       "      <th>84</th>\n",
       "      <td>room</td>\n",
       "      <td>0.464251</td>\n",
       "    </tr>\n",
       "    <tr>\n",
       "      <th>167</th>\n",
       "      <td>chapel</td>\n",
       "      <td>0.467283</td>\n",
       "    </tr>\n",
       "    <tr>\n",
       "      <th>151</th>\n",
       "      <td>court</td>\n",
       "      <td>0.469564</td>\n",
       "    </tr>\n",
       "    <tr>\n",
       "      <th>36</th>\n",
       "      <td>coppice</td>\n",
       "      <td>0.469885</td>\n",
       "    </tr>\n",
       "    <tr>\n",
       "      <th>18</th>\n",
       "      <td>hurst</td>\n",
       "      <td>0.47321</td>\n",
       "    </tr>\n",
       "    <tr>\n",
       "      <th>43</th>\n",
       "      <td>bed</td>\n",
       "      <td>0.473819</td>\n",
       "    </tr>\n",
       "    <tr>\n",
       "      <th>88</th>\n",
       "      <td>shaft</td>\n",
       "      <td>0.476284</td>\n",
       "    </tr>\n",
       "    <tr>\n",
       "      <th>1</th>\n",
       "      <td>heathfield</td>\n",
       "      <td>0.477775</td>\n",
       "    </tr>\n",
       "    <tr>\n",
       "      <th>207</th>\n",
       "      <td>hill</td>\n",
       "      <td>0.478497</td>\n",
       "    </tr>\n",
       "    <tr>\n",
       "      <th>0</th>\n",
       "      <td>hart</td>\n",
       "      <td>0.480101</td>\n",
       "    </tr>\n",
       "    <tr>\n",
       "      <th>123</th>\n",
       "      <td>ground</td>\n",
       "      <td>0.484549</td>\n",
       "    </tr>\n",
       "    <tr>\n",
       "      <th>208</th>\n",
       "      <td>g.</td>\n",
       "      <td>0.485763</td>\n",
       "    </tr>\n",
       "    <tr>\n",
       "      <th>33</th>\n",
       "      <td>stairs</td>\n",
       "      <td>0.487456</td>\n",
       "    </tr>\n",
       "    <tr>\n",
       "      <th>194</th>\n",
       "      <td>church</td>\n",
       "      <td>0.48753</td>\n",
       "    </tr>\n",
       "    <tr>\n",
       "      <th>23</th>\n",
       "      <td>bell</td>\n",
       "      <td>0.488482</td>\n",
       "    </tr>\n",
       "    <tr>\n",
       "      <th>39</th>\n",
       "      <td>paul's</td>\n",
       "      <td>0.488891</td>\n",
       "    </tr>\n",
       "    <tr>\n",
       "      <th>153</th>\n",
       "      <td>avenue</td>\n",
       "      <td>0.491092</td>\n",
       "    </tr>\n",
       "  </tbody>\n",
       "</table>\n",
       "</div>"
      ],
      "text/plain": [
       "              0         1\n",
       "147       mount  0.428515\n",
       "37    highfield   0.43671\n",
       "86      rookery  0.442314\n",
       "84         room  0.464251\n",
       "167      chapel  0.467283\n",
       "151       court  0.469564\n",
       "36      coppice  0.469885\n",
       "18        hurst   0.47321\n",
       "43          bed  0.473819\n",
       "88        shaft  0.476284\n",
       "1    heathfield  0.477775\n",
       "207        hill  0.478497\n",
       "0          hart  0.480101\n",
       "123      ground  0.484549\n",
       "208          g.  0.485763\n",
       "33       stairs  0.487456\n",
       "194      church   0.48753\n",
       "23         bell  0.488482\n",
       "39       paul's  0.488891\n",
       "153      avenue  0.491092"
      ]
     },
     "execution_count": 187,
     "metadata": {},
     "output_type": "execute_result"
    }
   ],
   "source": [
    "pd.DataFrame.from_records([other_labels,\n",
    "              list(cosine_distances(other_sentence_embeddings, railspace.reshape(1, -1)).reshape(-1))],\n",
    "              ).T.sort_values(1).head(20)"
   ]
  },
  {
   "cell_type": "code",
   "execution_count": null,
   "metadata": {},
   "outputs": [],
   "source": []
  }
 ],
 "metadata": {
  "kernelspec": {
   "display_name": "ce",
   "language": "python",
   "name": "python3"
  },
  "language_info": {
   "codemirror_mode": {
    "name": "ipython",
    "version": 3
   },
   "file_extension": ".py",
   "mimetype": "text/x-python",
   "name": "python",
   "nbconvert_exporter": "python",
   "pygments_lexer": "ipython3",
   "version": "3.9.20"
  }
 },
 "nbformat": 4,
 "nbformat_minor": 2
}
