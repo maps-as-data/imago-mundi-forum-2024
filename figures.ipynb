{
 "cells": [
  {
   "cell_type": "markdown",
   "metadata": {},
   "source": [
    "## Figures notebook"
   ]
  },
  {
   "cell_type": "code",
   "execution_count": 29,
   "metadata": {},
   "outputs": [],
   "source": [
    "import geopandas as gpd\n",
    "from mapreader.utils.load_frames import load_from_csv, load_from_geojson\n",
    "from shapely import Polygon\n",
    "\n",
    "import matplotlib.pyplot as plt\n",
    "import folium\n",
    "import xyzservices as xyz"
   ]
  },
  {
   "cell_type": "markdown",
   "metadata": {},
   "source": [
    "### Load 100 meter patches (classification)"
   ]
  },
  {
   "cell_type": "code",
   "execution_count": 30,
   "metadata": {},
   "outputs": [],
   "source": [
    "patches = load_from_csv(\"../post_processed_railspace_predictions_patch_df.csv\")"
   ]
  },
  {
   "cell_type": "code",
   "execution_count": 31,
   "metadata": {},
   "outputs": [],
   "source": [
    "patches.to_file(\"../post_processed_railspace_predictions_patch_df.geojson\")"
   ]
  },
  {
   "cell_type": "markdown",
   "metadata": {},
   "source": [
    "### Load 1000 pixel patches (text)"
   ]
  },
  {
   "cell_type": "code",
   "execution_count": 32,
   "metadata": {},
   "outputs": [],
   "source": [
    "patches_1000pixel = load_from_csv(\"../1000pixel_patch_df.csv\")"
   ]
  },
  {
   "cell_type": "code",
   "execution_count": 33,
   "metadata": {},
   "outputs": [],
   "source": [
    "patches_1000pixel.to_file(\"../1000pixel_patch_df.geojson\")"
   ]
  },
  {
   "cell_type": "markdown",
   "metadata": {},
   "source": [
    "### Set up tiles"
   ]
  },
  {
   "cell_type": "code",
   "execution_count": 34,
   "metadata": {},
   "outputs": [],
   "source": [
    "tiles = xyz.TileProvider(\n",
    "    name=\"OS 2nd Edition - 6 inch\",\n",
    "    url=\"https://api.maptiler.com/tiles/uk-osgb1888/{z}/{x}/{y}?key=5f6FYax2HhTa0Z9RfXsp\",\n",
    "    attribution=\"NLS\",\n",
    ")"
   ]
  },
  {
   "cell_type": "markdown",
   "metadata": {},
   "source": [
    "### Plot"
   ]
  },
  {
   "cell_type": "code",
   "execution_count": 35,
   "metadata": {},
   "outputs": [],
   "source": [
    "# m = patches.explore(color=\"red\", style_kwds={\"weight\":1}, tiles=tiles) # takes a long time due to the large number of patches"
   ]
  },
  {
   "cell_type": "code",
   "execution_count": 36,
   "metadata": {},
   "outputs": [],
   "source": [
    "# m.save(\"100meter_patches_map.html\")"
   ]
  },
  {
   "cell_type": "code",
   "execution_count": 37,
   "metadata": {},
   "outputs": [
    {
     "data": {
      "text/plain": [
       "586275"
      ]
     },
     "execution_count": 37,
     "metadata": {},
     "output_type": "execute_result"
    }
   ],
   "source": [
    "len(patches)"
   ]
  },
  {
   "cell_type": "code",
   "execution_count": null,
   "metadata": {},
   "outputs": [],
   "source": [
    "patch = patches[patches[\"parent_id\"]==\"map_96805026.png\"] # choose a single parent\n",
    "patch_x, patch_y = [patch.centroid.x[0], patch.centroid.y[0]] # get centroid\n",
    "\n",
    "m = patch[patch[\"new_predicted_label\"]==\"railspace\"].explore(color=\"red\", style_kwds={\"weight\":1, \"fill\": False}, tiles=tiles) # plot patch boundary\n",
    "\n",
    "m"
   ]
  },
  {
   "cell_type": "code",
   "execution_count": 45,
   "metadata": {},
   "outputs": [],
   "source": [
    "patch.to_file(\"patches.geojson\") # for QGIS"
   ]
  },
  {
   "cell_type": "code",
   "execution_count": 46,
   "metadata": {},
   "outputs": [],
   "source": [
    "m.save(\"100meter_patches_map.html\")"
   ]
  },
  {
   "cell_type": "code",
   "execution_count": 47,
   "metadata": {},
   "outputs": [],
   "source": [
    "patch_railspace = patch[patch[\"new_predicted_label\"]==\"railspace\"] # get only railspace patches"
   ]
  },
  {
   "cell_type": "markdown",
   "metadata": {},
   "source": [
    "### Load text predictions (polygons)"
   ]
  },
  {
   "cell_type": "code",
   "execution_count": 14,
   "metadata": {},
   "outputs": [],
   "source": [
    "text = load_from_geojson(\"../geo_predictions_deduplicated.geojson\")"
   ]
  },
  {
   "cell_type": "code",
   "execution_count": 15,
   "metadata": {},
   "outputs": [],
   "source": [
    "text_filtered = text.drop_duplicates(subset=['geometry','text']).reset_index(drop=True)"
   ]
  },
  {
   "cell_type": "code",
   "execution_count": 16,
   "metadata": {},
   "outputs": [],
   "source": [
    "text_filtered[\"polygon\"] = text_filtered[\"geometry\"]\n",
    "text_filtered[\"point\"] = text_filtered[\"geometry\"].centroid"
   ]
  },
  {
   "cell_type": "code",
   "execution_count": 17,
   "metadata": {},
   "outputs": [],
   "source": [
    "text_filtered_polygon = text_filtered.set_geometry(\"polygon\", drop=True)\n",
    "text_filtered_point = text_filtered.set_geometry(\"point\", drop=True)"
   ]
  },
  {
   "cell_type": "code",
   "execution_count": 18,
   "metadata": {},
   "outputs": [
    {
     "data": {
      "text/plain": [
       "253581"
      ]
     },
     "execution_count": 18,
     "metadata": {},
     "output_type": "execute_result"
    }
   ],
   "source": [
    "len(text_filtered)"
   ]
  },
  {
   "cell_type": "markdown",
   "metadata": {},
   "source": [
    "### Plot"
   ]
  },
  {
   "cell_type": "code",
   "execution_count": 19,
   "metadata": {},
   "outputs": [],
   "source": [
    "text_railspace = text_filtered[text_filtered.geometry.intersects(patch_railspace.unary_union)] # get only text within the railspace patches"
   ]
  },
  {
   "cell_type": "code",
   "execution_count": 20,
   "metadata": {},
   "outputs": [],
   "source": [
    "text_railspace.drop(columns=[\"point\", \"polygon\"]).to_file(\"text_railspace.geojson\")"
   ]
  },
  {
   "cell_type": "code",
   "execution_count": null,
   "metadata": {},
   "outputs": [],
   "source": [
    "m = patch_railspace.explore(style_kwds={\"weight\":2, \"fill\": False}, color=\"red\", tiles=tiles, cmap=\"viridis\") # plot patch boundary\n",
    "\n",
    "text_railspace.explore(tiles=tiles, color=\"blue\", size=5, m=m, style_kwds={\"fill\":False}) # plot text polygons\n"
   ]
  },
  {
   "cell_type": "code",
   "execution_count": 22,
   "metadata": {},
   "outputs": [],
   "source": [
    "m.save(\"text_on_railspace.html\")"
   ]
  },
  {
   "cell_type": "code",
   "execution_count": 23,
   "metadata": {},
   "outputs": [],
   "source": [
    "patch_1000pixel = patches_1000pixel[patches_1000pixel[\"parent_id\"]==\"map_96805026.png\"][8:9] # choose a single patch\n",
    "patch_1000pixel_x, patch_1000pixel_y = [patch_1000pixel.centroid.x[0], patch_1000pixel.centroid.y[0]] # get centroid"
   ]
  },
  {
   "cell_type": "code",
   "execution_count": 24,
   "metadata": {},
   "outputs": [],
   "source": [
    "patch_1000pixel.to_file(\"patch_1000pixel.geojson\")"
   ]
  },
  {
   "cell_type": "code",
   "execution_count": 25,
   "metadata": {},
   "outputs": [],
   "source": [
    "patch_text_polygon = text_filtered_polygon[text_filtered_polygon.geometry.intersects(patch_1000pixel.geometry[0])] # get text within patch\n",
    "patch_text_point = text_filtered_point[text_filtered_point.index.isin(patch_text_polygon.index)] # get text within patch"
   ]
  },
  {
   "cell_type": "code",
   "execution_count": 26,
   "metadata": {},
   "outputs": [],
   "source": [
    "patch_text_polygon.drop(columns=\"point\").to_file(\"patch_text_polygon.geojson\")\n",
    "patch_text_point.drop(columns=\"polygon\").to_file(\"patch_text_point.geojson\")"
   ]
  },
  {
   "cell_type": "code",
   "execution_count": null,
   "metadata": {},
   "outputs": [],
   "source": [
    "m = patch_1000pixel.explore(color=\"red\", style_kwds={\"weight\":1, \"fill\":False, \"weight\":4}, tiles=tiles) # plot patch boundary\n",
    "\n",
    "patch_text_polygon.explore(tiles=tiles, color=\"blue\", size=5, m=m, style_kwds={\"fill\":False}) # plot text polygons\n",
    "patch_text_point.explore(tiles=tiles, color=\"blue\", size=1, m=m) # plot text centroids"
   ]
  },
  {
   "cell_type": "code",
   "execution_count": 28,
   "metadata": {},
   "outputs": [],
   "source": [
    "m.save(\"1000pixel_text_map.html\")"
   ]
  },
  {
   "cell_type": "code",
   "execution_count": null,
   "metadata": {},
   "outputs": [],
   "source": []
  }
 ],
 "metadata": {
  "kernelspec": {
   "display_name": "mr_py312",
   "language": "python",
   "name": "python3"
  },
  "language_info": {
   "codemirror_mode": {
    "name": "ipython",
    "version": 3
   },
   "file_extension": ".py",
   "mimetype": "text/x-python",
   "name": "python",
   "nbconvert_exporter": "python",
   "pygments_lexer": "ipython3",
   "version": "3.12.2"
  }
 },
 "nbformat": 4,
 "nbformat_minor": 2
}
